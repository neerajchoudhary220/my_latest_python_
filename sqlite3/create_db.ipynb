{
 "cells": [
  {
   "cell_type": "code",
   "execution_count": 13,
   "id": "ca3578bd-1db0-458b-8a92-b5bf432947be",
   "metadata": {},
   "outputs": [
    {
     "name": "stdout",
     "output_type": "stream",
     "text": [
      "Db connected successfully !\n"
     ]
    }
   ],
   "source": [
    "import sqlite3\n",
    "conn = sqlite3.connect('my.db')\n",
    "print (\"Db connected successfully !\")"
   ]
  },
  {
   "cell_type": "code",
   "execution_count": 12,
   "id": "7d967be6-06d5-4731-873b-13fa129aee22",
   "metadata": {},
   "outputs": [
    {
     "name": "stdout",
     "output_type": "stream",
     "text": [
      "ID : 1, Name:Neeraj choudhary, Mobile:9950343943\n",
      "ID : 2, Name:Hari om, Mobile:999229229\n",
      "ID : 3, Name:Ram, Mobile:34339393\n",
      "ID : 4, Name:Rahim, Mobile:43434343434\n"
     ]
    }
   ],
   "source": [
    "#show data\n",
    "show_data = \"\"\"select id,name,mobile from persons; \"\"\"\n",
    "cursor = conn.execute(show_data)\n",
    "for row in cursor:\n",
    "    print(f\"ID : {row[0]}, Name:{row[1]}, Mobile:{row[2]}\")\n",
    "    "
   ]
  },
  {
   "cell_type": "code",
   "execution_count": 7,
   "id": "2888f9eb-dc05-4fda-9526-797ef499e09b",
   "metadata": {},
   "outputs": [
    {
     "name": "stdout",
     "output_type": "stream",
     "text": [
      "updated succefully\n"
     ]
    }
   ],
   "source": [
    "#update data\n",
    "conn.execute('''update persons set name=\"Hari om\" where id=2; ''')\n",
    "print(\"updated succefully\")\n"
   ]
  },
  {
   "cell_type": "code",
   "execution_count": 9,
   "id": "3c6483af-f4ce-4b7a-8bcc-e2538282c527",
   "metadata": {},
   "outputs": [
    {
     "name": "stdout",
     "output_type": "stream",
     "text": [
      "New column has been inserted\n"
     ]
    }
   ],
   "source": [
    "#insert new data\n",
    "insert_query = ''' insert into persons (name,mobile) values \n",
    "(\"Ram\",\"34339393\"),\n",
    "(\"Rahim\",\"43434343434\")\n",
    "'''\n",
    "conn.execute(insert_query)\n",
    "print(\"New column has been inserted\")"
   ]
  }
 ],
 "metadata": {
  "kernelspec": {
   "display_name": "Python 3 (ipykernel)",
   "language": "python",
   "name": "python3"
  },
  "language_info": {
   "codemirror_mode": {
    "name": "ipython",
    "version": 3
   },
   "file_extension": ".py",
   "mimetype": "text/x-python",
   "name": "python",
   "nbconvert_exporter": "python",
   "pygments_lexer": "ipython3",
   "version": "3.10.7"
  }
 },
 "nbformat": 4,
 "nbformat_minor": 5
}
