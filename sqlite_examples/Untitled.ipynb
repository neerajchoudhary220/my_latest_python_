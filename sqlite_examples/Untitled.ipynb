{
 "cells": [
  {
   "cell_type": "code",
   "execution_count": 1,
   "id": "44f57060-9209-4302-8482-10206790cc44",
   "metadata": {},
   "outputs": [
    {
     "data": {
      "text/plain": [
       "<sqlite3.Connection at 0x152b40d2140>"
      ]
     },
     "execution_count": 1,
     "metadata": {},
     "output_type": "execute_result"
    }
   ],
   "source": [
    "import sqlite3\n",
    "#create db\n",
    "conn = sqlite3.connect('D:/Neeraj/python/sqlite3/record.db')\n"
   ]
  },
  {
   "cell_type": "code",
   "execution_count": null,
   "id": "a4676da3-a879-4772-9dca-63246305198d",
   "metadata": {},
   "outputs": [],
   "source": [
    "#create table\n",
    "cursor = conn.execute('select)"
   ]
  }
 ],
 "metadata": {
  "kernelspec": {
   "display_name": "Python 3 (ipykernel)",
   "language": "python",
   "name": "python3"
  },
  "language_info": {
   "codemirror_mode": {
    "name": "ipython",
    "version": 3
   },
   "file_extension": ".py",
   "mimetype": "text/x-python",
   "name": "python",
   "nbconvert_exporter": "python",
   "pygments_lexer": "ipython3",
   "version": "3.10.7"
  }
 },
 "nbformat": 4,
 "nbformat_minor": 5
}
