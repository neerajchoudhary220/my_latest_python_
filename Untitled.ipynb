{
 "cells": [
  {
   "cell_type": "code",
   "execution_count": 8,
   "id": "55ee114d-4a4c-4c37-bf15-eb8abc545593",
   "metadata": {},
   "outputs": [
    {
     "data": {
      "application/javascript": [
       "let a=5,b=3;\n",
       "alert(a)\n",
       "console.log(a)\n"
      ],
      "text/plain": [
       "<IPython.core.display.Javascript object>"
      ]
     },
     "metadata": {},
     "output_type": "display_data"
    }
   ],
   "source": [
    "%%js\n",
    "let a=5,b=3;\n",
    "\n",
    "console.log(a)"
   ]
  },
  {
   "cell_type": "code",
   "execution_count": 6,
   "id": "853330fa-f1d0-4d7f-93cd-33586ddce2ea",
   "metadata": {},
   "outputs": [
    {
     "data": {
      "application/javascript": [
       "alert(a+b)\n"
      ],
      "text/plain": [
       "<IPython.core.display.Javascript object>"
      ]
     },
     "metadata": {},
     "output_type": "display_data"
    }
   ],
   "source": []
  },
  {
   "cell_type": "code",
   "execution_count": null,
   "id": "f356f9a6-6f1b-4a24-bf67-8036bf02b4c4",
   "metadata": {},
   "outputs": [],
   "source": []
  }
 ],
 "metadata": {
  "kernelspec": {
   "display_name": "Python 3 (ipykernel)",
   "language": "python",
   "name": "python3"
  },
  "language_info": {
   "codemirror_mode": {
    "name": "ipython",
    "version": 3
   },
   "file_extension": ".py",
   "mimetype": "text/x-python",
   "name": "python",
   "nbconvert_exporter": "python",
   "pygments_lexer": "ipython3",
   "version": "3.10.7"
  }
 },
 "nbformat": 4,
 "nbformat_minor": 5
}
