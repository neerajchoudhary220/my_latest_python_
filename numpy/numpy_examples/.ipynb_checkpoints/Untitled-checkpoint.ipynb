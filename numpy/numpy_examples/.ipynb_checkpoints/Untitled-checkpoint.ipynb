{
 "cells": [
  {
   "cell_type": "code",
   "execution_count": 157,
   "id": "a199c245-0f10-4b98-98b2-ea510411cb24",
   "metadata": {},
   "outputs": [
    {
     "name": "stdout",
     "output_type": "stream",
     "text": [
      "JPEG\n",
      "(272, 133)\n",
      "[[[255 255 255]\n",
      "  [255 255 255]\n",
      "  [255 255 255]\n",
      "  ...\n",
      "  [255 255 255]\n",
      "  [255 255 255]\n",
      "  [255 255 255]]\n",
      "\n",
      " [[255 255 255]\n",
      "  [255 255 255]\n",
      "  [255 255 255]\n",
      "  ...\n",
      "  [255 255 255]\n",
      "  [255 255 255]\n",
      "  [255 255 255]]\n",
      "\n",
      " [[255 255 255]\n",
      "  [255 255 255]\n",
      "  [255 255 255]\n",
      "  ...\n",
      "  [255 255 255]\n",
      "  [255 255 255]\n",
      "  [255 255 255]]\n",
      "\n",
      " ...\n",
      "\n",
      " [[255 255 255]\n",
      "  [255 255 255]\n",
      "  [255 255 255]\n",
      "  ...\n",
      "  [255 255 255]\n",
      "  [255 255 255]\n",
      "  [255 255 255]]\n",
      "\n",
      " [[255 255 255]\n",
      "  [255 255 255]\n",
      "  [255 255 255]\n",
      "  ...\n",
      "  [255 255 255]\n",
      "  [255 255 255]\n",
      "  [255 255 255]]\n",
      "\n",
      " [[255 255 255]\n",
      "  [255 255 255]\n",
      "  [255 255 255]\n",
      "  ...\n",
      "  [255 255 255]\n",
      "  [255 255 255]\n",
      "  [255 255 255]]]\n"
     ]
    }
   ],
   "source": [
    "from PIL import Image\n",
    "import numpy as np\n",
    "f = r\"files\\wb.jpg\"\n",
    "image = Image.open(f)\n",
    "print(image.format)\n",
    "print(image.size)\n",
    "image_array = np.array(image)\n",
    "# image_array  np.asarray(image).sort()\n",
    "print(image_array)\n"
   ]
  },
  {
   "cell_type": "code",
   "execution_count": 158,
   "id": "010d16b5-11ee-45d0-ad59-7690d0b3f7e0",
   "metadata": {},
   "outputs": [
    {
     "name": "stdout",
     "output_type": "stream",
     "text": [
      "Total elements: 108528\n",
      "(133, 272, 3)\n"
     ]
    }
   ],
   "source": [
    "# print(arr[17,65,0])\n",
    "print(\"Total elements:\",arr.size)\n",
    "print(arr.shape)"
   ]
  },
  {
   "cell_type": "code",
   "execution_count": 159,
   "id": "e5f3a1fc-c1d0-41e5-9e66-afa914f8e5f8",
   "metadata": {},
   "outputs": [],
   "source": [
    "#show image\n",
    "# image.show()"
   ]
  },
  {
   "cell_type": "code",
   "execution_count": 160,
   "id": "24fb3eb2-af34-4dd5-a13c-2abe57855a1b",
   "metadata": {},
   "outputs": [
    {
     "name": "stdout",
     "output_type": "stream",
     "text": [
      "RGB\n"
     ]
    }
   ],
   "source": [
    "#mode fo image\n",
    "print(image.mode)"
   ]
  },
  {
   "cell_type": "code",
   "execution_count": 161,
   "id": "5f211eaa-db01-491c-9157-0b75b7b59a17",
   "metadata": {},
   "outputs": [],
   "source": [
    "image.load()\n",
    "r,g,b=image.split()"
   ]
  },
  {
   "cell_type": "code",
   "execution_count": 162,
   "id": "1ec603b1-4a74-4904-a024-42f2f5a9f589",
   "metadata": {},
   "outputs": [],
   "source": [
    "# new_img = Image.merge('RGB',(255,255,255))\n",
    "# new_img.show()"
   ]
  },
  {
   "cell_type": "code",
   "execution_count": null,
   "id": "ea07885b-2fe6-41fa-b1eb-039e2b7f6c4d",
   "metadata": {},
   "outputs": [],
   "source": []
  },
  {
   "cell_type": "code",
   "execution_count": 163,
   "id": "04e3388f-b0bc-4204-9aa8-e80ab86a55fb",
   "metadata": {},
   "outputs": [
    {
     "name": "stdout",
     "output_type": "stream",
     "text": [
      "(array([ 17,  17,  17, ..., 103, 103, 103], dtype=int64), array([ 65,  65,  65, ..., 201, 201, 201], dtype=int64), array([0, 1, 2, ..., 0, 1, 2], dtype=int64))\n",
      "3\n"
     ]
    }
   ],
   "source": [
    "arr = np.array(image)\n",
    "black = np.where(arr==0)\n",
    "print(black)\n",
    "print(arr.ndim)\n"
   ]
  },
  {
   "cell_type": "code",
   "execution_count": 164,
   "id": "0fb30528-47da-47fe-9212-15f93cfc583f",
   "metadata": {},
   "outputs": [],
   "source": [
    "# arr[17,65,0]=\n",
    "# img = Image.fromarray(n_arr,\"RGB\")\n",
    "# img.show()"
   ]
  },
  {
   "cell_type": "code",
   "execution_count": 165,
   "id": "819121d8-e870-44cc-a736-8fba80669876",
   "metadata": {},
   "outputs": [
    {
     "name": "stdout",
     "output_type": "stream",
     "text": [
      "[255 255 255]\n"
     ]
    }
   ],
   "source": [
    "print(arr[0,1])"
   ]
  },
  {
   "cell_type": "code",
   "execution_count": 166,
   "id": "d7344543-8d1e-48e6-bab2-8f71ecc88da8",
   "metadata": {},
   "outputs": [
    {
     "name": "stdout",
     "output_type": "stream",
     "text": [
      "133\n",
      "272\n"
     ]
    }
   ],
   "source": [
    "rows = arr.shape[0]\n",
    "columns = arr.shape[1]\n",
    "print(rows)\n",
    "print(columns)"
   ]
  },
  {
   "cell_type": "code",
   "execution_count": 167,
   "id": "f7fcfcc1-d27a-4828-9c1c-c1a9ebe8c302",
   "metadata": {},
   "outputs": [],
   "source": [
    "white_ = np.array([255,255,255])\n",
    "for row in range(rows):\n",
    "    for column in range(columns):\n",
    "        check_ = np.array_equal(arr[row,column],white_)\n",
    "        if not check_:\n",
    "            arr[row,column]=0,255,0\n",
    "        # print(arr[row,column])\n",
    "        "
   ]
  },
  {
   "cell_type": "code",
   "execution_count": 168,
   "id": "d84de049-2b2f-49b7-9485-1f6d14e16217",
   "metadata": {},
   "outputs": [],
   "source": [
    "# img = Image.fromarray(arr,\"RGB\")\n",
    "# img.show()"
   ]
  },
  {
   "cell_type": "code",
   "execution_count": 169,
   "id": "aa0ce74a-ea3d-4e70-8eb2-361b771d2e7a",
   "metadata": {},
   "outputs": [],
   "source": [
    "# crop image using array\n",
    "for row in range(rows):\n",
    "    for column in range(columns):\n",
    "        check_ = np.array_equal(arr[row,column],np.array([255,255,255]))\n",
    "        if check_:\n",
    "            arr[row,column]=255,0,0\n",
    "        # print(arr[row,column])"
   ]
  },
  {
   "cell_type": "code",
   "execution_count": 170,
   "id": "1a018dc1-e272-47d0-8510-e9c1696c5625",
   "metadata": {},
   "outputs": [],
   "source": [
    "a = Image.fromarray(arr,\"RGB\")\n",
    "a.show()"
   ]
  },
  {
   "cell_type": "code",
   "execution_count": null,
   "id": "cd55b713-27c5-4e38-a5af-1ac571995073",
   "metadata": {},
   "outputs": [],
   "source": []
  }
 ],
 "metadata": {
  "kernelspec": {
   "display_name": "Python 3 (ipykernel)",
   "language": "python",
   "name": "python3"
  },
  "language_info": {
   "codemirror_mode": {
    "name": "ipython",
    "version": 3
   },
   "file_extension": ".py",
   "mimetype": "text/x-python",
   "name": "python",
   "nbconvert_exporter": "python",
   "pygments_lexer": "ipython3",
   "version": "3.10.7"
  }
 },
 "nbformat": 4,
 "nbformat_minor": 5
}
