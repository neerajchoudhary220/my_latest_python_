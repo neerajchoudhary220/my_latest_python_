{
 "cells": [
  {
   "cell_type": "code",
   "execution_count": 10,
   "id": "2f3f6caf-312f-4e02-8088-61a1ed5232b7",
   "metadata": {},
   "outputs": [
    {
     "name": "stdout",
     "output_type": "stream",
     "text": [
      "[ 0  0  0  0  2  3 10 10 11 11 12 20 20 20 22 22 22 23 33]\n",
      "[ 0  2  3 10 11 12 20 22 23 33]\n"
     ]
    }
   ],
   "source": [
    "import numpy as np\n",
    "myarr = np.array([0,0,0,10,22,3,2,33,22,12,10,11,20,11,20,22,20,0,23])\n",
    "myarr.sort()\n",
    "unique_values = np.unique(myarr)\n",
    "print(unique_values)\n"
   ]
  },
  {
   "cell_type": "code",
   "execution_count": 9,
   "id": "9f76dd68-7761-4a80-b523-94df39b4761a",
   "metadata": {},
   "outputs": [
    {
     "name": "stdout",
     "output_type": "stream",
     "text": [
      "{0: 4, 2: 1, 3: 1, 10: 2, 11: 2, 12: 1, 20: 3, 22: 3, 23: 1, 33: 1}\n"
     ]
    }
   ],
   "source": [
    "unique_values,counts = np.unique(myarr,return_counts=True)\n",
    "dict_ = dict(zip(unique_values,counts))\n",
    "print(dict_)"
   ]
  },
  {
   "cell_type": "code",
   "execution_count": null,
   "id": "51b0145d-4936-4899-9e5f-85dce685129b",
   "metadata": {},
   "outputs": [],
   "source": []
  }
 ],
 "metadata": {
  "kernelspec": {
   "display_name": "Python 3 (ipykernel)",
   "language": "python",
   "name": "python3"
  },
  "language_info": {
   "codemirror_mode": {
    "name": "ipython",
    "version": 3
   },
   "file_extension": ".py",
   "mimetype": "text/x-python",
   "name": "python",
   "nbconvert_exporter": "python",
   "pygments_lexer": "ipython3",
   "version": "3.10.7"
  }
 },
 "nbformat": 4,
 "nbformat_minor": 5
}
