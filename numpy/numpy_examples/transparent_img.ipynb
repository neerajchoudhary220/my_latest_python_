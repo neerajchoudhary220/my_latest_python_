{
 "cells": [
  {
   "cell_type": "code",
   "execution_count": null,
   "id": "fb82a343-4a28-4f6b-81f7-9f986e147016",
   "metadata": {},
   "outputs": [],
   "source": [
    "from PIL import Image\n",
    "import numpy as np\n",
    "f = r\"files/home.png\"\n",
    "image = Image.open(f)\n",
    "# image.show()\n",
    "# print(image.size)\n",
    "\n",
    "arr = np.array(image)\n",
    "\n",
    "rows = arr.shape[0]\n",
    "columns = arr.shape[1]\n",
    "\n",
    "white_ = np.array([255,255,255,255])\n",
    "for row in range(rows):\n",
    "    for column in range(columns):\n",
    "        check_ = np.array_equal(arr[row,column],white_)\n",
    "        if check_:\n",
    "            arr[row,column] = 0,0,0,0\n",
    "\n",
    "\n",
    "img = Image.fromarray(arr)\n",
    "img.show()\n",
    "\n",
    "img.save('files/new.png')"
   ]
  }
 ],
 "metadata": {
  "kernelspec": {
   "display_name": "Python 3 (ipykernel)",
   "language": "python",
   "name": "python3"
  },
  "language_info": {
   "codemirror_mode": {
    "name": "ipython",
    "version": 3
   },
   "file_extension": ".py",
   "mimetype": "text/x-python",
   "name": "python",
   "nbconvert_exporter": "python",
   "pygments_lexer": "ipython3",
   "version": "3.10.7"
  }
 },
 "nbformat": 4,
 "nbformat_minor": 5
}
