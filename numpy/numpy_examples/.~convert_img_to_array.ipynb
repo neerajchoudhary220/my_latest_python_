{
 "cells": [
  {
   "cell_type": "code",
   "execution_count": 4,
   "id": "0cbf64e0-0035-4f9d-b64f-9a61db8c0577",
   "metadata": {},
   "outputs": [
    {
     "ename": "SyntaxError",
     "evalue": "invalid syntax (1824940876.py, line 1)",
     "output_type": "error",
     "traceback": [
      "\u001b[1;36m  Cell \u001b[1;32mIn[4], line 1\u001b[1;36m\u001b[0m\n\u001b[1;33m    form pil import Image\u001b[0m\n\u001b[1;37m         ^\u001b[0m\n\u001b[1;31mSyntaxError\u001b[0m\u001b[1;31m:\u001b[0m invalid syntax\n"
     ]
    }
   ],
   "source": [
    "form pil import Image\n",
    "f = r\"/files/white.png\"\n",
    "image = Image.open(f)\n",
    "print(image.format)"
   ]
  },
  {
   "cell_type": "code",
   "execution_count": null,
   "id": "3355578e-79cc-4a4d-bc7b-102ddf3c10de",
   "metadata": {},
   "outputs": [],
   "source": []
  }
 ],
 "metadata": {
  "kernelspec": {
   "display_name": "Python 3 (ipykernel)",
   "language": "python",
   "name": "python3"
  },
  "language_info": {
   "codemirror_mode": {
    "name": "ipython",
    "version": 3
   },
   "file_extension": ".py",
   "mimetype": "text/x-python",
   "name": "python",
   "nbconvert_exporter": "python",
   "pygments_lexer": "ipython3",
   "version": "3.10.7"
  }
 },
 "nbformat": 4,
 "nbformat_minor": 5
}
