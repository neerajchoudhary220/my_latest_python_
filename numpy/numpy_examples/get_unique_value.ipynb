{
 "cells": [
  {
   "cell_type": "code",
   "execution_count": 11,
   "id": "2f3f6caf-312f-4e02-8088-61a1ed5232b7",
   "metadata": {},
   "outputs": [
    {
     "name": "stdout",
     "output_type": "stream",
     "text": [
      "[ 0  2  3 10 11 12 20 22 23 33]\n"
     ]
    }
   ],
   "source": [
    "import numpy as np\n",
    "myarr = np.array([0,0,0,10,22,3,2,33,22,12,10,11,20,11,20,22,20,0,23])\n",
    "myarr.sort()\n",
    "unique_values = np.unique(myarr)\n",
    "print(unique_values)\n"
   ]
  },
  {
   "cell_type": "code",
   "execution_count": 34,
   "id": "9f76dd68-7761-4a80-b523-94df39b4761a",
   "metadata": {},
   "outputs": [
    {
     "name": "stdout",
     "output_type": "stream",
     "text": [
      "{0: 4, 2: 1, 3: 1, 10: 2, 11: 2, 12: 1, 20: 3, 22: 3, 23: 1, 33: 1}\n",
      "[[ 0  2  3 10 11 12 20 22 23 33]\n",
      " [ 4  1  1  2  2  1  3  3  1  1]]\n"
     ]
    }
   ],
   "source": [
    "unique_values,counts = np.unique(myarr,return_counts=True)\n",
    "dict_ = dict(zip(unique_values,counts))\n",
    "print(dict_)\n",
    "print(np.asarray((unique_values,counts)))"
   ]
  },
  {
   "cell_type": "code",
   "execution_count": 36,
   "id": "967e3979-aec0-400e-addc-7afacf06c179",
   "metadata": {},
   "outputs": [
    {
     "name": "stdout",
     "output_type": "stream",
     "text": [
      "[[ 0  4]\n",
      " [ 2  1]\n",
      " [ 3  1]\n",
      " [10  2]\n",
      " [11  2]\n",
      " [12  1]\n",
      " [20  3]\n",
      " [22  3]\n",
      " [23  1]\n",
      " [33  1]]\n"
     ]
    }
   ],
   "source": [
    "print(np.asarray((unique_values,counts)).T)"
   ]
  },
  {
   "cell_type": "code",
   "execution_count": 20,
   "id": "51b0145d-4936-4899-9e5f-85dce685129b",
   "metadata": {},
   "outputs": [
    {
     "name": "stdout",
     "output_type": "stream",
     "text": [
      "{'Mango': 30, 'Grapes': 100, 'Orange': 230}\n"
     ]
    }
   ],
   "source": [
    "#convert two equal size array to dictionary\n",
    "fruits = np.array([\"Mango\",\"Grapes\",\"Orange\"])\n",
    "prices = np.array([30,100,230])\n",
    "\n",
    "combine = dict(zip(fruits,prices))\n",
    "print(combine)\n"
   ]
  },
  {
   "cell_type": "code",
   "execution_count": 24,
   "id": "9475856f-6e7e-4ec0-a559-771d30847e84",
   "metadata": {},
   "outputs": [
    {
     "name": "stdout",
     "output_type": "stream",
     "text": [
      "[['Mango' 'Grapes' 'Orange']\n",
      " ['30' '100' '230']]\n"
     ]
    }
   ],
   "source": [
    "#convert numarray fruits and prices\n",
    "result = np.asarray((fruits,prices))\n",
    "print(result)"
   ]
  },
  {
   "cell_type": "code",
   "execution_count": null,
   "id": "cb040ba5-ef14-4fc5-9d57-7debbdbe69c4",
   "metadata": {},
   "outputs": [],
   "source": []
  }
 ],
 "metadata": {
  "kernelspec": {
   "display_name": "Python 3 (ipykernel)",
   "language": "python",
   "name": "python3"
  },
  "language_info": {
   "codemirror_mode": {
    "name": "ipython",
    "version": 3
   },
   "file_extension": ".py",
   "mimetype": "text/x-python",
   "name": "python",
   "nbconvert_exporter": "python",
   "pygments_lexer": "ipython3",
   "version": "3.10.7"
  }
 },
 "nbformat": 4,
 "nbformat_minor": 5
}
