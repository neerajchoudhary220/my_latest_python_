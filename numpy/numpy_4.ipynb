{
 "cells": [
  {
   "cell_type": "code",
   "execution_count": 4,
   "id": "a358cae0-7fd8-444b-9b01-f13277bbe5db",
   "metadata": {},
   "outputs": [
    {
     "name": "stdout",
     "output_type": "stream",
     "text": [
      "[[ 1  2  3]\n",
      " [22 33 22]\n",
      " [ 0  0 10]]\n"
     ]
    }
   ],
   "source": [
    "import numpy as np\n",
    "mt = np.array([[1,2,3],[22,33,22],[0,0,10]])\n",
    "print(mt)"
   ]
  },
  {
   "cell_type": "code",
   "execution_count": 7,
   "id": "e0e2127b-459e-41c8-a356-e2748e7dc807",
   "metadata": {},
   "outputs": [
    {
     "data": {
      "text/plain": [
       "2"
      ]
     },
     "execution_count": 7,
     "metadata": {},
     "output_type": "execute_result"
    }
   ],
   "source": [
    "mt.ndim"
   ]
  },
  {
   "cell_type": "code",
   "execution_count": 8,
   "id": "28b7b793-6bad-42a9-93c4-f02f47c7fd17",
   "metadata": {},
   "outputs": [
    {
     "data": {
      "text/plain": [
       "(3, 3)"
      ]
     },
     "execution_count": 8,
     "metadata": {},
     "output_type": "execute_result"
    }
   ],
   "source": [
    "mt.shape"
   ]
  },
  {
   "cell_type": "code",
   "execution_count": 9,
   "id": "a3987e96-c321-42ce-acd8-9398138b4288",
   "metadata": {},
   "outputs": [
    {
     "data": {
      "text/plain": [
       "9"
      ]
     },
     "execution_count": 9,
     "metadata": {},
     "output_type": "execute_result"
    }
   ],
   "source": [
    "mt.size"
   ]
  },
  {
   "cell_type": "code",
   "execution_count": 15,
   "id": "5e22654d-0610-4e23-8b7e-8f72b8334426",
   "metadata": {},
   "outputs": [
    {
     "name": "stdout",
     "output_type": "stream",
     "text": [
      "[1. 1. 1. 1.]\n"
     ]
    }
   ],
   "source": [
    "#use ones\n",
    "my = np.ones(4)\n",
    "print(my)"
   ]
  },
  {
   "cell_type": "code",
   "execution_count": 23,
   "id": "5e641919-4866-4cae-9d1f-384036d448b6",
   "metadata": {},
   "outputs": [
    {
     "name": "stdout",
     "output_type": "stream",
     "text": [
      "[[1. 1. 1. 1.]\n",
      " [1. 1. 1. 1.]\n",
      " [1. 1. 1. 1.]]\n"
     ]
    }
   ],
   "source": [
    "my = np.ones((3,4))\n",
    "print(my)"
   ]
  },
  {
   "cell_type": "code",
   "execution_count": 24,
   "id": "6db6f3cb-2a47-4ea6-9521-6df9ea510377",
   "metadata": {},
   "outputs": [
    {
     "data": {
      "text/plain": [
       "dtype('float64')"
      ]
     },
     "execution_count": 24,
     "metadata": {},
     "output_type": "execute_result"
    }
   ],
   "source": [
    "my.dtype"
   ]
  },
  {
   "cell_type": "code",
   "execution_count": 38,
   "id": "de9484c0-d125-4df3-b29f-80f89fe56d23",
   "metadata": {},
   "outputs": [
    {
     "name": "stdout",
     "output_type": "stream",
     "text": [
      "[[1 1]\n",
      " [1 1]]\n"
     ]
    }
   ],
   "source": [
    "my = np.ones((2,2),int)\n",
    "print(my)"
   ]
  },
  {
   "cell_type": "code",
   "execution_count": 42,
   "id": "724c090f-ce53-4aea-be8a-4cd240c495e0",
   "metadata": {},
   "outputs": [
    {
     "name": "stdout",
     "output_type": "stream",
     "text": [
      "[[0 0 0 0 0]\n",
      " [0 0 0 0 0]\n",
      " [0 0 0 0 0]]\n"
     ]
    }
   ],
   "source": [
    "#0 matrics\n",
    "zero = np.zeros((3,5),int)\n",
    "print(zero)"
   ]
  },
  {
   "cell_type": "code",
   "execution_count": 77,
   "id": "c12fb86e-c9c8-44a1-9ce8-86cd41f64fb9",
   "metadata": {},
   "outputs": [],
   "source": [
    "#emtpy array using empty"
   ]
  },
  {
   "cell_type": "code",
   "execution_count": 78,
   "id": "c7067c3a-4486-46fd-980b-d1e4e58a8615",
   "metadata": {},
   "outputs": [
    {
     "name": "stdout",
     "output_type": "stream",
     "text": [
      "[[         0 1072693248          0 1072693248]\n",
      " [         0 1072693248          0 1072693248]]\n"
     ]
    }
   ],
   "source": [
    "\n",
    "em_arr = np.empty((2,4),int)\n",
    "print(em_arr)"
   ]
  },
  {
   "cell_type": "code",
   "execution_count": null,
   "id": "a1bd28fd-1d51-4325-be92-1d214fe82022",
   "metadata": {},
   "outputs": [],
   "source": []
  }
 ],
 "metadata": {
  "kernelspec": {
   "display_name": "Python 3 (ipykernel)",
   "language": "python",
   "name": "python3"
  },
  "language_info": {
   "codemirror_mode": {
    "name": "ipython",
    "version": 3
   },
   "file_extension": ".py",
   "mimetype": "text/x-python",
   "name": "python",
   "nbconvert_exporter": "python",
   "pygments_lexer": "ipython3",
   "version": "3.10.7"
  }
 },
 "nbformat": 4,
 "nbformat_minor": 5
}
