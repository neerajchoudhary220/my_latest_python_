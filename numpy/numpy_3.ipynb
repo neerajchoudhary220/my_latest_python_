{
 "cells": [
  {
   "cell_type": "code",
   "execution_count": 2,
   "id": "426dff76-2240-4f8d-a554-8d9199353507",
   "metadata": {},
   "outputs": [],
   "source": [
    "import numpy as np\n"
   ]
  },
  {
   "cell_type": "code",
   "execution_count": 3,
   "id": "5af9057e-5fe1-4355-95bf-94a10c8ca9e0",
   "metadata": {},
   "outputs": [
    {
     "name": "stdout",
     "output_type": "stream",
     "text": [
      "[ 1  2  3  4  5  6  7  8  9 10 11 12]\n"
     ]
    }
   ],
   "source": [
    "#use arrange \n",
    "my_arr1 = np.arange(1,13)\n",
    "print(my_arr1)"
   ]
  },
  {
   "cell_type": "code",
   "execution_count": 38,
   "id": "18c36417-ddd7-485d-9ea9-8c9c69bbf1aa",
   "metadata": {},
   "outputs": [
    {
     "name": "stdout",
     "output_type": "stream",
     "text": [
      "[ 0  5 10 15 20 25 30 35 40 45 50 55 60 65 70 75 80 85 90 95]\n"
     ]
    }
   ],
   "source": [
    "my_arr = np.arange(0,100,5,int)\n",
    "print(my_arr)"
   ]
  },
  {
   "cell_type": "code",
   "execution_count": 32,
   "id": "f8d5e634-a550-4e83-83dd-769fd0b414f4",
   "metadata": {},
   "outputs": [
    {
     "name": "stdout",
     "output_type": "stream",
     "text": [
      "[ 1  2  3  4  5  6  7  8  9 10]\n"
     ]
    }
   ],
   "source": [
    "#linspace\n",
    "line_space = np.linspace(1,10,10, True,False,int)\n",
    "print(line_space)"
   ]
  },
  {
   "cell_type": "code",
   "execution_count": 14,
   "id": "98dd9973-c152-4c78-b574-436d25cc478d",
   "metadata": {},
   "outputs": [
    {
     "name": "stdout",
     "output_type": "stream",
     "text": [
      "[[ 1  2  3  4]\n",
      " [ 5  6  7  8]\n",
      " [ 9 10 11 12]]\n"
     ]
    }
   ],
   "source": [
    "#reshape()\n",
    "mynew_arr = my_arr1.reshape(3,4)\n",
    "print(mynew_arr)"
   ]
  },
  {
   "cell_type": "code",
   "execution_count": 7,
   "id": "d8cf9b81-3400-49ce-8de3-2834e7b44cec",
   "metadata": {},
   "outputs": [
    {
     "name": "stdout",
     "output_type": "stream",
     "text": [
      "[[ 1  2]\n",
      " [ 3  4]\n",
      " [ 5  6]\n",
      " [ 7  8]\n",
      " [ 9 10]\n",
      " [11 12]]\n"
     ]
    }
   ],
   "source": [
    "re = mynew_arr.reshape(6,2)\n",
    "print(re)"
   ]
  },
  {
   "cell_type": "code",
   "execution_count": 8,
   "id": "4a047ff5-a3af-4d08-8053-6e74d57c2fe3",
   "metadata": {},
   "outputs": [
    {
     "name": "stdout",
     "output_type": "stream",
     "text": [
      "[ 1  2  3  4  5  6  7  8  9 10 11 12]\n"
     ]
    }
   ],
   "source": [
    "#ravel() \n",
    "rl = mynew_arr.ravel()\n",
    "print(rl)"
   ]
  },
  {
   "cell_type": "code",
   "execution_count": 9,
   "id": "4b084418-87af-457f-854b-a63d2f79a247",
   "metadata": {},
   "outputs": [
    {
     "name": "stdout",
     "output_type": "stream",
     "text": [
      "[ 1  2  3  4  5  6  7  8  9 10 11 12]\n"
     ]
    }
   ],
   "source": [
    "#flatten()\n",
    "fltn = mynew_arr.flatten()\n",
    "print(fltn)\n"
   ]
  },
  {
   "cell_type": "code",
   "execution_count": 10,
   "id": "386c6973-7c37-40e1-a152-90bdbf17887a",
   "metadata": {},
   "outputs": [
    {
     "name": "stdout",
     "output_type": "stream",
     "text": [
      "[ 1  5  9  2  6 10  3  7 11  4  8 12]\n"
     ]
    }
   ],
   "source": [
    "fltn = mynew_arr.flatten(order='F')\n",
    "print(fltn)"
   ]
  },
  {
   "cell_type": "code",
   "execution_count": 11,
   "id": "bad721c5-72f0-4221-b37d-3d9629b91c36",
   "metadata": {},
   "outputs": [
    {
     "name": "stdout",
     "output_type": "stream",
     "text": [
      "[[ 1  3  5  7  9 11]\n",
      " [ 2  4  6  8 10 12]]\n"
     ]
    }
   ],
   "source": [
    "#transpose()\n",
    "tr = re.transpose() #(6,2) ==>(2,6)\n",
    "print(tr)"
   ]
  },
  {
   "cell_type": "code",
   "execution_count": 25,
   "id": "d3ed6a62-6518-4462-9f1e-5d995ba40764",
   "metadata": {},
   "outputs": [
    {
     "name": "stdout",
     "output_type": "stream",
     "text": [
      "[[  3.46]\n",
      " [300.  ]]\n"
     ]
    }
   ],
   "source": [
    "#reshape more examles\n",
    "r = np.array([2,3,45,5])\n",
    "result = np.array([3.]).reshape(-1,1)\n",
    "print(result)"
   ]
  },
  {
   "cell_type": "code",
   "execution_count": null,
   "id": "121a3139-963d-42e4-b5da-b2a1d952d6b5",
   "metadata": {},
   "outputs": [],
   "source": []
  }
 ],
 "metadata": {
  "kernelspec": {
   "display_name": "Python 3 (ipykernel)",
   "language": "python",
   "name": "python3"
  },
  "language_info": {
   "codemirror_mode": {
    "name": "ipython",
    "version": 3
   },
   "file_extension": ".py",
   "mimetype": "text/x-python",
   "name": "python",
   "nbconvert_exporter": "python",
   "pygments_lexer": "ipython3",
   "version": "3.10.7"
  }
 },
 "nbformat": 4,
 "nbformat_minor": 5
}
