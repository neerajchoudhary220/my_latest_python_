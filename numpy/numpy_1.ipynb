{
 "cells": [
  {
   "cell_type": "code",
   "execution_count": 112,
   "id": "684696c0-7493-48ec-8e71-d1a695dbe1d3",
   "metadata": {},
   "outputs": [
    {
     "name": "stdout",
     "output_type": "stream",
     "text": [
      "[1 2 3]\n"
     ]
    }
   ],
   "source": [
    "import numpy as np\n",
    "myarray = np.array([1,2,3])\n",
    "print(myarray)"
   ]
  },
  {
   "cell_type": "code",
   "execution_count": 113,
   "id": "03ed703d-85b6-43e6-8d84-0dc977e8391f",
   "metadata": {
    "scrolled": true
   },
   "outputs": [
    {
     "data": {
      "text/plain": [
       "numpy.ndarray"
      ]
     },
     "execution_count": 113,
     "metadata": {},
     "output_type": "execute_result"
    }
   ],
   "source": [
    "type(myarray)"
   ]
  },
  {
   "cell_type": "code",
   "execution_count": 114,
   "id": "0dd4f02b-913c-4fca-928c-8838b3f8342d",
   "metadata": {},
   "outputs": [
    {
     "data": {
      "text/plain": [
       "2"
      ]
     },
     "execution_count": 114,
     "metadata": {},
     "output_type": "execute_result"
    }
   ],
   "source": [
    "_2d_array = np.array([[22,30,232,33],[22,12,12,22]])\n",
    "_2d_array.ndim"
   ]
  },
  {
   "cell_type": "code",
   "execution_count": 115,
   "id": "b3070065-845a-4e76-b173-190e53bcdb92",
   "metadata": {},
   "outputs": [
    {
     "name": "stdout",
     "output_type": "stream",
     "text": [
      "[[ 22  30 232  33]\n",
      " [ 22  12  12  22]]\n"
     ]
    }
   ],
   "source": [
    "print(_2d_array)"
   ]
  },
  {
   "cell_type": "code",
   "execution_count": 116,
   "id": "09b55664-4738-45ca-8f21-857da4b63cf1",
   "metadata": {},
   "outputs": [
    {
     "name": "stdout",
     "output_type": "stream",
     "text": [
      "8\n"
     ]
    }
   ],
   "source": [
    "#get the size of array using size \n",
    "print(_2d_array.size)"
   ]
  },
  {
   "cell_type": "code",
   "execution_count": 117,
   "id": "62431011-dbf1-4389-97b6-a6c9f474fed1",
   "metadata": {},
   "outputs": [
    {
     "data": {
      "text/plain": [
       "(2, 4)"
      ]
     },
     "execution_count": 117,
     "metadata": {},
     "output_type": "execute_result"
    }
   ],
   "source": [
    "#get total rows and column of array using shape \n",
    "_2d_array.shape  #(rows,column)\n"
   ]
  },
  {
   "cell_type": "code",
   "execution_count": 118,
   "id": "1bc15474-cfe9-46a0-848e-dbbc915d2d92",
   "metadata": {},
   "outputs": [
    {
     "data": {
      "text/plain": [
       "dtype('int32')"
      ]
     },
     "execution_count": 118,
     "metadata": {},
     "output_type": "execute_result"
    }
   ],
   "source": [
    "#get the datatype of array using dtype\n",
    "_2d_array.dtype"
   ]
  },
  {
   "cell_type": "code",
   "execution_count": 119,
   "id": "d1068c97-9796-424b-a338-5eb319ef8a75",
   "metadata": {},
   "outputs": [],
   "source": [
    "#3d array\n",
    "arr =  np.array([\n",
    "    [\n",
    "        [1, 2, 3],\n",
    "        [4, 5, 6],\n",
    "         [4, 5, 6],\n",
    "         [4, 5, 6],\n",
    "         [3, 5, 6]\n",
    "    ], \n",
    "    [\n",
    "        [7, 8, 6],\n",
    "        [10, 11, 6],\n",
    "        [10, 11, 6],\n",
    "        [10, 11, 6],\n",
    "        [10, 11, 6]\n",
    "    ],\n",
    "    [\n",
    "        [7, 8, 6],\n",
    "        [10, 11, 6],\n",
    "        [10, 11, 6],\n",
    "        [10, 11, 6],\n",
    "        [10, 11, 6]\n",
    "    ],\n",
    "    [\n",
    "        [7, 8, 6],\n",
    "        [10, 11, 6],\n",
    "        [10, 11, 6],\n",
    "        [10, 11, 6],\n",
    "        [10, 11, 6],\n",
    "        \n",
    "        \n",
    "        \n",
    "    ]\n",
    "])\n",
    "# print(arr.ndim)\n",
    "# srch = np.where(arr==6)\n",
    "# print(srch)"
   ]
  },
  {
   "cell_type": "code",
   "execution_count": 120,
   "id": "2c9e1666-15a7-46ce-9ee5-2627f05b900a",
   "metadata": {},
   "outputs": [],
   "source": [
    "# print(arr[0,1,2])\n",
    "# print(arr[1,0,2])\n",
    "# print(arr[1,1,2])"
   ]
  },
  {
   "cell_type": "code",
   "execution_count": 121,
   "id": "ac16c081-47e2-42d2-a2a2-3129b1e8874c",
   "metadata": {},
   "outputs": [],
   "source": [
    "# print(arr[0,0])\n"
   ]
  },
  {
   "cell_type": "code",
   "execution_count": 122,
   "id": "310aa347-0aca-465f-a0a4-286bf6244838",
   "metadata": {},
   "outputs": [],
   "source": [
    "# print(arr)"
   ]
  },
  {
   "cell_type": "code",
   "execution_count": 123,
   "id": "a14c359c-680c-4ff4-b725-ce3657965214",
   "metadata": {},
   "outputs": [
    {
     "name": "stdout",
     "output_type": "stream",
     "text": [
      "Number of element : 60\n"
     ]
    }
   ],
   "source": [
    "print(\"Number of element :\",arr.size)"
   ]
  },
  {
   "cell_type": "code",
   "execution_count": 124,
   "id": "35d1e05e-caeb-4c4f-b9f0-739cef7d2794",
   "metadata": {},
   "outputs": [
    {
     "name": "stdout",
     "output_type": "stream",
     "text": [
      "Shape : (4, 5, 3)\n"
     ]
    }
   ],
   "source": [
    "print(\"Shape :\",arr.shape)\n",
    "#Rows, number of arrays, Columns"
   ]
  },
  {
   "cell_type": "code",
   "execution_count": 125,
   "id": "0b14648f-7f2a-46b9-8afc-f88de570eaf0",
   "metadata": {},
   "outputs": [
    {
     "name": "stdout",
     "output_type": "stream",
     "text": [
      "[3 5 6]\n"
     ]
    }
   ],
   "source": [
    "# arr[0,4] =0,0,0\n",
    "# print(arr)\n",
    "print(arr[0,4])"
   ]
  },
  {
   "cell_type": "code",
   "execution_count": 126,
   "id": "72666da9-f414-4972-ac4b-bde8dd0bfd80",
   "metadata": {},
   "outputs": [
    {
     "name": "stdout",
     "output_type": "stream",
     "text": [
      "5\n",
      "[3 5 6]\n"
     ]
    }
   ],
   "source": [
    "shape = arr.shape\n",
    "total_rows=shape[0]\n",
    "width = shape[1]\n",
    "print(width)\n",
    "print(arr[0,4])\n"
   ]
  },
  {
   "cell_type": "code",
   "execution_count": 127,
   "id": "e8fdaee5-290a-45a6-b7fa-80aec8281c9a",
   "metadata": {},
   "outputs": [
    {
     "name": "stdout",
     "output_type": "stream",
     "text": [
      "[1 2 3]\n",
      "[4 5 6]\n",
      "[4 5 6]\n",
      "[4 5 6]\n",
      "[3 5 6]\n",
      "[7 8 6]\n",
      "[10 11  6]\n",
      "[10 11  6]\n",
      "[10 11  6]\n",
      "[10 11  6]\n",
      "[7 8 6]\n",
      "[10 11  6]\n",
      "[10 11  6]\n",
      "[10 11  6]\n",
      "[10 11  6]\n",
      "[7 8 6]\n",
      "[10 11  6]\n",
      "[10 11  6]\n",
      "[10 11  6]\n",
      "[10 11  6]\n"
     ]
    }
   ],
   "source": [
    "s = np.array([7,8,6])\n",
    "th = np.array([3,5,6])\n",
    "for row in range(total_rows):\n",
    "      for a in range(width):\n",
    "          # print(f\"row:{row} column:{a}\")\n",
    "          print(arr[row,a])\n",
    "          check_ = np.array_equal(arr[row,a],s) or np.array_equal(arr[row,a],th)\n",
    "          if not check_:\n",
    "              arr[row,a]=0,0,0\n",
    "          \n",
    "\n",
    "\n",
    "\n"
   ]
  },
  {
   "cell_type": "code",
   "execution_count": 128,
   "id": "23857d82-1e96-4bfa-a4dc-3534bea0cba5",
   "metadata": {},
   "outputs": [
    {
     "name": "stdout",
     "output_type": "stream",
     "text": [
      "[[[0 0 0]\n",
      "  [0 0 0]\n",
      "  [0 0 0]\n",
      "  [0 0 0]\n",
      "  [3 5 6]]\n",
      "\n",
      " [[7 8 6]\n",
      "  [0 0 0]\n",
      "  [0 0 0]\n",
      "  [0 0 0]\n",
      "  [0 0 0]]\n",
      "\n",
      " [[7 8 6]\n",
      "  [0 0 0]\n",
      "  [0 0 0]\n",
      "  [0 0 0]\n",
      "  [0 0 0]]\n",
      "\n",
      " [[7 8 6]\n",
      "  [0 0 0]\n",
      "  [0 0 0]\n",
      "  [0 0 0]\n",
      "  [0 0 0]]]\n"
     ]
    }
   ],
   "source": [
    "print(arr)"
   ]
  },
  {
   "cell_type": "code",
   "execution_count": 129,
   "id": "9adcd1dd-e73f-4bae-9d7f-a16d2cb6092f",
   "metadata": {},
   "outputs": [
    {
     "name": "stdout",
     "output_type": "stream",
     "text": [
      "True\n"
     ]
    }
   ],
   "source": [
    "#compare array\n",
    "a = np.array([0,255,0])\n",
    "b = np.array([0,255,0])\n",
    "c=np.array([0,0,0])\n",
    "result = np.array_equal(a,b) or np.array_equal(a,c)\n",
    "print(result)\n"
   ]
  },
  {
   "cell_type": "code",
   "execution_count": null,
   "id": "7755ea18-aaf3-4667-9fa8-b89643fa5faa",
   "metadata": {},
   "outputs": [],
   "source": []
  }
 ],
 "metadata": {
  "kernelspec": {
   "display_name": "Python 3 (ipykernel)",
   "language": "python",
   "name": "python3"
  },
  "language_info": {
   "codemirror_mode": {
    "name": "ipython",
    "version": 3
   },
   "file_extension": ".py",
   "mimetype": "text/x-python",
   "name": "python",
   "nbconvert_exporter": "python",
   "pygments_lexer": "ipython3",
   "version": "3.10.7"
  }
 },
 "nbformat": 4,
 "nbformat_minor": 5
}
