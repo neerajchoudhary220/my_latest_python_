{
 "cells": [
  {
   "cell_type": "code",
   "execution_count": 143,
   "id": "546f35f9-9acb-44db-9926-d6cf77993617",
   "metadata": {},
   "outputs": [],
   "source": [
    "import numpy as np\n",
    "a = np.array([\n",
    "    [\n",
    "        [10,20,0],\n",
    "        [10,20,0],\n",
    "        [1,1,1],\n",
    "        [0,0,0],\n",
    "        [255,255,255]\n",
    "    ],\n",
    "     [\n",
    "        [10,20,0],\n",
    "        [10,20,0],\n",
    "        [1,1,1],\n",
    "        [0,0,0],\n",
    "        [255,255,255]\n",
    "    ],\n",
    "     [\n",
    "        [10,20,0],\n",
    "        [10,20,0],\n",
    "        [1,1,1],\n",
    "        [0,0,0],\n",
    "        [255,255,255]\n",
    "    ],\n",
    "     [\n",
    "        [10,20,0],\n",
    "        [10,20,0],\n",
    "        [1,1,1],\n",
    "        [0,0,0],\n",
    "        [255,255,255]\n",
    "    ],\n",
    "])\n"
   ]
  },
  {
   "cell_type": "code",
   "execution_count": 144,
   "id": "4ca9a746-e805-49cb-a663-a585cd0e9307",
   "metadata": {},
   "outputs": [
    {
     "name": "stdout",
     "output_type": "stream",
     "text": [
      "60\n"
     ]
    }
   ],
   "source": [
    "print(a.size)"
   ]
  },
  {
   "cell_type": "code",
   "execution_count": 145,
   "id": "98ff4a90-07e8-495c-b309-c852ca700419",
   "metadata": {},
   "outputs": [],
   "source": [
    "rows = a.shape[0]\n",
    "columns = a.shape[1]"
   ]
  },
  {
   "cell_type": "code",
   "execution_count": 146,
   "id": "668669b7-6756-4b61-8846-252dad044335",
   "metadata": {},
   "outputs": [],
   "source": [
    "_arr =np.empty(3,int)\n",
    "for row in range(rows):\n",
    "    for column in range(columns):\n",
    "        _check = np.array_equal(a[row,column],[255,255,255])\n",
    "        if not _check:\n",
    "           np.delete(a,a[row,column])\n",
    "            \n",
    "    \n",
    "        \n",
    "    "
   ]
  },
  {
   "cell_type": "code",
   "execution_count": 147,
   "id": "1698d09d-1714-4129-bc30-80a2e1a3aa68",
   "metadata": {},
   "outputs": [
    {
     "name": "stdout",
     "output_type": "stream",
     "text": [
      "[[[ 10  20   0]\n",
      "  [ 10  20   0]\n",
      "  [  1   1   1]\n",
      "  [  0   0   0]\n",
      "  [255 255 255]]\n",
      "\n",
      " [[ 10  20   0]\n",
      "  [ 10  20   0]\n",
      "  [  1   1   1]\n",
      "  [  0   0   0]\n",
      "  [255 255 255]]\n",
      "\n",
      " [[ 10  20   0]\n",
      "  [ 10  20   0]\n",
      "  [  1   1   1]\n",
      "  [  0   0   0]\n",
      "  [255 255 255]]\n",
      "\n",
      " [[ 10  20   0]\n",
      "  [ 10  20   0]\n",
      "  [  1   1   1]\n",
      "  [  0   0   0]\n",
      "  [255 255 255]]]\n"
     ]
    }
   ],
   "source": [
    "print(a)"
   ]
  },
  {
   "cell_type": "code",
   "execution_count": 148,
   "id": "c86110a7-abb7-42fd-8735-fe859e4a7f02",
   "metadata": {},
   "outputs": [
    {
     "name": "stdout",
     "output_type": "stream",
     "text": [
      "[2 3 4]\n"
     ]
    }
   ],
   "source": [
    "l =np.empty(0,int)\n",
    "b = np.array([2,3,4])\n",
    "l = np.append(l,b)\n",
    "\n",
    "print(l)"
   ]
  },
  {
   "cell_type": "code",
   "execution_count": null,
   "id": "da501029-0c07-41f0-a801-e69533b8363f",
   "metadata": {},
   "outputs": [],
   "source": []
  }
 ],
 "metadata": {
  "kernelspec": {
   "display_name": "Python 3 (ipykernel)",
   "language": "python",
   "name": "python3"
  },
  "language_info": {
   "codemirror_mode": {
    "name": "ipython",
    "version": 3
   },
   "file_extension": ".py",
   "mimetype": "text/x-python",
   "name": "python",
   "nbconvert_exporter": "python",
   "pygments_lexer": "ipython3",
   "version": "3.10.7"
  }
 },
 "nbformat": 4,
 "nbformat_minor": 5
}
