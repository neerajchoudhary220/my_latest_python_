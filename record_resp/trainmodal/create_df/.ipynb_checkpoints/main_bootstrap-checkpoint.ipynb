{
 "cells": [
  {
   "cell_type": "code",
   "execution_count": 1,
   "id": "b79b750a-9ebe-4f6a-9ea8-0643a671a5d6",
   "metadata": {},
   "outputs": [],
   "source": [
    "from randomsentence import datasheetgen"
   ]
  },
  {
   "cell_type": "code",
   "execution_count": 5,
   "id": "34334844-a109-4437-9569-b899861fb5c8",
   "metadata": {},
   "outputs": [],
   "source": [
    "bootstrap ={\n",
    "    \"labels\":{\n",
    "        \"button\":{\n",
    "            \"label_id\":1,\n",
    "            \"names\":[\"write bootstrap\",\"bootstrap\",\"tell bootstrap\"],\n",
    "            \"verbs\":[\"about\",\"all\",\"large\",\"xl\",\"sm\",\"md\",\"extra large button\"],\n",
    "            \"noun\":[\"button\",\"btn\",\"buttons\"]\n",
    "        },\n",
    "    \"model\":{\n",
    "            \"label_id\":2,\n",
    "            \"names\":[\"write bootstrap\",\"bootstrap\",\"tell bootstrap\"],\n",
    "            \"verbs\":[\"about\",\"all\",\"lx\",\"xl\",\"lg\",\"sm\",\"md\",\"small\",\"large\"],\n",
    "            \"noun\":[\"modal\",\"model\",\"modals\"]\n",
    "        },\n",
    "     \"card\":{\n",
    "            \"label_id\":3,\n",
    "            \"names\":[\"write bootstrap\",\"bootstrap\",\"tell bootstrap\",\"bootstrap4\",\"bootstrap5\"],\n",
    "            \"verbs\":[\"\"],\n",
    "            \"noun\":[\"card\",\"cards\"]\n",
    "        },\n",
    "    \"color\":{\n",
    "            \"label_id\":4,\n",
    "            \"names\":[\"write bootstrap\",\"bootstrap\",\"tell bootstrap\",\"bootstrap4\",\"bootstrap5\"],\n",
    "            \"verbs\":[\"info\",\"success\",\"all\",\"warning\",\"blue\",\"danger\",\"red\"],\n",
    "            \"noun\":[\"color\",\"colors\"]\n",
    "        },\n",
    "\n",
    "    \"badge\":{\n",
    "        \"label_id\":4,\n",
    "        \"names\":[\"write bootstrap\",\"bootstrap\",\"tell bootstrap\",\"bootstrap4\",\"bootstrap5\"],\n",
    "        \"verbs\":[\"info\",\"success\",\"all\",\"warning\",\"blue\",\"danger\",\"red\",\"xl\",\"large\",\"small\"],\n",
    "        \"noun\":[\"badge\",\"badge\"]\n",
    "    },\n",
    "     }\n",
    "}"
   ]
  },
  {
   "cell_type": "code",
   "execution_count": 6,
   "id": "b32c84c9-9059-4cb3-9f25-2a08cefac3e9",
   "metadata": {},
   "outputs": [],
   "source": [
    "labels = bootstrap['labels']\n",
    "path =\"./generated_csv/bootstrap/main\""
   ]
  },
  {
   "cell_type": "code",
   "execution_count": 7,
   "id": "3badeb10-77c6-4f08-a72e-11d94881ed21",
   "metadata": {},
   "outputs": [
    {
     "ename": "FileNotFoundError",
     "evalue": "[WinError 3] The system cannot find the path specified: './generated_csv/bootstrap/main'",
     "output_type": "error",
     "traceback": [
      "\u001b[1;31m---------------------------------------------------------------------------\u001b[0m",
      "\u001b[1;31mFileNotFoundError\u001b[0m                         Traceback (most recent call last)",
      "Cell \u001b[1;32mIn[7], line 7\u001b[0m\n\u001b[0;32m      5\u001b[0m noun\u001b[38;5;241m=\u001b[39mlabels[key][\u001b[38;5;124m'\u001b[39m\u001b[38;5;124mnoun\u001b[39m\u001b[38;5;124m'\u001b[39m]\n\u001b[0;32m      6\u001b[0m label \u001b[38;5;241m=\u001b[39m key\n\u001b[1;32m----> 7\u001b[0m \u001b[43mdatasheetgen\u001b[49m\u001b[38;5;241;43m.\u001b[39;49m\u001b[43mCreatecsv\u001b[49m\u001b[43m(\u001b[49m\u001b[43mpath\u001b[49m\u001b[43m,\u001b[49m\u001b[43mlabel\u001b[49m\u001b[43m,\u001b[49m\u001b[43mlabel_id\u001b[49m\u001b[43m,\u001b[49m\u001b[43mnames\u001b[49m\u001b[43m,\u001b[49m\u001b[43mverbs\u001b[49m\u001b[43m,\u001b[49m\u001b[43mnoun\u001b[49m\u001b[43m)\u001b[49m\u001b[38;5;241;43m.\u001b[39;49m\u001b[43mcreatingcsv\u001b[49m\u001b[43m(\u001b[49m\u001b[43m)\u001b[49m\n",
      "File \u001b[1;32mD:\\Neeraj\\python\\pandas\\create_df\\randomsentence\\datasheetgen.py:42\u001b[0m, in \u001b[0;36mCreatecsv.creatingcsv\u001b[1;34m(self)\u001b[0m\n\u001b[0;32m     41\u001b[0m \u001b[38;5;28;01mdef\u001b[39;00m \u001b[38;5;21mcreatingcsv\u001b[39m(\u001b[38;5;28mself\u001b[39m):\n\u001b[1;32m---> 42\u001b[0m     \u001b[38;5;28;43mself\u001b[39;49m\u001b[38;5;241;43m.\u001b[39;49m\u001b[43mcreateNotExistDir\u001b[49m\u001b[43m(\u001b[49m\u001b[43m)\u001b[49m\n\u001b[0;32m     43\u001b[0m     data \u001b[38;5;241m=\u001b[39m \u001b[38;5;28mself\u001b[39m\u001b[38;5;241m.\u001b[39mCreateList()\n\u001b[0;32m     44\u001b[0m     df \u001b[38;5;241m=\u001b[39m pd\u001b[38;5;241m.\u001b[39mDataFrame({\u001b[38;5;124m\"\u001b[39m\u001b[38;5;124mquestion\u001b[39m\u001b[38;5;124m\"\u001b[39m:data})\n",
      "File \u001b[1;32mD:\\Neeraj\\python\\pandas\\create_df\\randomsentence\\datasheetgen.py:38\u001b[0m, in \u001b[0;36mCreatecsv.createNotExistDir\u001b[1;34m(self)\u001b[0m\n\u001b[0;32m     36\u001b[0m \u001b[38;5;28;01mdef\u001b[39;00m \u001b[38;5;21mcreateNotExistDir\u001b[39m(\u001b[38;5;28mself\u001b[39m):\n\u001b[0;32m     37\u001b[0m     \u001b[38;5;28;01mif\u001b[39;00m \u001b[38;5;129;01mnot\u001b[39;00m os\u001b[38;5;241m.\u001b[39mpath\u001b[38;5;241m.\u001b[39mexists(\u001b[38;5;28mself\u001b[39m\u001b[38;5;241m.\u001b[39mpath):\n\u001b[1;32m---> 38\u001b[0m             \u001b[43mos\u001b[49m\u001b[38;5;241;43m.\u001b[39;49m\u001b[43mmkdir\u001b[49m\u001b[43m(\u001b[49m\u001b[38;5;28;43mself\u001b[39;49m\u001b[38;5;241;43m.\u001b[39;49m\u001b[43mpath\u001b[49m\u001b[43m)\u001b[49m\n",
      "\u001b[1;31mFileNotFoundError\u001b[0m: [WinError 3] The system cannot find the path specified: './generated_csv/bootstrap/main'"
     ]
    }
   ],
   "source": [
    "for key in bootstrap['labels']:\n",
    "    label_id = labels[key]['label_id']\n",
    "    names=labels[key]['names']\n",
    "    verbs=labels[key]['verbs']\n",
    "    noun=labels[key]['noun']\n",
    "    label = key\n",
    "    datasheetgen.Createcsv(path,label,label_id,names,verbs,noun).creatingcsv()"
   ]
  },
  {
   "cell_type": "code",
   "execution_count": null,
   "id": "a8813928-055d-4a89-a31e-e5dece10b078",
   "metadata": {},
   "outputs": [],
   "source": []
  },
  {
   "cell_type": "code",
   "execution_count": null,
   "id": "202c1814-2bb3-4932-8e4c-8795c4e31f1f",
   "metadata": {},
   "outputs": [],
   "source": []
  },
  {
   "cell_type": "code",
   "execution_count": null,
   "id": "f68455a3-e284-4c1b-bd39-80e6a9ca0c40",
   "metadata": {},
   "outputs": [],
   "source": []
  }
 ],
 "metadata": {
  "kernelspec": {
   "display_name": "Python 3 (ipykernel)",
   "language": "python",
   "name": "python3"
  },
  "language_info": {
   "codemirror_mode": {
    "name": "ipython",
    "version": 3
   },
   "file_extension": ".py",
   "mimetype": "text/x-python",
   "name": "python",
   "nbconvert_exporter": "python",
   "pygments_lexer": "ipython3",
   "version": "3.10.7"
  }
 },
 "nbformat": 4,
 "nbformat_minor": 5
}
