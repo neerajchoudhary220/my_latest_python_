{
 "cells": [
  {
   "cell_type": "code",
   "execution_count": 1,
   "id": "742d28ce-9fd9-4c00-a788-e3a0f9411e4e",
   "metadata": {},
   "outputs": [],
   "source": [
    "from generatemodel import model\n"
   ]
  },
  {
   "cell_type": "code",
   "execution_count": 2,
   "id": "4f1134aa-15ba-48f4-9bd2-9269ae695a16",
   "metadata": {},
   "outputs": [
    {
     "name": "stdout",
     "output_type": "stream",
     "text": [
      "Model successfully build with 1.0 score\n"
     ]
    }
   ],
   "source": [
    "result = model.Generate('main.csv',10,'bootstrap_main_vocab','bootstra_main_model').ModelCreateProcess()\n",
    "print(result)"
   ]
  },
  {
   "cell_type": "code",
   "execution_count": null,
   "id": "38a25b33-4dc6-42bb-baad-3440b0dea030",
   "metadata": {},
   "outputs": [],
   "source": []
  }
 ],
 "metadata": {
  "kernelspec": {
   "display_name": "Python 3 (ipykernel)",
   "language": "python",
   "name": "python3"
  },
  "language_info": {
   "codemirror_mode": {
    "name": "ipython",
    "version": 3
   },
   "file_extension": ".py",
   "mimetype": "text/x-python",
   "name": "python",
   "nbconvert_exporter": "python",
   "pygments_lexer": "ipython3",
   "version": "3.10.7"
  }
 },
 "nbformat": 4,
 "nbformat_minor": 5
}
