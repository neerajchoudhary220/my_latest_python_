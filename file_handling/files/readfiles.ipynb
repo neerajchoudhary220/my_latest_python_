{
 "cells": [
  {
   "cell_type": "code",
   "execution_count": 7,
   "id": "e550ded0-d7d9-44ab-8a1e-56104737ff7d",
   "metadata": {},
   "outputs": [
    {
     "name": "stdout",
     "output_type": "stream",
     "text": [
      "1.Convert Csv file into Json\n",
      "\n",
      "https://mycodingno1.blogspot.com/2023/09/convert-csv-file-into-json.html\n",
      "\n",
      "\n",
      "2.Replace character after specific text\n",
      "\n",
      "https://mycodingno1.blogspot.com/2022/03/replace-character-after-specific-text.html\n",
      "\n",
      "\n",
      "3.Change dropdown select option using other button click\n",
      "\n",
      "https://mycodingno1.blogspot.com/2023/08/change-dropdown-select-option-using.html\n",
      "\n",
      "\n",
      "4.Search array element jquery and js\n",
      "\n",
      "https://mycodingno1.blogspot.com/2023/06/document-search-fruitlist.html\n",
      "\n",
      "\n",
      "5.How to make the first option of selected with jQuery\n",
      "\n",
      "https://mycodingno1.blogspot.com/2023/06/select-id-firstselect-option-selected.html\n",
      "\n",
      "\n",
      "6.Use this inside the onclick js and jquery\n",
      "\n",
      "https://mycodingno1.blogspot.com/2023/05/use-this-inside-onclick-js-and-jquery.html\n",
      "\n",
      "\n",
      "7.Count total checked checkkbox\n",
      "\n",
      "https://mycodingno1.blogspot.com/2023/03/count-total-checked-checkkbox.html\n",
      "\n",
      "\n",
      "8.Use jQuery to hide a DIV when the user clicks outside of it\n",
      "\n",
      "https://mycodingno1.blogspot.com/2023/03/use-jquery-to-hide-div-when-user-clicks.html\n",
      "\n",
      "\n",
      "9.Get selected and chekcked with jquery\n",
      "\n",
      "https://mycodingno1.blogspot.com/2023/01/get-selected-and-chekcked-with-jquery.html\n",
      "\n",
      "\n",
      "10.Getting text of html code which is written by jquery html function\n",
      "\n",
      "https://mycodingno1.blogspot.com/2022/09/getting-text-of-html-code-which-is.html\n",
      "\n",
      "\n",
      "11.Send ajax request in laravel blade template using jquery\n",
      "\n",
      "https://mycodingno1.blogspot.com/2022/09/send-ajax-request-in-laravel-blade.html\n",
      "\n",
      "\n",
      "12.Replace character after specific text\n",
      "\n",
      "https://mycodingno1.blogspot.com/2022/03/replace-character-after-specific-text.html\n",
      "\n",
      "\n",
      "13.Refresh Current page by js\n",
      "\n",
      "https://mycodingno1.blogspot.com/2022/02/refresh-current-page-by-js.html\n",
      "\n",
      "\n",
      "14.Copy Text by using jquery\n",
      "\n",
      "https://mycodingno1.blogspot.com/2022/01/copy-text-by-using-jquery.html\n",
      "\n",
      "\n",
      "15.Device detector by javascript\n",
      "\n",
      "https://mycodingno1.blogspot.com/2021/03/device-detector-by-javascript.html\n",
      "\n",
      "\n",
      "16.detect height and width of current screenh\n",
      "\n",
      "https://mycodingno1.blogspot.com/2021/02/detect-height-and-width-of-current.html\n",
      "\n",
      "\n",
      "17.Outer Html code example\n",
      "\n",
      "https://mycodingno1.blogspot.com/2021/02/outer-html-code-example.html\n",
      "\n",
      "\n",
      "18.Detect google chrome by javascript\n",
      "\n",
      "https://mycodingno1.blogspot.com/2021/02/detect-google-chrome-by-javascript.html\n",
      "\n",
      "\n",
      "19.Display current time by javascript\n",
      "\n",
      "https://mycodingno1.blogspot.com/2021/01/display-current-time-by-javascript.html\n",
      "\n",
      "\n",
      "20.Print any web page by javascript button\n",
      "\n",
      "https://mycodingno1.blogspot.com/2021/01/print-any-web-page-by-javascript-button.html\n",
      "\n",
      "\n",
      "21.Drop down button or Menu\n",
      "\n",
      "https://mycodingno1.blogspot.com/2021/01/drop-down-button-or-menu.html\n",
      "\n",
      "\n",
      "22.Random Number by javascript\n",
      "\n",
      "https://mycodingno1.blogspot.com/2020/12/random-number-by-javascript.html\n",
      "\n",
      "\n",
      "23.Mouse Cursor Position By javascript and HTML\n",
      "\n",
      "https://mycodingno1.blogspot.com/2020/12/mouse-cursor-position-by-javascript-and.html\n",
      "\n",
      "\n",
      "24.Clock Time Difference Method by javascript.\n",
      "\n",
      "https://mycodingno1.blogspot.com/2020/12/clock-time-difference-method-by.html\n",
      "\n"
     ]
    }
   ],
   "source": [
    "#Read a file\n",
    "myfile = open(r\"./files/mycodingno1-js-posts-list.txt\",\"r\")\n",
    "# print(myfile.read())\n",
    "number=1\n",
    "indx=1\n",
    "for ln in myfile.readlines():\n",
    "    s = str(indx)\n",
    "    if number%2!=0:\n",
    "        print(f\"{s}.{ln}\")\n",
    "        indx+=1\n",
    "        \n",
    "    else:\n",
    "        print(ln+'\\n')\n",
    "    number+=1\n",
    "        \n",
    "   "
   ]
  },
  {
   "cell_type": "code",
   "execution_count": 16,
   "id": "c2961040-d2a5-4d8c-87bd-af6494b9714e",
   "metadata": {},
   "outputs": [
    {
     "name": "stdout",
     "output_type": "stream",
     "text": [
      "Hello \n",
      "how are you\n"
     ]
    }
   ],
   "source": [
    "f = open(\"files/test.txt\")\n",
    "print(f.read(6))\n",
    "print(f.read())\n"
   ]
  },
  {
   "cell_type": "code",
   "execution_count": 32,
   "id": "9571b19c-cbaa-4d2a-acfc-d36d73b3b29e",
   "metadata": {},
   "outputs": [
    {
     "name": "stdout",
     "output_type": "stream",
     "text": [
      "['Hello how are you.\\n', 'This is good for me']\n"
     ]
    }
   ],
   "source": [
    "myfile = open(\"files/test.txt\")\n",
    "mylist = myfile.readlines() #Convert every line into a list\n",
    "\n",
    "print(mylist)\n",
    "\n",
    "# print(myfile.readline())"
   ]
  },
  {
   "cell_type": "code",
   "execution_count": 33,
   "id": "c8d6e8cb-3690-4557-a0d1-d73d21e67527",
   "metadata": {},
   "outputs": [
    {
     "name": "stdout",
     "output_type": "stream",
     "text": [
      "Hello how are you.\n",
      "This is good for me\n"
     ]
    }
   ],
   "source": [
    "#convert a list into text\n",
    "print(\"\".join(mylist))"
   ]
  },
  {
   "cell_type": "code",
   "execution_count": 49,
   "id": "dd607bb7-658c-4cac-8ea2-a2ff9438eeb3",
   "metadata": {},
   "outputs": [
    {
     "name": "stdout",
     "output_type": "stream",
     "text": [
      "True\n"
     ]
    }
   ],
   "source": [
    "f = open(\"files/test.txt\")\n",
    "# for x in f:\n",
    "#     print(x)\n",
    "print(\"how\" in f.read())\n"
   ]
  },
  {
   "cell_type": "code",
   "execution_count": 12,
   "id": "0ae1b736-3be2-4e6e-948f-d87072cf6aac",
   "metadata": {},
   "outputs": [
    {
     "name": "stdout",
     "output_type": "stream",
     "text": [
      "   id              name            email\n",
      "0   1  Neeraj choduhary  nomail@mail.com\n",
      "1   2   Girja choduhary   girja@mail.com\n"
     ]
    }
   ],
   "source": [
    "\n",
    "import pandas as pd\n",
    "csv = pd.read_csv(\"files/testing.csv\")\n",
    "print(csv.to_string())"
   ]
  },
  {
   "cell_type": "markdown",
   "id": "52ed9c8e-45e3-4d92-ae5d-a80e6d0b0abe",
   "metadata": {},
   "source": []
  },
  {
   "cell_type": "code",
   "execution_count": 4,
   "id": "43a38237-415c-4e7b-8d22-67f8f88032e3",
   "metadata": {},
   "outputs": [
    {
     "name": "stdout",
     "output_type": "stream",
     "text": [
      "[['1', 'Neeraj choduhary', 'nomail@mail.com'], ['2', 'Girja choduhary', 'girja@mail.com']]\n"
     ]
    }
   ],
   "source": [
    "#convert csv to dictionary\n",
    "\n",
    "import json\n",
    "file = \"files/testing.csv\"\n",
    "def convertCsvToDictionay(header,rows):\n",
    "    mydict={}\n",
    "    print(rows)\n",
    "    if len(rows) > 1:\n",
    "        for h in range(len(header)):\n",
    "            mydict[header[h]]=[]\n",
    "            for r in range(len(rows)):\n",
    "                mydict[header[h]]+=[rows[r][h]]\n",
    "    else:\n",
    "        mydict = dict(zip(header,rows[0]))\n",
    "\n",
    "    return mydict;\n",
    "    \n",
    "def dictionary(file):\n",
    "    f = open(file)\n",
    "    header = f.readline().replace('\"',\"\").replace('\\n',\"\").split(\",\")\n",
    "    rows=[]\n",
    "    for row in f:\n",
    "        rows.append(row.replace('\"',\"\").replace(\"\\n\",\"\").split(\",\"))\n",
    "\n",
    "    f.close()\n",
    "    return convertCsvToDictionay(header,rows)\n",
    "\n",
    "#convert dict to json\n",
    "dict = dictionary(file)\n",
    "with open(\"files/myjson.json\",'w') as item:\n",
    "    json.dump(dict,item)\n"
   ]
  },
  {
   "cell_type": "code",
   "execution_count": null,
   "id": "d2596d75-9edb-46c8-b0b5-c20bd8a63a33",
   "metadata": {},
   "outputs": [],
   "source": []
  }
 ],
 "metadata": {
  "kernelspec": {
   "display_name": "Python 3 (ipykernel)",
   "language": "python",
   "name": "python3"
  },
  "language_info": {
   "codemirror_mode": {
    "name": "ipython",
    "version": 3
   },
   "file_extension": ".py",
   "mimetype": "text/x-python",
   "name": "python",
   "nbconvert_exporter": "python",
   "pygments_lexer": "ipython3",
   "version": "3.10.7"
  }
 },
 "nbformat": 4,
 "nbformat_minor": 5
}
