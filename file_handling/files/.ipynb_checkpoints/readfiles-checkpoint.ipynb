{
 "cells": [
  {
   "cell_type": "code",
   "execution_count": 2,
   "id": "e550ded0-d7d9-44ab-8a1e-56104737ff7d",
   "metadata": {},
   "outputs": [
    {
     "name": "stdout",
     "output_type": "stream",
     "text": [
      "Hello how are you\n"
     ]
    }
   ],
   "source": [
    "#Read a file\n",
    "myfile = open(r\"./files/test.txt\",\"r\")\n",
    "print(myfile.read())"
   ]
  },
  {
   "cell_type": "code",
   "execution_count": 16,
   "id": "c2961040-d2a5-4d8c-87bd-af6494b9714e",
   "metadata": {},
   "outputs": [
    {
     "name": "stdout",
     "output_type": "stream",
     "text": [
      "Hello \n",
      "how are you\n"
     ]
    }
   ],
   "source": [
    "f = open(\"files/test.txt\")\n",
    "print(f.read(6))\n",
    "print(f.read())\n"
   ]
  },
  {
   "cell_type": "code",
   "execution_count": 32,
   "id": "9571b19c-cbaa-4d2a-acfc-d36d73b3b29e",
   "metadata": {},
   "outputs": [
    {
     "name": "stdout",
     "output_type": "stream",
     "text": [
      "['Hello how are you.\\n', 'This is good for me']\n"
     ]
    }
   ],
   "source": [
    "myfile = open(\"files/test.txt\")\n",
    "mylist = myfile.readlines() #Convert every line into a list\n",
    "\n",
    "print(mylist)\n",
    "\n",
    "# print(myfile.readline())"
   ]
  },
  {
   "cell_type": "code",
   "execution_count": 33,
   "id": "c8d6e8cb-3690-4557-a0d1-d73d21e67527",
   "metadata": {},
   "outputs": [
    {
     "name": "stdout",
     "output_type": "stream",
     "text": [
      "Hello how are you.\n",
      "This is good for me\n"
     ]
    }
   ],
   "source": [
    "#convert a list into text\n",
    "print(\"\".join(mylist))"
   ]
  },
  {
   "cell_type": "code",
   "execution_count": 49,
   "id": "dd607bb7-658c-4cac-8ea2-a2ff9438eeb3",
   "metadata": {},
   "outputs": [
    {
     "name": "stdout",
     "output_type": "stream",
     "text": [
      "True\n"
     ]
    }
   ],
   "source": [
    "f = open(\"files/test.txt\")\n",
    "# for x in f:\n",
    "#     print(x)\n",
    "print(\"how\" in f.read())\n"
   ]
  },
  {
   "cell_type": "code",
   "execution_count": 12,
   "id": "0ae1b736-3be2-4e6e-948f-d87072cf6aac",
   "metadata": {},
   "outputs": [
    {
     "name": "stdout",
     "output_type": "stream",
     "text": [
      "   id              name            email\n",
      "0   1  Neeraj choduhary  nomail@mail.com\n",
      "1   2   Girja choduhary   girja@mail.com\n"
     ]
    }
   ],
   "source": [
    "\n",
    "import pandas as pd\n",
    "csv = pd.read_csv(\"files/testing.csv\")\n",
    "print(csv.to_string())"
   ]
  },
  {
   "cell_type": "markdown",
   "id": "52ed9c8e-45e3-4d92-ae5d-a80e6d0b0abe",
   "metadata": {},
   "source": []
  },
  {
   "cell_type": "code",
   "execution_count": 3,
   "id": "43a38237-415c-4e7b-8d22-67f8f88032e3",
   "metadata": {},
   "outputs": [
    {
     "name": "stdout",
     "output_type": "stream",
     "text": [
      "2\n"
     ]
    }
   ],
   "source": [
    "#convert csv to dictionary\n",
    "\n",
    "import json\n",
    "file = \"files/testing.csv\"\n",
    "def convertCsvToDictionay(header,rows):\n",
    "    mydict={}\n",
    "    if len(rows) > 1:\n",
    "        for h in range(len(header)):\n",
    "            mydict[header[h]]=[]\n",
    "            for r in range(len(rows)):\n",
    "                mydict[header[h]]+=[rows[r][h]]\n",
    "    else:\n",
    "        mydict = dict(zip(header,rows[0]))\n",
    "\n",
    "    return mydict;\n",
    "    \n",
    "def dictionary(file):\n",
    "    f = open(file)\n",
    "    header = f.readline().replace('\"',\"\").replace('\\n',\"\").split(\",\")\n",
    "    rows=[]\n",
    "    for row in f:\n",
    "        rows.append(row.replace('\"',\"\").replace(\"\\n\",\"\").split(\",\"))\n",
    "\n",
    "    f.close()\n",
    "    return convertCsvToDictionay(header,rows)\n",
    "\n",
    "#convert dict to json\n",
    "dict = dictionary(file)\n",
    "with open(\"files/myjson.json\",'w') as item:\n",
    "    json.dump(dict,item)\n"
   ]
  },
  {
   "cell_type": "code",
   "execution_count": null,
   "id": "d2596d75-9edb-46c8-b0b5-c20bd8a63a33",
   "metadata": {},
   "outputs": [],
   "source": []
  }
 ],
 "metadata": {
  "kernelspec": {
   "display_name": "Python 3 (ipykernel)",
   "language": "python",
   "name": "python3"
  },
  "language_info": {
   "codemirror_mode": {
    "name": "ipython",
    "version": 3
   },
   "file_extension": ".py",
   "mimetype": "text/x-python",
   "name": "python",
   "nbconvert_exporter": "python",
   "pygments_lexer": "ipython3",
   "version": "3.10.7"
  }
 },
 "nbformat": 4,
 "nbformat_minor": 5
}
