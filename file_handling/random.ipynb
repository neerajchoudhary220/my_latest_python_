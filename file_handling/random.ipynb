{
 "cells": [
  {
   "cell_type": "code",
   "execution_count": 23,
   "id": "13c04215-300c-48f7-957a-da6ae114422a",
   "metadata": {},
   "outputs": [],
   "source": [
    "import random\n",
    "emoji =['😊','🐆','👍','🚩','🏹','👏','♥','💚','💙']"
   ]
  },
  {
   "cell_type": "code",
   "execution_count": 24,
   "id": "fbd77867-4182-4198-b65b-58e51b241845",
   "metadata": {},
   "outputs": [
    {
     "name": "stdout",
     "output_type": "stream",
     "text": [
      "🏹\n"
     ]
    }
   ],
   "source": [
    "rand_number = random.randint(1,10)\n",
    "print(emoji[rand_number])"
   ]
  },
  {
   "cell_type": "code",
   "execution_count": null,
   "id": "ed77f761-764f-42dd-a668-4e1371c92b9c",
   "metadata": {},
   "outputs": [],
   "source": []
  }
 ],
 "metadata": {
  "kernelspec": {
   "display_name": "Python 3 (ipykernel)",
   "language": "python",
   "name": "python3"
  },
  "language_info": {
   "codemirror_mode": {
    "name": "ipython",
    "version": 3
   },
   "file_extension": ".py",
   "mimetype": "text/x-python",
   "name": "python",
   "nbconvert_exporter": "python",
   "pygments_lexer": "ipython3",
   "version": "3.10.7"
  }
 },
 "nbformat": 4,
 "nbformat_minor": 5
}
