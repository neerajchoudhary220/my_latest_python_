{
 "cells": [
  {
   "cell_type": "code",
   "execution_count": 11,
   "id": "bf9cc874-e663-4e18-a110-59aefca2a6a1",
   "metadata": {},
   "outputs": [],
   "source": [
    "file = r\"files/my.txt\"\n",
    "myfile = open(file)\n",
    "outputFile = r\"files/output.txt\"\n",
    "output = open(outputFile,\"a\")"
   ]
  },
  {
   "cell_type": "code",
   "execution_count": 12,
   "id": "bff98e32-6bae-49bb-91d6-da7b94659d23",
   "metadata": {},
   "outputs": [
    {
     "name": "stdout",
     "output_type": "stream",
     "text": [
      "<div>\n",
      "\n",
      "<span>abc</span>\n",
      "\n",
      "<span>xyz</span>\n",
      "\n",
      "<span>tuv</span>\n",
      "\n",
      "<br></div>\n",
      "\n",
      "\n",
      "\n",
      "<div>\n",
      "\n",
      "<span>abc</span>\n",
      "\n",
      "<span>xyz</span>\n",
      "\n",
      "<span>tuv</span>\n",
      "\n",
      "<br></div>\n",
      "\n",
      "\n",
      "\n",
      "\n",
      "\n",
      "<div>\n",
      "\n",
      "<span>abc</span>\n",
      "\n",
      "<span>xyz</span>\n",
      "\n",
      "<span>tuv</span>\n",
      "\n",
      "<br></div>\n"
     ]
    }
   ],
   "source": [
    "for line in myfile.readlines():\n",
    "        out = line.replace('</div>','<br></div>')\n",
    "        output.write(out)\n",
    "        print(out)\n"
   ]
  },
  {
   "cell_type": "code",
   "execution_count": null,
   "id": "ca9636f9-b88b-4fbe-9b69-afb29a36462a",
   "metadata": {},
   "outputs": [],
   "source": []
  },
  {
   "cell_type": "code",
   "execution_count": null,
   "id": "871dadb6-e75c-4538-b491-67adbf985f4a",
   "metadata": {},
   "outputs": [],
   "source": []
  }
 ],
 "metadata": {
  "kernelspec": {
   "display_name": "Python 3 (ipykernel)",
   "language": "python",
   "name": "python3"
  },
  "language_info": {
   "codemirror_mode": {
    "name": "ipython",
    "version": 3
   },
   "file_extension": ".py",
   "mimetype": "text/x-python",
   "name": "python",
   "nbconvert_exporter": "python",
   "pygments_lexer": "ipython3",
   "version": "3.10.7"
  }
 },
 "nbformat": 4,
 "nbformat_minor": 5
}
