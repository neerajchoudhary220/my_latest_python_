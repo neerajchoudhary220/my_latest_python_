{
 "cells": [
  {
   "cell_type": "code",
   "execution_count": 10,
   "id": "fb1b38c1-21eb-4a10-9fb7-1bf833c3d09a",
   "metadata": {},
   "outputs": [],
   "source": [
    "f = open(r\"./files/mycodingno1-js-posts-list.txt\")\n",
    "mylist = f.readlines()"
   ]
  },
  {
   "cell_type": "code",
   "execution_count": 11,
   "id": "8fe61a13-4591-41c2-a0f5-466dfe100dbc",
   "metadata": {},
   "outputs": [],
   "source": [
    "length_ = len(mylist)"
   ]
  },
  {
   "cell_type": "code",
   "execution_count": 18,
   "id": "f60eadbb-92ca-432d-b3af-50ef47b7e69b",
   "metadata": {},
   "outputs": [
    {
     "name": "stdout",
     "output_type": "stream",
     "text": [
      "Convert Csv file into Json\n",
      "\n",
      "1https://mycodingno1.blogspot.com/2023/09/convert-csv-file-into-json.html\n",
      "\n",
      "Replace character after specific text\n",
      "\n",
      "3https://mycodingno1.blogspot.com/2022/03/replace-character-after-specific-text.html\n",
      "\n",
      "Change dropdown select option using other button click\n",
      "\n",
      "5https://mycodingno1.blogspot.com/2023/08/change-dropdown-select-option-using.html\n",
      "\n",
      "Search array element jquery and js\n",
      "\n",
      "7https://mycodingno1.blogspot.com/2023/06/document-search-fruitlist.html\n",
      "\n",
      "How to make the first option of selected with jQuery\n",
      "\n",
      "9https://mycodingno1.blogspot.com/2023/06/select-id-firstselect-option-selected.html\n",
      "\n",
      "Use this inside the onclick js and jquery\n",
      "\n",
      "11https://mycodingno1.blogspot.com/2023/05/use-this-inside-onclick-js-and-jquery.html\n",
      "\n",
      "Count total checked checkkbox\n",
      "\n",
      "13https://mycodingno1.blogspot.com/2023/03/count-total-checked-checkkbox.html\n",
      "\n",
      "Use jQuery to hide a DIV when the user clicks outside of it\n",
      "\n",
      "15https://mycodingno1.blogspot.com/2023/03/use-jquery-to-hide-div-when-user-clicks.html\n",
      "\n",
      "Get selected and chekcked with jquery\n",
      "\n",
      "17https://mycodingno1.blogspot.com/2023/01/get-selected-and-chekcked-with-jquery.html\n",
      "\n",
      "Getting text of html code which is written by jquery html function\n",
      "\n",
      "19https://mycodingno1.blogspot.com/2022/09/getting-text-of-html-code-which-is.html\n",
      "\n",
      "Send ajax request in laravel blade template using jquery\n",
      "\n",
      "21https://mycodingno1.blogspot.com/2022/09/send-ajax-request-in-laravel-blade.html\n",
      "\n",
      "Replace character after specific text\n",
      "\n",
      "23https://mycodingno1.blogspot.com/2022/03/replace-character-after-specific-text.html\n",
      "\n",
      "Refresh Current page by js\n",
      "\n",
      "25https://mycodingno1.blogspot.com/2022/02/refresh-current-page-by-js.html\n",
      "\n",
      "Copy Text by using jquery\n",
      "\n",
      "27https://mycodingno1.blogspot.com/2022/01/copy-text-by-using-jquery.html\n",
      "\n",
      "Device detector by javascript\n",
      "\n",
      "29https://mycodingno1.blogspot.com/2021/03/device-detector-by-javascript.html\n",
      "\n",
      "detect height and width of current screenh\n",
      "\n",
      "31https://mycodingno1.blogspot.com/2021/02/detect-height-and-width-of-current.html\n",
      "\n",
      "Outer Html code example\n",
      "\n",
      "33https://mycodingno1.blogspot.com/2021/02/outer-html-code-example.html\n",
      "\n",
      "Detect google chrome by javascript\n",
      "\n",
      "35https://mycodingno1.blogspot.com/2021/02/detect-google-chrome-by-javascript.html\n",
      "\n",
      "Display current time by javascript\n",
      "\n",
      "37https://mycodingno1.blogspot.com/2021/01/display-current-time-by-javascript.html\n",
      "\n",
      "Print any web page by javascript button\n",
      "\n",
      "39https://mycodingno1.blogspot.com/2021/01/print-any-web-page-by-javascript-button.html\n",
      "\n",
      "Drop down button or Menu\n",
      "\n",
      "41https://mycodingno1.blogspot.com/2021/01/drop-down-button-or-menu.html\n",
      "\n",
      "Random Number by javascript\n",
      "\n",
      "43https://mycodingno1.blogspot.com/2020/12/random-number-by-javascript.html\n",
      "\n",
      "Mouse Cursor Position By javascript and HTML\n",
      "\n",
      "45https://mycodingno1.blogspot.com/2020/12/mouse-cursor-position-by-javascript-and.html\n",
      "\n",
      "Clock Time Difference Method by javascript.\n",
      "\n",
      "47https://mycodingno1.blogspot.com/2020/12/clock-time-difference-method-by.html\n"
     ]
    }
   ],
   "source": [
    "for r in range(48):\n",
    "    print(mylist[r])"
   ]
  },
  {
   "cell_type": "code",
   "execution_count": 13,
   "id": "dd3181a2-ae57-433f-abf8-56c458873974",
   "metadata": {},
   "outputs": [],
   "source": [
    "#Add txt in start from string\n",
    "def AddStartString(txt,char):\n",
    "        # mystr =txt\n",
    "        # mystr =mystr[::-1]\n",
    "        # mystr =mystr[-0:]+char\n",
    "        return char+txt"
   ]
  },
  {
   "cell_type": "code",
   "execution_count": 14,
   "id": "b2eb8d60-053d-413b-a459-9e0d6ad28c5e",
   "metadata": {},
   "outputs": [],
   "source": [
    "def addNumber(list,total_lines):\n",
    "    j=1\n",
    "    for x in range(0,total_lines,2):\n",
    "            add_txt = str(j)+'.'\n",
    "            list[x]=AddStartString(list[x],add_txt)\n",
    "            j+=1\n",
    "    return list"
   ]
  },
  {
   "cell_type": "code",
   "execution_count": 15,
   "id": "05198973-25bd-446c-b1a6-b407e3544c0c",
   "metadata": {},
   "outputs": [],
   "source": [
    "def addNewLine(list,total_lines):\n",
    "    for x in range(1,total_lines,2):\n",
    "            add_txt = str(j)+'.'\n",
    "            list[x]=list[x]+'\\n'\n",
    "    return list"
   ]
  },
  {
   "cell_type": "code",
   "execution_count": 16,
   "id": "471f111e-9b89-45ea-b2fa-1f2a57a54b14",
   "metadata": {},
   "outputs": [],
   "source": [
    "# str = \"\".join(mylist)\n",
    "\n",
    "# print(addNumber(mylist,length_))\n",
    "mylist = addNewLine(mylist,length_)"
   ]
  },
  {
   "cell_type": "code",
   "execution_count": 17,
   "id": "209a6ca1-6ab3-4074-88a5-9924cf647732",
   "metadata": {},
   "outputs": [],
   "source": [
    "#replace first character from string\n",
    "# mystr =\"Hello\"\n",
    "# mystr =mystr[::-1]\n",
    "# mystr =mystr[-0:]+'.1'\n",
    "# mystr = mystr[::-1]\n",
    "# print(mystr)"
   ]
  },
  {
   "cell_type": "code",
   "execution_count": null,
   "id": "16ecc156-f96b-451a-bd32-96118905bcf1",
   "metadata": {},
   "outputs": [],
   "source": []
  }
 ],
 "metadata": {
  "kernelspec": {
   "display_name": "Python 3 (ipykernel)",
   "language": "python",
   "name": "python3"
  },
  "language_info": {
   "codemirror_mode": {
    "name": "ipython",
    "version": 3
   },
   "file_extension": ".py",
   "mimetype": "text/x-python",
   "name": "python",
   "nbconvert_exporter": "python",
   "pygments_lexer": "ipython3",
   "version": "3.10.7"
  }
 },
 "nbformat": 4,
 "nbformat_minor": 5
}
