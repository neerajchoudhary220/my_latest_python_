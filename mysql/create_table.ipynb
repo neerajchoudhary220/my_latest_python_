{
 "cells": [
  {
   "cell_type": "code",
   "execution_count": 1,
   "id": "4f915a21-0536-4334-9c6f-b90f6a8f0787",
   "metadata": {},
   "outputs": [],
   "source": [
    "import mysql.connector"
   ]
  },
  {
   "cell_type": "code",
   "execution_count": 17,
   "id": "b5729a3c-0d16-4c61-82bf-57530b292a37",
   "metadata": {},
   "outputs": [
    {
     "name": "stdout",
     "output_type": "stream",
     "text": [
      "table created\n"
     ]
    }
   ],
   "source": [
    "mydb = mysql.connector.connect(\n",
    "host=\"127.0.0.1\",\n",
    "user=\"root\",\n",
    "password=\"\",\n",
    "database=\"arecord\"\n",
    ")\n",
    "cursor = mydb.cursor()\n",
    "cursor.execute(\"CREATE TABLE customers (name VARCHAR(255), address VARCHAR(255))\")\n",
    "print(\"table created\")"
   ]
  },
  {
   "cell_type": "code",
   "execution_count": null,
   "id": "42d918bb-f302-454a-82b9-4b6596fffcb6",
   "metadata": {},
   "outputs": [],
   "source": []
  }
 ],
 "metadata": {
  "kernelspec": {
   "display_name": "Python 3 (ipykernel)",
   "language": "python",
   "name": "python3"
  },
  "language_info": {
   "codemirror_mode": {
    "name": "ipython",
    "version": 3
   },
   "file_extension": ".py",
   "mimetype": "text/x-python",
   "name": "python",
   "nbconvert_exporter": "python",
   "pygments_lexer": "ipython3",
   "version": "3.10.7"
  }
 },
 "nbformat": 4,
 "nbformat_minor": 5
}
