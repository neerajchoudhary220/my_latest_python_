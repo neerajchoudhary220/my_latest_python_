{
 "cells": [
  {
   "cell_type": "code",
   "execution_count": 36,
   "id": "27db19be-df5b-4ace-9bde-2aba706606d3",
   "metadata": {},
   "outputs": [],
   "source": [
    "class Person:\n",
    "    def __init__(self,name,ages):\n",
    "        self.name = name\n",
    "        self.age=ages\n",
    "    def my(self):\n",
    "        return print(f\"Your name : {self.name} and age: {self.age}\")\n",
    "    "
   ]
  },
  {
   "cell_type": "code",
   "execution_count": 61,
   "id": "782d3b5d-e9dc-4150-92ad-3c3d02fca9d5",
   "metadata": {},
   "outputs": [],
   "source": [
    "class Fruits(Person):\n",
    "  def __init__(self,name,ages,color):\n",
    "      super().__init__(name,ages)\n",
    "      self.color=color\n",
    "\n",
    "  def list(self):\n",
    "      return print(f\"name:{self.name} color:{self.color}\")\n",
    "\n",
    "\n",
    "      \n",
    "      "
   ]
  },
  {
   "cell_type": "code",
   "execution_count": 62,
   "id": "f11dfe9f-4e10-4a44-b735-248a68a926e5",
   "metadata": {},
   "outputs": [
    {
     "name": "stdout",
     "output_type": "stream",
     "text": [
      "Your name : neeraj and age: 30\n"
     ]
    }
   ],
   "source": [
    "b = Fruits(\"neeraj\",30,\"orange\")\n",
    "b.my()"
   ]
  },
  {
   "cell_type": "code",
   "execution_count": 63,
   "id": "fea6912a-719a-44ea-9e44-027579f9f12b",
   "metadata": {},
   "outputs": [
    {
     "name": "stdout",
     "output_type": "stream",
     "text": [
      "name:neeraj color:orange\n"
     ]
    }
   ],
   "source": [
    "b.list()"
   ]
  },
  {
   "cell_type": "code",
   "execution_count": null,
   "id": "3b483133-4090-4143-9376-6b7c94dd155b",
   "metadata": {},
   "outputs": [],
   "source": []
  }
 ],
 "metadata": {
  "kernelspec": {
   "display_name": "Python 3 (ipykernel)",
   "language": "python",
   "name": "python3"
  },
  "language_info": {
   "codemirror_mode": {
    "name": "ipython",
    "version": 3
   },
   "file_extension": ".py",
   "mimetype": "text/x-python",
   "name": "python",
   "nbconvert_exporter": "python",
   "pygments_lexer": "ipython3",
   "version": "3.10.7"
  }
 },
 "nbformat": 4,
 "nbformat_minor": 5
}
