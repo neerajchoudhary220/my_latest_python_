{
 "cells": [
  {
   "cell_type": "code",
   "execution_count": 7,
   "id": "0b38f7e0-fc7c-4ed1-84f8-3f701a4d7ca4",
   "metadata": {},
   "outputs": [
    {
     "name": "stdout",
     "output_type": "stream",
     "text": [
      "[ 1  4  7 10]\n"
     ]
    }
   ],
   "source": [
    "import numpy as np\n",
    "my_arr = np.arange(1,11,3)\n",
    "print(my_arr)"
   ]
  },
  {
   "cell_type": "code",
   "execution_count": 13,
   "id": "f6ab4ef7-6273-4cef-9306-1ed437e43201",
   "metadata": {},
   "outputs": [
    {
     "name": "stdout",
     "output_type": "stream",
     "text": [
      "[[ 1]\n",
      " [ 4]\n",
      " [ 7]\n",
      " [10]]\n"
     ]
    }
   ],
   "source": [
    "my_arr = my_arr.reshape(-1,1)\n",
    "print(my_arr)"
   ]
  },
  {
   "cell_type": "code",
   "execution_count": 18,
   "id": "c5d6c698-7761-48c2-a39d-8563d10a4d02",
   "metadata": {},
   "outputs": [
    {
     "name": "stdout",
     "output_type": "stream",
     "text": [
      "[[ 1  4]\n",
      " [ 7 10]]\n"
     ]
    }
   ],
   "source": [
    "#2x2\n",
    "my_arr = my_arr.reshape(2,2)\n",
    "print(my_arr)"
   ]
  },
  {
   "cell_type": "code",
   "execution_count": 24,
   "id": "9effd27f-81b4-4cd5-9746-e7be88b4dada",
   "metadata": {},
   "outputs": [
    {
     "name": "stdout",
     "output_type": "stream",
     "text": [
      "[12 10 44 30 20 22 33 23 44]\n"
     ]
    }
   ],
   "source": [
    "#joining array\n",
    "a = np.array([12,10,44])\n",
    "b= np.array([30,20,22,33,23,44])\n",
    "joining_array = np.concatenate((a,b))\n",
    "print(joining_array)"
   ]
  },
  {
   "cell_type": "code",
   "execution_count": 25,
   "id": "39b6c308-dcc6-454a-a2b2-16e73628dbe8",
   "metadata": {},
   "outputs": [
    {
     "name": "stdout",
     "output_type": "stream",
     "text": [
      "[10 12 20 22 23 30 33 44 44]\n"
     ]
    }
   ],
   "source": [
    "#sort()\n",
    "joining_array.sort()\n",
    "print(joining_array)"
   ]
  },
  {
   "cell_type": "code",
   "execution_count": 31,
   "id": "b8a9975f-11ba-4a96-b88e-d3606b3a9454",
   "metadata": {},
   "outputs": [
    {
     "name": "stdout",
     "output_type": "stream",
     "text": [
      "['Baby', 'Child', 'Child', 'Young', 'Young', 'Young', 'Young', 'Young', 'Young', 'Old', 'Old', 'Old', 'Old', 'Old', 'Old', 'Old', 'Old', 'Old', 'Old']\n"
     ]
    }
   ],
   "source": [
    "#filter\n",
    "ages = np.array([10,15,20,25,30,35,40,45,50,55,60,65,70,75,80,85,90,95,100])\n",
    "Y =[]\n",
    "for age in ages:\n",
    "    if age <=10:\n",
    "        Y.append('Baby')\n",
    "    elif age >10 and age<=20:\n",
    "        Y.append('Child')\n",
    "    elif age >20 and age<=50:\n",
    "        Y.append('Young')\n",
    "    elif age >50:\n",
    "        Y.append('Old')\n",
    "\n",
    "print(Y)\n",
    "    "
   ]
  },
  {
   "cell_type": "code",
   "execution_count": 47,
   "id": "248f39d2-69d9-4742-93d6-382133b49088",
   "metadata": {},
   "outputs": [
    {
     "name": "stdout",
     "output_type": "stream",
     "text": [
      "['Baby' 'Child' 'Old' 'Young']: [ 1  2 10  6]\n"
     ]
    }
   ],
   "source": [
    "unique_values, counts = np.unique(Y, return_counts=True)\n",
    "print(f\"{unique_values}: {counts}\")\n",
    "mylabel = unique_values;"
   ]
  },
  {
   "cell_type": "code",
   "execution_count": 48,
   "id": "4b5cebc3-eff0-402f-a3f0-263ada9e10cb",
   "metadata": {},
   "outputs": [
    {
     "name": "stdout",
     "output_type": "stream",
     "text": [
      "Label ==> ['Baby' 'Child' 'Old' 'Young']\n"
     ]
    }
   ],
   "source": [
    "print(f\"Label ==> {mylabel}\")"
   ]
  },
  {
   "cell_type": "code",
   "execution_count": 49,
   "id": "493dcdc0-09f8-496d-bc92-5e2e0f121305",
   "metadata": {},
   "outputs": [
    {
     "name": "stdout",
     "output_type": "stream",
     "text": [
      "{'Baby': 1, 'Child': 2, 'Old': 10, 'Young': 6}\n"
     ]
    }
   ],
   "source": [
    "result = zip(unique_values,counts)\n",
    "print(dict(result))"
   ]
  },
  {
   "cell_type": "code",
   "execution_count": 50,
   "id": "4bc92b06-7b9a-4ddd-8e4a-2d3e594b76ee",
   "metadata": {},
   "outputs": [
    {
     "name": "stdout",
     "output_type": "stream",
     "text": [
      "[ 1  2 10  6]\n"
     ]
    },
    {
     "data": {
      "text/plain": [
       "numpy.ndarray"
      ]
     },
     "execution_count": 50,
     "metadata": {},
     "output_type": "execute_result"
    }
   ],
   "source": [
    "print(counts)\n",
    "type(counts)"
   ]
  },
  {
   "cell_type": "code",
   "execution_count": 70,
   "id": "b2078b21-7169-488c-90f7-de43a1b3938e",
   "metadata": {},
   "outputs": [
    {
     "data": {
      "image/png": "[encoded data removed]",
      "text/plain": [
       "<Figure size 640x480 with 1 Axes>"
      ]
     },
     "metadata": {},
     "output_type": "display_data"
    }
   ],
   "source": [
    "import matplotlib.pyplot as plt\n",
    "y=counts\n",
    "plt.pie(y,labels=mylabel,rotatelabels=True,counterclock=True,)\n",
    "plt.show()"
   ]
  },
  {
   "cell_type": "code",
   "execution_count": null,
   "id": "082a4161-0396-4c88-ae9f-c78699919d29",
   "metadata": {},
   "outputs": [],
   "source": []
  }
 ],
 "metadata": {
  "kernelspec": {
   "display_name": "Python 3 (ipykernel)",
   "language": "python",
   "name": "python3"
  },
  "language_info": {
   "codemirror_mode": {
    "name": "ipython",
    "version": 3
   },
   "file_extension": ".py",
   "mimetype": "text/x-python",
   "name": "python",
   "nbconvert_exporter": "python",
   "pygments_lexer": "ipython3",
   "version": "3.10.7"
  }
 },
 "nbformat": 4,
 "nbformat_minor": 5
}
