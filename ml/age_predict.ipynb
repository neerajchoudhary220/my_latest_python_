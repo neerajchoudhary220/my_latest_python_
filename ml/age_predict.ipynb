{
 "cells": [
  {
   "cell_type": "code",
   "execution_count": 8,
   "id": "61314edc-482a-4c43-891a-fa612e66a471",
   "metadata": {},
   "outputs": [],
   "source": [
    "import numpy as np\n",
    "from sklearn import linear_model\n",
    "ages =np.array([1,3,5,20,25,30,35,45,50,55,60,65,70,80,90])\n",
    "ages = ages.reshape(-1,1)\n",
    "y = np.array([2,2,3,3,0,0,0,0,0,1,1,1,1,1,1])"
   ]
  },
  {
   "cell_type": "code",
   "execution_count": 25,
   "id": "fed58732-2b6a-45b1-b7d9-dda878b89043",
   "metadata": {},
   "outputs": [],
   "source": [
    "logr = linear_model.LogisticRegression()\n",
    "logr.fit(ages,y)\n",
    "\n",
    "import matplotlib.pyplot as plt"
   ]
  },
  {
   "cell_type": "code",
   "execution_count": 26,
   "id": "7da03f3a-9eea-449d-a89a-f957b95c1be8",
   "metadata": {},
   "outputs": [
    {
     "data": {
      "image/png": "[encoded data removed]",
      "text/plain": [
       "<Figure size 640x480 with 1 Axes>"
      ]
     },
     "metadata": {},
     "output_type": "display_data"
    }
   ],
   "source": [
    "plt.xlabel('ages')\n",
    "plt.ylabel('age title')\n",
    "plt.scatter(x=ages,y=y,marker='x', color='red')\n",
    "plt.grid()"
   ]
  },
  {
   "cell_type": "code",
   "execution_count": 14,
   "id": "d9a8de5f-442d-4655-a1f5-adea859028fe",
   "metadata": {},
   "outputs": [],
   "source": [
    "myAge =22\n",
    "my = np.array([myAge]).reshape(-1,1)\n"
   ]
  },
  {
   "cell_type": "code",
   "execution_count": 24,
   "id": "43e726a4-07a2-4c8a-a0bf-44fa963372a9",
   "metadata": {},
   "outputs": [
    {
     "data": {
      "text/plain": [
       "1.0"
      ]
     },
     "execution_count": 24,
     "metadata": {},
     "output_type": "execute_result"
    }
   ],
   "source": [
    "result = logr.predict(my)\n",
    "logr.score(ages,y)\n"
   ]
  },
  {
   "cell_type": "code",
   "execution_count": null,
   "id": "34749c50-5471-4e06-b230-537212c45518",
   "metadata": {},
   "outputs": [],
   "source": []
  },
  {
   "cell_type": "code",
   "execution_count": 5,
   "id": "91948a89-08cd-4b12-93ac-cd21c1b69c79",
   "metadata": {},
   "outputs": [
    {
     "name": "stdout",
     "output_type": "stream",
     "text": [
      "[[22]]\n",
      "[3]\n"
     ]
    }
   ],
   "source": [
    "\n",
    "# inputVal = input(\"Enter Your age:\")\n",
    "# inputVal = float(inputVal)\n",
    "\n",
    "# my = np.array([inputVal]).reshape(-1,1) \n",
    "\n",
    "\n",
    "\n",
    "\n",
    "# print(f\"Result is :{result}\")\n",
    "# if result == 2:\n",
    "#     print(\"You are a baby\")\n",
    "# elif result==3:\n",
    "#     print(\"You are a child\")\n",
    "# elif result ==0:\n",
    "#     print(\"You are a younger man\")\n",
    "# else:\n",
    "#     print(\"You are an old man\")\n",
    "\n",
    "\n"
   ]
  },
  {
   "cell_type": "code",
   "execution_count": null,
   "id": "af72e5cd-b070-4f04-99fd-d9770e257c9f",
   "metadata": {},
   "outputs": [],
   "source": []
  }
 ],
 "metadata": {
  "kernelspec": {
   "display_name": "Python 3 (ipykernel)",
   "language": "python",
   "name": "python3"
  },
  "language_info": {
   "codemirror_mode": {
    "name": "ipython",
    "version": 3
   },
   "file_extension": ".py",
   "mimetype": "text/x-python",
   "name": "python",
   "nbconvert_exporter": "python",
   "pygments_lexer": "ipython3",
   "version": "3.10.7"
  }
 },
 "nbformat": 4,
 "nbformat_minor": 5
}
