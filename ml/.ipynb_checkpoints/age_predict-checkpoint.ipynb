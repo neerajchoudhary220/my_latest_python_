{
 "cells": [
  {
   "cell_type": "code",
   "execution_count": 32,
   "id": "61314edc-482a-4c43-891a-fa612e66a471",
   "metadata": {},
   "outputs": [
    {
     "name": "stdout",
     "output_type": "stream",
     "text": [
      "15\n"
     ]
    }
   ],
   "source": [
    "import numpy as np\n",
    "from sklearn import linear_model\n",
    "ages =np.array([1,3,5,20,25,30,35,45,50,55,60,65,70,80,90])\n",
    "ages = ages.reshape(-1,1)\n",
    "y = np.array([2,2,3,3,0,0,0,0,0,1,1,1,1,1,1])\n",
    "\n",
    "\n",
    "\n"
   ]
  },
  {
   "cell_type": "code",
   "execution_count": 33,
   "id": "91948a89-08cd-4b12-93ac-cd21c1b69c79",
   "metadata": {},
   "outputs": [
    {
     "name": "stdin",
     "output_type": "stream",
     "text": [
      "Enter Your age: 10\n"
     ]
    },
    {
     "name": "stdout",
     "output_type": "stream",
     "text": [
      "Result is :[3]\n",
      "You are old man\n"
     ]
    }
   ],
   "source": [
    "logr = linear_model.LogisticRegression()\n",
    "logr.fit(ages,y)\n",
    "\n",
    "inputVal = input(\"Enter Your age:\")\n",
    "inputVal = int(inputVal)\n",
    "\n",
    "my = np.array([inputVal]).reshape(-1,1)   \n",
    "result = logr.predict(my)\n",
    "print(f\"Result is :{result}\")\n",
    "if result == 2:\n",
    "    print(\"You are a baby\")\n",
    "elif result==3:\n",
    "    print(\"You are a child\")\n",
    "elif result ==0:\n",
    "    print(\"You are a younger man\")\n",
    "else:\n",
    "    print(\"You are an old man\")\n",
    "    \n",
    "\n"
   ]
  },
  {
   "cell_type": "code",
   "execution_count": null,
   "id": "af72e5cd-b070-4f04-99fd-d9770e257c9f",
   "metadata": {},
   "outputs": [],
   "source": []
  }
 ],
 "metadata": {
  "kernelspec": {
   "display_name": "Python 3 (ipykernel)",
   "language": "python",
   "name": "python3"
  },
  "language_info": {
   "codemirror_mode": {
    "name": "ipython",
    "version": 3
   },
   "file_extension": ".py",
   "mimetype": "text/x-python",
   "name": "python",
   "nbconvert_exporter": "python",
   "pygments_lexer": "ipython3",
   "version": "3.10.7"
  }
 },
 "nbformat": 4,
 "nbformat_minor": 5
}
