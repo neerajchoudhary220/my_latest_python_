{
 "cells": [
  {
   "cell_type": "code",
   "execution_count": 24,
   "id": "08f4b8e4-d98c-4d1b-9b89-018b48ed3187",
   "metadata": {},
   "outputs": [],
   "source": [
    "import joblib"
   ]
  },
  {
   "cell_type": "code",
   "execution_count": 29,
   "id": "e7ddd6b1-e047-4811-9c64-635a7d5de12d",
   "metadata": {},
   "outputs": [
    {
     "name": "stdin",
     "output_type": "stream",
     "text": [
      "Enter your age 30\n"
     ]
    },
    {
     "name": "stdout",
     "output_type": "stream",
     "text": [
      "You are a Young\n"
     ]
    }
   ],
   "source": [
    "age = joblib.load('predict_age')\n",
    "yourage = input(\"Enter your age\")\n",
    "result = age.predict([[int(yourage)]])[0]\n",
    "print(f\"You are a {result}\")"
   ]
  },
  {
   "cell_type": "code",
   "execution_count": null,
   "id": "ab79fa49-f5fd-4462-bb31-b697c3d3390c",
   "metadata": {},
   "outputs": [],
   "source": []
  }
 ],
 "metadata": {
  "kernelspec": {
   "display_name": "Python 3 (ipykernel)",
   "language": "python",
   "name": "python3"
  },
  "language_info": {
   "codemirror_mode": {
    "name": "ipython",
    "version": 3
   },
   "file_extension": ".py",
   "mimetype": "text/x-python",
   "name": "python",
   "nbconvert_exporter": "python",
   "pygments_lexer": "ipython3",
   "version": "3.10.7"
  }
 },
 "nbformat": 4,
 "nbformat_minor": 5
}
