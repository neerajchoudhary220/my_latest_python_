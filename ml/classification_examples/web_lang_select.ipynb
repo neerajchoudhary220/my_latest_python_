{
 "cells": [
  {
   "cell_type": "code",
   "execution_count": 32,
   "id": "76d6ca27-ac6f-45a8-b00b-d816c9d47f86",
   "metadata": {},
   "outputs": [],
   "source": [
    "import joblib"
   ]
  },
  {
   "cell_type": "code",
   "execution_count": 33,
   "id": "5bab9c04-f4a4-4eb3-954d-e05bb6325841",
   "metadata": {},
   "outputs": [],
   "source": [
    "model = joblib.load('select_web_lang_model')\n",
    "html_model = joblib.load('html_model')\n",
    "html_vocab = joblib.load('html_vocab')"
   ]
  },
  {
   "cell_type": "code",
   "execution_count": 81,
   "id": "a78bae17-7bfe-4849-a952-b2f48741b538",
   "metadata": {},
   "outputs": [],
   "source": [
    "v = joblib.load('select_web_lang_vocab')\n",
    "question =[\"write script tag\"]"
   ]
  },
  {
   "cell_type": "code",
   "execution_count": 82,
   "id": "18fee6fb-ecc6-4cfb-861c-0c090064c40e",
   "metadata": {},
   "outputs": [],
   "source": [
    "def get_web_lang(lang):\n",
    "    if lang ==1:\n",
    "        html = html_model.predict(html_vocab.transform(question))[0]\n",
    "        return get_html(html)\n",
    "    elif lang==2:\n",
    "        return 'Bootstrap'\n",
    "    elif lang==3:\n",
    "        return 'Js'\n",
    "    else:\n",
    "        return 'CSS'\n"
   ]
  },
  {
   "cell_type": "code",
   "execution_count": 83,
   "id": "d6422ceb-ff52-4470-bd3c-ec017d9d0903",
   "metadata": {},
   "outputs": [],
   "source": [
    "def get_html(html):\n",
    "    if html==1:\n",
    "        return 'all_input'\n",
    "    elif html==2:\n",
    "        return 'check_input'\n",
    "    elif html==3:\n",
    "        return 'script_tag'\n",
    "    else:\n",
    "        return 'button'"
   ]
  },
  {
   "cell_type": "code",
   "execution_count": 84,
   "id": "96dc8bb7-d066-4983-b312-59e220a7d6dc",
   "metadata": {},
   "outputs": [
    {
     "name": "stdout",
     "output_type": "stream",
     "text": [
      "script_tag\n"
     ]
    }
   ],
   "source": [
    "choose_web_lang= model.predict(v.transform(question))[0]\n",
    "result = get_web_lang(choose_web_lang)\n",
    "print(result)"
   ]
  },
  {
   "cell_type": "code",
   "execution_count": null,
   "id": "e857cb70-5007-46a3-8a49-7f9db3550973",
   "metadata": {},
   "outputs": [],
   "source": []
  }
 ],
 "metadata": {
  "kernelspec": {
   "display_name": "Python 3 (ipykernel)",
   "language": "python",
   "name": "python3"
  },
  "language_info": {
   "codemirror_mode": {
    "name": "ipython",
    "version": 3
   },
   "file_extension": ".py",
   "mimetype": "text/x-python",
   "name": "python",
   "nbconvert_exporter": "python",
   "pygments_lexer": "ipython3",
   "version": "3.10.7"
  }
 },
 "nbformat": 4,
 "nbformat_minor": 5
}
