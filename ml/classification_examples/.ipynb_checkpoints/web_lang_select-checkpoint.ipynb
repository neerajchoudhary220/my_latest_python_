{
 "cells": [
  {
   "cell_type": "code",
   "execution_count": 32,
   "id": "76d6ca27-ac6f-45a8-b00b-d816c9d47f86",
   "metadata": {},
   "outputs": [],
   "source": [
    "import joblib"
   ]
  },
  {
   "cell_type": "code",
   "execution_count": 33,
   "id": "5bab9c04-f4a4-4eb3-954d-e05bb6325841",
   "metadata": {},
   "outputs": [],
   "source": [
    "model = joblib.load('select_web_lang_model')\n",
    "html_model = joblib.load('html_model')\n",
    "html_vocab = joblib.load('html_vocab')"
   ]
  },
  {
   "cell_type": "code",
   "execution_count": 50,
   "id": "a78bae17-7bfe-4849-a952-b2f48741b538",
   "metadata": {},
   "outputs": [],
   "source": [
    "v = joblib.load('select_web_lang_vocab')\n",
    "question =[\"write html button\"]"
   ]
  },
  {
   "cell_type": "code",
   "execution_count": 51,
   "id": "18fee6fb-ecc6-4cfb-861c-0c090064c40e",
   "metadata": {},
   "outputs": [],
   "source": [
    "def get_web_lang(lang):\n",
    "    if lang ==1:\n",
    "        html = html_model.predict(html_vocab.transform(question))[0]\n",
    "        return get_html(lang)\n",
    "    elif lang==2:\n",
    "        return 'Bootstrap'\n",
    "    elif lang==3:\n",
    "        return 'Js'\n",
    "    else:\n",
    "        return 'CSS'\n"
   ]
  },
  {
   "cell_type": "code",
   "execution_count": 52,
   "id": "d6422ceb-ff52-4470-bd3c-ec017d9d0903",
   "metadata": {},
   "outputs": [],
   "source": [
    "def get_html(html):\n",
    "    return print(html)\n",
    "    if html==1:\n",
    "        return 'all_input'\n",
    "    elif html==2:\n",
    "        return 'check_input'\n",
    "    elif html==3:\n",
    "        return 'script_tag'\n",
    "    else:\n",
    "        return 'button'"
   ]
  },
  {
   "cell_type": "code",
   "execution_count": 53,
   "id": "96dc8bb7-d066-4983-b312-59e220a7d6dc",
   "metadata": {},
   "outputs": [
    {
     "name": "stdout",
     "output_type": "stream",
     "text": [
      "1\n",
      "None\n"
     ]
    }
   ],
   "source": [
    "choose_web_lang= model.predict(v.transform(question))[0]\n",
    "result = get_web_lang(choose_web_lang)\n",
    "print(result)"
   ]
  },
  {
   "cell_type": "code",
   "execution_count": null,
   "id": "40ea19d2-af41-4063-baf4-7c06382346af",
   "metadata": {},
   "outputs": [],
   "source": []
  },
  {
   "cell_type": "code",
   "execution_count": 62,
   "id": "b0a78406-d47b-4d0e-903c-428f14daccf9",
   "metadata": {},
   "outputs": [
    {
     "name": "stdout",
     "output_type": "stream",
     "text": [
      "4\n"
     ]
    }
   ],
   "source": [
    " html = html_model.predict(html_vocab.transform(question))[0]\n",
    "print(html)"
   ]
  },
  {
   "cell_type": "code",
   "execution_count": null,
   "id": "17cdbdd5-5064-4e97-a220-461f5ec1dbf8",
   "metadata": {},
   "outputs": [],
   "source": []
  },
  {
   "cell_type": "code",
   "execution_count": null,
   "id": "3adf1088-5a74-4567-8f08-006a7ed28bf5",
   "metadata": {},
   "outputs": [],
   "source": []
  },
  {
   "cell_type": "code",
   "execution_count": null,
   "id": "e857cb70-5007-46a3-8a49-7f9db3550973",
   "metadata": {},
   "outputs": [],
   "source": []
  }
 ],
 "metadata": {
  "kernelspec": {
   "display_name": "Python 3 (ipykernel)",
   "language": "python",
   "name": "python3"
  },
  "language_info": {
   "codemirror_mode": {
    "name": "ipython",
    "version": 3
   },
   "file_extension": ".py",
   "mimetype": "text/x-python",
   "name": "python",
   "nbconvert_exporter": "python",
   "pygments_lexer": "ipython3",
   "version": "3.10.7"
  }
 },
 "nbformat": 4,
 "nbformat_minor": 5
}
