{
 "cells": [
  {
   "cell_type": "code",
   "execution_count": 1,
   "id": "a1ea61e0-5625-463c-8e53-15fae86b5e8e",
   "metadata": {},
   "outputs": [],
   "source": [
    "from sklearn.feature_extraction.text import CountVectorizer"
   ]
  },
  {
   "cell_type": "code",
   "execution_count": 2,
   "id": "99e2bf21-df21-491d-94a9-00caa406ea68",
   "metadata": {},
   "outputs": [],
   "source": [
    "fruits =[\"Apple Mango Grepes Orange Lemon Orange Apple Orange \"]"
   ]
  },
  {
   "cell_type": "code",
   "execution_count": 3,
   "id": "b9c02050-2ffc-4605-b567-60ae7b921cdd",
   "metadata": {},
   "outputs": [],
   "source": [
    "v = CountVectorizer()"
   ]
  },
  {
   "cell_type": "code",
   "execution_count": null,
   "id": "36c73251-b432-4940-9d93-5d455979bf22",
   "metadata": {},
   "outputs": [],
   "source": [
    "fruits_"
   ]
  }
 ],
 "metadata": {
  "kernelspec": {
   "display_name": "Python 3 (ipykernel)",
   "language": "python",
   "name": "python3"
  },
  "language_info": {
   "codemirror_mode": {
    "name": "ipython",
    "version": 3
   },
   "file_extension": ".py",
   "mimetype": "text/x-python",
   "name": "python",
   "nbconvert_exporter": "python",
   "pygments_lexer": "ipython3",
   "version": "3.10.7"
  }
 },
 "nbformat": 4,
 "nbformat_minor": 5
}
