{
 "cells": [
  {
   "cell_type": "code",
   "execution_count": 19,
   "id": "03d1a29f-9c02-476e-929f-8d42ae72955f",
   "metadata": {},
   "outputs": [],
   "source": [
    "import joblib"
   ]
  },
  {
   "cell_type": "code",
   "execution_count": 20,
   "id": "4abfeec4-cfcb-4133-aaad-57ab94d0212b",
   "metadata": {},
   "outputs": [],
   "source": [
    "new=joblib.load('bird_classfication')\n",
    "v= joblib.load('vacab')"
   ]
  },
  {
   "cell_type": "code",
   "execution_count": 23,
   "id": "62a609ed-63f2-484b-bfcc-81ceea6d5913",
   "metadata": {},
   "outputs": [],
   "source": [
    "result = new.predict(v.transform(['peacock']))[0]"
   ]
  },
  {
   "cell_type": "code",
   "execution_count": 24,
   "id": "8dd5b94d-bc89-4e79-ac62-ceab6ee482b8",
   "metadata": {},
   "outputs": [
    {
     "name": "stdout",
     "output_type": "stream",
     "text": [
      "Bird\n"
     ]
    }
   ],
   "source": [
    "print(result)"
   ]
  },
  {
   "cell_type": "code",
   "execution_count": 25,
   "id": "41bf7a7c-7ab3-466f-aa59-23a18704d96b",
   "metadata": {},
   "outputs": [],
   "source": [
    "words = \"lion peacock hean deer zebra monkey parrot sparrow tiger\""
   ]
  },
  {
   "cell_type": "code",
   "execution_count": 26,
   "id": "8b98c738-6ab7-4ec4-8dbc-c60d5ff74dc4",
   "metadata": {},
   "outputs": [],
   "source": [
    "words = words.split()"
   ]
  },
  {
   "cell_type": "code",
   "execution_count": 31,
   "id": "56ed4b96-07f4-44ea-8977-5f6867acd3bf",
   "metadata": {},
   "outputs": [],
   "source": [
    "animals=[]\n",
    "birds=[]"
   ]
  },
  {
   "cell_type": "code",
   "execution_count": 38,
   "id": "261b0fe8-2070-4e88-b866-003fc7dcb467",
   "metadata": {},
   "outputs": [],
   "source": [
    "for word in words:\n",
    "    check_= new.predict(v.transform([word]))[0]\n",
    "    if check_ =='Bird':\n",
    "        birds.append(word)\n",
    "    else:\n",
    "        animals.append(word)\n",
    "\n"
   ]
  },
  {
   "cell_type": "code",
   "execution_count": 39,
   "id": "45ac58db-7b23-40ff-b373-acf899d32ab7",
   "metadata": {},
   "outputs": [
    {
     "data": {
      "text/plain": [
       "['Bird', 'Bird', 'Bird', 'Bird']"
      ]
     },
     "execution_count": 39,
     "metadata": {},
     "output_type": "execute_result"
    }
   ],
   "source": [
    "birds"
   ]
  },
  {
   "cell_type": "code",
   "execution_count": null,
   "id": "f772a54b-c512-4530-9801-8fe70bb72cb5",
   "metadata": {},
   "outputs": [],
   "source": []
  }
 ],
 "metadata": {
  "kernelspec": {
   "display_name": "Python 3 (ipykernel)",
   "language": "python",
   "name": "python3"
  },
  "language_info": {
   "codemirror_mode": {
    "name": "ipython",
    "version": 3
   },
   "file_extension": ".py",
   "mimetype": "text/x-python",
   "name": "python",
   "nbconvert_exporter": "python",
   "pygments_lexer": "ipython3",
   "version": "3.10.7"
  }
 },
 "nbformat": 4,
 "nbformat_minor": 5
}
