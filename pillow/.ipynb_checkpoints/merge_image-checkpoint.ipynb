{
 "cells": [
  {
   "cell_type": "code",
   "execution_count": 2,
   "id": "0cd25ad5-f4fe-483c-a7de-065c90668dc6",
   "metadata": {},
   "outputs": [
    {
     "name": "stdout",
     "output_type": "stream",
     "text": [
      "(367, 349)\n",
      "(129, 103)\n"
     ]
    }
   ],
   "source": [
    "from PIL import Image\n",
    "import numpy as np\n",
    "t= \"Triangle.png\"\n",
    "c = \"circle.png\"\n",
    "\n",
    "Triangle = Image.open(t)\n",
    "Circle = Image.open(c)\n",
    "print(Triangle.size)\n",
    "print(Circle.size)"
   ]
  },
  {
   "cell_type": "code",
   "execution_count": 3,
   "id": "7f7db4c7-e21b-4b56-873c-8aae90888789",
   "metadata": {},
   "outputs": [
    {
     "name": "stdout",
     "output_type": "stream",
     "text": [
      "(367, 349)\n"
     ]
    }
   ],
   "source": [
    "triangle_size = Triangle.size\n",
    "print(triangle_size)"
   ]
  },
  {
   "cell_type": "code",
   "execution_count": 4,
   "id": "91b3c1fe-d10e-41b8-9c74-696f0622d57e",
   "metadata": {},
   "outputs": [
    {
     "name": "stdout",
     "output_type": "stream",
     "text": [
      "367\n"
     ]
    }
   ],
   "source": [
    "print(triangle_size[0])"
   ]
  },
  {
   "cell_type": "code",
   "execution_count": 11,
   "id": "a4fcd5bd-e522-4b03-81f1-54b0419c55e2",
   "metadata": {},
   "outputs": [],
   "source": [
    "new_img = Image.new(\"RGB\",(600,600),(255,255,255,255))\n"
   ]
  },
  {
   "cell_type": "code",
   "execution_count": 16,
   "id": "db437321-d9d5-4c68-ab2d-8c46859be2b9",
   "metadata": {},
   "outputs": [],
   "source": [
    "new_img.paste(Triangle,(0,0))\n",
    "new_img.paste(Circle,(0,300))\n",
    "              \n",
    "new_img.show()"
   ]
  },
  {
   "cell_type": "code",
   "execution_count": null,
   "id": "1bd5a364-d073-40e3-8e62-cce2af3a2a57",
   "metadata": {},
   "outputs": [],
   "source": []
  },
  {
   "cell_type": "code",
   "execution_count": null,
   "id": "71ca0a85-a6c2-453f-8c01-923ebfd11ec9",
   "metadata": {},
   "outputs": [],
   "source": []
  }
 ],
 "metadata": {
  "kernelspec": {
   "display_name": "Python 3 (ipykernel)",
   "language": "python",
   "name": "python3"
  },
  "language_info": {
   "codemirror_mode": {
    "name": "ipython",
    "version": 3
   },
   "file_extension": ".py",
   "mimetype": "text/x-python",
   "name": "python",
   "nbconvert_exporter": "python",
   "pygments_lexer": "ipython3",
   "version": "3.10.7"
  }
 },
 "nbformat": 4,
 "nbformat_minor": 5
}
