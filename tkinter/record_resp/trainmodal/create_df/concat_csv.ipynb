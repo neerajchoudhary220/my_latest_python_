{
 "cells": [
  {
   "cell_type": "code",
   "execution_count": 1,
   "id": "d312f50d-797d-4114-9fe2-664a793f72eb",
   "metadata": {},
   "outputs": [
    {
     "name": "stdout",
     "output_type": "stream",
     "text": [
      "bootstrap.csv file has been created\n"
     ]
    }
   ],
   "source": [
    "from concatcsv import concat\n",
    "from pathlib import Path\n",
    "concat.Files(\"./generated_csv/bootstrap/main\",\"bootstrap.csv\").createcsv()"
   ]
  },
  {
   "cell_type": "code",
   "execution_count": null,
   "id": "2e94a084-906c-45df-9583-1425444f95f4",
   "metadata": {},
   "outputs": [],
   "source": []
  }
 ],
 "metadata": {
  "kernelspec": {
   "display_name": "Python 3 (ipykernel)",
   "language": "python",
   "name": "python3"
  },
  "language_info": {
   "codemirror_mode": {
    "name": "ipython",
    "version": 3
   },
   "file_extension": ".py",
   "mimetype": "text/x-python",
   "name": "python",
   "nbconvert_exporter": "python",
   "pygments_lexer": "ipython3",
   "version": "3.10.7"
  }
 },
 "nbformat": 4,
 "nbformat_minor": 5
}
