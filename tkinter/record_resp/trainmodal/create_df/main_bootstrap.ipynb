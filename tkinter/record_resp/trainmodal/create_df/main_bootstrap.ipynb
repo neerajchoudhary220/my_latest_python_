{
 "cells": [
  {
   "cell_type": "code",
   "execution_count": 1,
   "id": "b79b750a-9ebe-4f6a-9ea8-0643a671a5d6",
   "metadata": {},
   "outputs": [],
   "source": [
    "from randomsentence import datasheetgen\n",
    "import ast"
   ]
  },
  {
   "cell_type": "code",
   "execution_count": 5,
   "id": "f42cb220-9fe3-47d3-96d5-7d518ff7efe2",
   "metadata": {},
   "outputs": [],
   "source": [
    "with open('abc.json') as f:\n",
    "    data = f.read()"
   ]
  },
  {
   "cell_type": "code",
   "execution_count": 6,
   "id": "4fa4b847-44e5-4c87-9507-da92ef30544c",
   "metadata": {},
   "outputs": [],
   "source": [
    "bootstrap = ast.literal_eval(data)"
   ]
  },
  {
   "cell_type": "code",
   "execution_count": 7,
   "id": "b32c84c9-9059-4cb3-9f25-2a08cefac3e9",
   "metadata": {},
   "outputs": [],
   "source": [
    "labels = bootstrap['labels']\n",
    "path =\"./generated_csv/bootstrap/main\""
   ]
  },
  {
   "cell_type": "code",
   "execution_count": 8,
   "id": "3badeb10-77c6-4f08-a72e-11d94881ed21",
   "metadata": {},
   "outputs": [
    {
     "name": "stdout",
     "output_type": "stream",
     "text": [
      "button.csv file has been created\n",
      "model.csv file has been created\n",
      "card.csv file has been created\n",
      "color.csv file has been created\n",
      "badge.csv file has been created\n"
     ]
    }
   ],
   "source": [
    "for key in bootstrap['labels']:\n",
    "    label_id = labels[key]['label_id']\n",
    "    names=labels[key]['names']\n",
    "    verbs=labels[key]['verbs']\n",
    "    noun=labels[key]['noun']\n",
    "    label = key\n",
    "    datasheetgen.Createcsv(path,label,label_id,names,verbs,noun).creatingcsv()"
   ]
  },
  {
   "cell_type": "code",
   "execution_count": null,
   "id": "7a3f9e02-e518-4f75-b968-6b778d8a0c77",
   "metadata": {},
   "outputs": [],
   "source": []
  },
  {
   "cell_type": "code",
   "execution_count": null,
   "id": "b5319d04-e624-4145-8bb9-c8eafb1d11a1",
   "metadata": {},
   "outputs": [],
   "source": []
  }
 ],
 "metadata": {
  "kernelspec": {
   "display_name": "Python 3 (ipykernel)",
   "language": "python",
   "name": "python3"
  },
  "language_info": {
   "codemirror_mode": {
    "name": "ipython",
    "version": 3
   },
   "file_extension": ".py",
   "mimetype": "text/x-python",
   "name": "python",
   "nbconvert_exporter": "python",
   "pygments_lexer": "ipython3",
   "version": "3.10.7"
  }
 },
 "nbformat": 4,
 "nbformat_minor": 5
}
