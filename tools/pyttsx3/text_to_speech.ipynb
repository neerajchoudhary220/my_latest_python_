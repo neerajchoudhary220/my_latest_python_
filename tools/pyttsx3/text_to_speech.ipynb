{
 "cells": [
  {
   "cell_type": "code",
   "execution_count": 2,
   "id": "fb9d1e52-d1dc-47be-9150-05ce4b96fe02",
   "metadata": {},
   "outputs": [],
   "source": [
    "import pyttsx3\n",
    "engine =pyttsx3.init()"
   ]
  },
  {
   "cell_type": "code",
   "execution_count": 5,
   "id": "b851e698-3aba-4d5f-a842-847e879d4ada",
   "metadata": {},
   "outputs": [],
   "source": [
    "voices=engine.getProperty('voices')"
   ]
  },
  {
   "cell_type": "code",
   "execution_count": 29,
   "id": "4a0c89b7-831d-491a-b6ac-dd0dc57d7ee7",
   "metadata": {},
   "outputs": [],
   "source": [
    "engine.setProperty('voice',voices[1].id)"
   ]
  },
  {
   "cell_type": "code",
   "execution_count": 36,
   "id": "74a3edb0-25a2-4ba2-a4d8-dc7f5d09771b",
   "metadata": {},
   "outputs": [],
   "source": [
    "engine.setProperty('rate',100)"
   ]
  },
  {
   "cell_type": "code",
   "execution_count": 37,
   "id": "971e90f6-078c-462d-9d5b-0eb5e75c1ce5",
   "metadata": {},
   "outputs": [],
   "source": [
    "engine.say('''Pooja\n",
    "Pooja choudhary\n",
    "Pooja jaat\n",
    "Pooja meggi khati hai\n",
    "Pooja meghi maang rhi hai''')"
   ]
  },
  {
   "cell_type": "code",
   "execution_count": null,
   "id": "9cefee09-121d-4b3e-a329-737fcfb7cff8",
   "metadata": {},
   "outputs": [],
   "source": [
    "engine.runAndWait()"
   ]
  },
  {
   "cell_type": "code",
   "execution_count": null,
   "id": "28fe106b-a9e0-4db1-a081-0b11877e42e5",
   "metadata": {},
   "outputs": [],
   "source": []
  }
 ],
 "metadata": {
  "kernelspec": {
   "display_name": "Python 3 (ipykernel)",
   "language": "python",
   "name": "python3"
  },
  "language_info": {
   "codemirror_mode": {
    "name": "ipython",
    "version": 3
   },
   "file_extension": ".py",
   "mimetype": "text/x-python",
   "name": "python",
   "nbconvert_exporter": "python",
   "pygments_lexer": "ipython3",
   "version": "3.10.7"
  }
 },
 "nbformat": 4,
 "nbformat_minor": 5
}
