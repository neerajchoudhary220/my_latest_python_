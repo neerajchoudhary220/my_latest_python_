{
 "cells": [
  {
   "cell_type": "code",
   "execution_count": 3,
   "id": "fc7fa36d-aeec-4e5a-845a-73990e020173",
   "metadata": {},
   "outputs": [],
   "source": [
    "import cv2,os\n",
    "import numpy as np"
   ]
  },
  {
   "cell_type": "code",
   "execution_count": 4,
   "id": "8bf97eb7-f3a3-4c90-bba7-b60ed4283be4",
   "metadata": {},
   "outputs": [],
   "source": [
    "image_dir = './images'\n",
    "images_data =[]"
   ]
  },
  {
   "cell_type": "code",
   "execution_count": 6,
   "id": "ede63345-20c9-49da-a87f-cfb554992495",
   "metadata": {},
   "outputs": [
    {
     "data": {
      "text/plain": [
       "['eight.PNG',\n",
       " 'five.PNG',\n",
       " 'four.PNG',\n",
       " 'nine.PNG',\n",
       " 'one.PNG',\n",
       " 'sevan.PNG',\n",
       " 'six.PNG',\n",
       " 'three.PNG',\n",
       " 'two.PNG']"
      ]
     },
     "execution_count": 6,
     "metadata": {},
     "output_type": "execute_result"
    }
   ],
   "source": [
    "images_names = os.listdir(image_dir)\n",
    "images_names"
   ]
  },
  {
   "cell_type": "code",
   "execution_count": 11,
   "id": "f9a2a371-d0a2-47a7-a08a-c457d841e7c0",
   "metadata": {},
   "outputs": [],
   "source": [
    "for image_name in images_names:\n",
    "    image = cv2.imread(os.path.join(image_dir,image_name))\n",
    "    gray_img = cv2.cvtColor(image,cv2.COLOR_BGR2GRAY)\n",
    "    resize_img = cv2.resize(gray_img,(28,28))\n",
    "    data = resize_img.flatten()\n",
    "    images_data.append(data)"
   ]
  },
  {
   "cell_type": "code",
   "execution_count": 16,
   "id": "f7c42bf7-6a84-485e-8a9b-7eac7973ef01",
   "metadata": {},
   "outputs": [],
   "source": [
    "np.save(\"digits.npy\",images_data)"
   ]
  },
  {
   "cell_type": "code",
   "execution_count": null,
   "id": "4925dae3-07c9-4ddb-bdf6-3fa39c6d4813",
   "metadata": {},
   "outputs": [],
   "source": []
  }
 ],
 "metadata": {
  "kernelspec": {
   "display_name": "Python 3 (ipykernel)",
   "language": "python",
   "name": "python3"
  },
  "language_info": {
   "codemirror_mode": {
    "name": "ipython",
    "version": 3
   },
   "file_extension": ".py",
   "mimetype": "text/x-python",
   "name": "python",
   "nbconvert_exporter": "python",
   "pygments_lexer": "ipython3",
   "version": "3.10.7"
  }
 },
 "nbformat": 4,
 "nbformat_minor": 5
}
