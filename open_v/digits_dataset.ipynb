{
 "cells": [
  {
   "cell_type": "code",
   "execution_count": 1,
   "id": "fc7fa36d-aeec-4e5a-845a-73990e020173",
   "metadata": {},
   "outputs": [],
   "source": [
    "import cv2,os\n",
    "import numpy as np"
   ]
  },
  {
   "cell_type": "code",
   "execution_count": 2,
   "id": "8bf97eb7-f3a3-4c90-bba7-b60ed4283be4",
   "metadata": {},
   "outputs": [],
   "source": [
    "image_dir = './images'\n",
    "images_data =[]"
   ]
  },
  {
   "cell_type": "code",
   "execution_count": 3,
   "id": "ede63345-20c9-49da-a87f-cfb554992495",
   "metadata": {},
   "outputs": [
    {
     "data": {
      "text/plain": [
       "['eight.PNG',\n",
       " 'five.PNG',\n",
       " 'four.PNG',\n",
       " 'nine.PNG',\n",
       " 'one.PNG',\n",
       " 'one_.png',\n",
       " 'sevan.PNG',\n",
       " 'six.PNG',\n",
       " 'three.PNG',\n",
       " 'two.PNG']"
      ]
     },
     "execution_count": 3,
     "metadata": {},
     "output_type": "execute_result"
    }
   ],
   "source": [
    "images_names = os.listdir(image_dir)\n",
    "images_names"
   ]
  },
  {
   "cell_type": "code",
   "execution_count": 4,
   "id": "0524096b-405f-478f-bb05-6edf542364a9",
   "metadata": {},
   "outputs": [],
   "source": [
    "# for image_name in images_names:\n",
    "#     image = cv2.imread(os.path.join(image_dir,image_name))\n",
    "#     gray = cv2.cvtColor(image,cv2.COLOR_BGR2GRAY)\n",
    "#     resize_image "
   ]
  },
  {
   "cell_type": "code",
   "execution_count": 5,
   "id": "2a6022fa-bc2d-4434-b195-1a4d7dcb6ad0",
   "metadata": {},
   "outputs": [],
   "source": [
    "one = cv2.imread(os.path.join(image_dir,'one.PNG'))\n",
    "gray = cv2.cvtColor(one,cv2.COLOR_BGR2GRAY)\n",
    "resized_image = cv2.resize(gray,(8,8))"
   ]
  },
  {
   "cell_type": "code",
   "execution_count": 6,
   "id": "bf23f3af-1d53-49b0-a389-98fa80ec912c",
   "metadata": {},
   "outputs": [
    {
     "data": {
      "text/plain": [
       "(8, 8)"
      ]
     },
     "execution_count": 6,
     "metadata": {},
     "output_type": "execute_result"
    }
   ],
   "source": [
    "resized_image.shape"
   ]
  },
  {
   "cell_type": "code",
   "execution_count": 7,
   "id": "8f1df60d-19ee-4c21-8c4f-4e024a126958",
   "metadata": {},
   "outputs": [],
   "source": [
    "import matplotlib.pyplot as plt"
   ]
  },
  {
   "cell_type": "code",
   "execution_count": 8,
   "id": "9e5c34b3-df7d-4321-9390-1725cdf6a5f2",
   "metadata": {},
   "outputs": [
    {
     "data": {
      "text/plain": [
       "<matplotlib.image.AxesImage at 0x238064c71f0>"
      ]
     },
     "execution_count": 8,
     "metadata": {},
     "output_type": "execute_result"
    },
    {
     "data": {
      "image/png": "[encoded data removed]",
      "text/plain": [
       "<Figure size 480x480 with 1 Axes>"
      ]
     },
     "metadata": {},
     "output_type": "display_data"
    }
   ],
   "source": [
    "plt.matshow(resized_image)"
   ]
  },
  {
   "cell_type": "code",
   "execution_count": 9,
   "id": "814ac98b-9a09-46b9-aa18-a6365e7358fd",
   "metadata": {},
   "outputs": [
    {
     "data": {
      "text/plain": [
       "array([[255, 255, 255, 255, 255, 255, 255, 255],\n",
       "       [255, 255, 255, 255, 255, 255, 255, 255],\n",
       "       [255, 255, 255, 143, 143, 255, 255, 255],\n",
       "       [255, 255, 255, 143, 143, 255, 255, 255],\n",
       "       [255, 255, 255, 143, 143, 255, 255, 255],\n",
       "       [255, 255, 255, 143, 143, 255, 255, 255],\n",
       "       [255, 255, 255, 255, 255, 255, 255, 255],\n",
       "       [255, 255, 255, 255, 255, 255, 255, 255]], dtype=uint8)"
      ]
     },
     "execution_count": 9,
     "metadata": {},
     "output_type": "execute_result"
    }
   ],
   "source": [
    "resized_image"
   ]
  },
  {
   "cell_type": "code",
   "execution_count": 12,
   "id": "cd4f7219-3d70-46e3-973c-ba51aa69c1aa",
   "metadata": {},
   "outputs": [],
   "source": [
    "img=resized_image.astype('float64')"
   ]
  },
  {
   "cell_type": "code",
   "execution_count": 18,
   "id": "72365972-3788-4a99-beab-fff5e802f69c",
   "metadata": {},
   "outputs": [
    {
     "data": {
      "text/plain": [
       "array([[4.16815698e-10, 4.16815698e-10, 4.16815698e-10, 4.16815698e-10,\n",
       "        4.16815698e-10, 4.16815698e-10, 4.16815698e-10, 4.16815698e-10,\n",
       "        4.16815698e-10, 4.16815698e-10, 4.16815698e-10, 4.16815698e-10,\n",
       "        4.16815698e-10, 4.16815698e-10, 4.16815698e-10, 4.16815698e-10,\n",
       "        4.16815698e-10, 4.16815698e-10, 4.16815698e-10, 2.33743705e-10,\n",
       "        2.33743705e-10, 4.16815698e-10, 4.16815698e-10, 4.16815698e-10,\n",
       "        4.16815698e-10, 4.16815698e-10, 4.16815698e-10, 2.33743705e-10,\n",
       "        2.33743705e-10, 4.16815698e-10, 4.16815698e-10, 4.16815698e-10,\n",
       "        4.16815698e-10, 4.16815698e-10, 4.16815698e-10, 2.33743705e-10,\n",
       "        2.33743705e-10, 4.16815698e-10, 4.16815698e-10, 4.16815698e-10,\n",
       "        4.16815698e-10, 4.16815698e-10, 4.16815698e-10, 2.33743705e-10,\n",
       "        2.33743705e-10, 4.16815698e-10, 4.16815698e-10, 4.16815698e-10,\n",
       "        4.16815698e-10, 4.16815698e-10, 4.16815698e-10, 4.16815698e-10,\n",
       "        4.16815698e-10, 4.16815698e-10, 4.16815698e-10, 4.16815698e-10,\n",
       "        4.16815698e-10, 4.16815698e-10, 4.16815698e-10, 4.16815698e-10,\n",
       "        4.16815698e-10, 4.16815698e-10, 4.16815698e-10, 4.16815698e-10]])"
      ]
     },
     "execution_count": 18,
     "metadata": {},
     "output_type": "execute_result"
    }
   ],
   "source": [
    "img = (img/143).astype('float64')\n",
    "img = img.reshape(1,-1)\n",
    "img"
   ]
  },
  {
   "cell_type": "code",
   "execution_count": null,
   "id": "d39ee3cf-43b7-4b8b-80cd-035789f17e0b",
   "metadata": {},
   "outputs": [],
   "source": []
  },
  {
   "cell_type": "code",
   "execution_count": 35,
   "id": "cae6a828-1dea-4d67-a92f-79f2a3827dd7",
   "metadata": {},
   "outputs": [],
   "source": [
    "new_image = cv2.imread(os.path.join(image_dir,'two.PNG'))"
   ]
  },
  {
   "cell_type": "code",
   "execution_count": 37,
   "id": "1ba51917-c96a-4f2a-9fd1-8afc5a25d36c",
   "metadata": {},
   "outputs": [],
   "source": [
    "img_64 = new_image.astype(np.float64)"
   ]
  },
  {
   "cell_type": "code",
   "execution_count": 38,
   "id": "8f9bd3e4-b9a3-4515-be0c-7481f28d0bd8",
   "metadata": {},
   "outputs": [
    {
     "data": {
      "text/plain": [
       "array([[[255., 255., 255.],\n",
       "        [255., 255., 255.],\n",
       "        [255., 255., 255.],\n",
       "        ...,\n",
       "        [255., 255., 255.],\n",
       "        [255., 255., 255.],\n",
       "        [255., 255., 255.]],\n",
       "\n",
       "       [[255., 255., 255.],\n",
       "        [255., 255., 255.],\n",
       "        [255., 255., 255.],\n",
       "        ...,\n",
       "        [255., 255., 255.],\n",
       "        [255., 255., 255.],\n",
       "        [255., 255., 255.]],\n",
       "\n",
       "       [[255., 255., 255.],\n",
       "        [255., 255., 255.],\n",
       "        [255., 255., 255.],\n",
       "        ...,\n",
       "        [255., 255., 255.],\n",
       "        [255., 255., 255.],\n",
       "        [255., 255., 255.]],\n",
       "\n",
       "       ...,\n",
       "\n",
       "       [[255., 255., 255.],\n",
       "        [255., 255., 255.],\n",
       "        [255., 255., 255.],\n",
       "        ...,\n",
       "        [255., 255., 255.],\n",
       "        [255., 255., 255.],\n",
       "        [255., 255., 255.]],\n",
       "\n",
       "       [[255., 255., 255.],\n",
       "        [255., 255., 255.],\n",
       "        [255., 255., 255.],\n",
       "        ...,\n",
       "        [255., 255., 255.],\n",
       "        [255., 255., 255.],\n",
       "        [255., 255., 255.]],\n",
       "\n",
       "       [[255., 255., 255.],\n",
       "        [255., 255., 255.],\n",
       "        [255., 255., 255.],\n",
       "        ...,\n",
       "        [255., 255., 255.],\n",
       "        [255., 255., 255.],\n",
       "        [255., 255., 255.]]])"
      ]
     },
     "execution_count": 38,
     "metadata": {},
     "output_type": "execute_result"
    }
   ],
   "source": [
    "img_64"
   ]
  },
  {
   "cell_type": "code",
   "execution_count": null,
   "id": "dfcd828d-c58b-4dd0-b501-3d7e0bdb5781",
   "metadata": {},
   "outputs": [],
   "source": []
  }
 ],
 "metadata": {
  "kernelspec": {
   "display_name": "Python 3 (ipykernel)",
   "language": "python",
   "name": "python3"
  },
  "language_info": {
   "codemirror_mode": {
    "name": "ipython",
    "version": 3
   },
   "file_extension": ".py",
   "mimetype": "text/x-python",
   "name": "python",
   "nbconvert_exporter": "python",
   "pygments_lexer": "ipython3",
   "version": "3.10.7"
  }
 },
 "nbformat": 4,
 "nbformat_minor": 5
}
