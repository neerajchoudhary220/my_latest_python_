{
 "cells": [
  {
   "cell_type": "code",
   "execution_count": 1,
   "id": "5357c72f-4b5e-4a3e-bf79-ab7e0c64fca5",
   "metadata": {},
   "outputs": [],
   "source": [
    "str = \"  Hello how are you neeraj   ?\""
   ]
  },
  {
   "cell_type": "code",
   "execution_count": 2,
   "id": "0a86522a-c7ab-4fb2-a9fe-c884ea8758f3",
   "metadata": {},
   "outputs": [
    {
     "data": {
      "text/plain": [
       "'Hello how are you neeraj   ?'"
      ]
     },
     "execution_count": 2,
     "metadata": {},
     "output_type": "execute_result"
    }
   ],
   "source": [
    "str.strip()"
   ]
  },
  {
   "cell_type": "code",
   "execution_count": 3,
   "id": "729994a3-7016-4371-a6e6-373e48a504d7",
   "metadata": {},
   "outputs": [],
   "source": [
    "mylist=str.split(\" \")"
   ]
  },
  {
   "cell_type": "code",
   "execution_count": 4,
   "id": "7294fe9b-d740-4e20-898b-48cbdf6a76e3",
   "metadata": {},
   "outputs": [],
   "source": [
    "mylist.sort()"
   ]
  },
  {
   "cell_type": "code",
   "execution_count": 5,
   "id": "29fed5f6-a7b6-47d0-9dd6-e3c7610bc567",
   "metadata": {},
   "outputs": [
    {
     "name": "stdout",
     "output_type": "stream",
     "text": [
      "['', '', '', '', '?', 'Hello', 'are', 'how', 'neeraj', 'you']\n"
     ]
    }
   ],
   "source": [
    "print(mylist)"
   ]
  },
  {
   "cell_type": "code",
   "execution_count": 12,
   "id": "10ecec81-0315-41a5-9235-f0a87ef061cb",
   "metadata": {},
   "outputs": [
    {
     "name": "stdout",
     "output_type": "stream",
     "text": [
      "The price is 30.00$.\n",
      "The price is 30.00$\n"
     ]
    }
   ],
   "source": [
    "price =30\n",
    "txt = \"The price is {:.2f}$.\"\n",
    "print(txt.format(price))\n",
    "print(f\"The price is {price:.2f}$\")"
   ]
  },
  {
   "cell_type": "code",
   "execution_count": 13,
   "id": "fe61dcb4-150a-488b-9a9f-9707cc34b410",
   "metadata": {},
   "outputs": [
    {
     "name": "stdout",
     "output_type": "stream",
     "text": [
      "NEERAJ CHOUDHARY\n"
     ]
    }
   ],
   "source": [
    "#chante whole character in uppercase\n",
    "name=\"neeraj choudhary\"\n",
    "print(name.upper())"
   ]
  },
  {
   "cell_type": "code",
   "execution_count": 14,
   "id": "cb2cdf1e-3298-4f5b-b8c3-4f48a1a1802e",
   "metadata": {},
   "outputs": [
    {
     "name": "stdout",
     "output_type": "stream",
     "text": [
      "Neeraj choudhary\n"
     ]
    }
   ],
   "source": [
    "#Change first character in uppercase\n",
    "name =\"neeraj choudhary\"\n",
    "print(name.capitalize())"
   ]
  },
  {
   "cell_type": "code",
   "execution_count": 55,
   "id": "d08f4a10-2fce-42cd-ab02-4c545965e602",
   "metadata": {},
   "outputs": [
    {
     "name": "stdout",
     "output_type": "stream",
     "text": [
      "neeraj choudhary\n",
      "jai mata di\n"
     ]
    }
   ],
   "source": [
    "#Change all charater in lowercase\n",
    "name = \"NEERAJ CHOUDHARY\"\n",
    "print(name.lower())\n",
    "name = \"jai mata di\"\n",
    "print(name.casefold())"
   ]
  },
  {
   "cell_type": "code",
   "execution_count": 58,
   "id": "16fadbd1-fde0-4cec-833a-d92690b94a89",
   "metadata": {},
   "outputs": [],
   "source": [
    "#Get the center string for name variable\n",
    "name = name.center(17,\"*\")"
   ]
  },
  {
   "cell_type": "code",
   "execution_count": 59,
   "id": "55c26efb-8d2d-4bf9-9819-14b1702dd4e5",
   "metadata": {},
   "outputs": [
    {
     "name": "stdout",
     "output_type": "stream",
     "text": [
      "***jai mata di***\n"
     ]
    }
   ],
   "source": [
    "print(name)"
   ]
  },
  {
   "cell_type": "code",
   "execution_count": 63,
   "id": "82b00fa9-c53e-41c1-8dfe-18fde32ea612",
   "metadata": {},
   "outputs": [
    {
     "name": "stdout",
     "output_type": "stream",
     "text": [
      "6\n"
     ]
    }
   ],
   "source": [
    "print(name.count('*'))"
   ]
  },
  {
   "cell_type": "code",
   "execution_count": 64,
   "id": "5ec53fac-f2d4-4bd3-b2c9-351a069849ea",
   "metadata": {},
   "outputs": [],
   "source": [
    "#endswith\n",
    "mystr = \"This is good for me\""
   ]
  },
  {
   "cell_type": "code",
   "execution_count": 75,
   "id": "a373e199-90c2-41d0-a517-581a3977e239",
   "metadata": {},
   "outputs": [
    {
     "name": "stdout",
     "output_type": "stream",
     "text": [
      "True\n"
     ]
    }
   ],
   "source": [
    "print(mystr.endswith(\"good\",8,12))"
   ]
  },
  {
   "cell_type": "code",
   "execution_count": 81,
   "id": "93a85cb7-7d84-4a75-a927-4ebef394289b",
   "metadata": {},
   "outputs": [
    {
     "name": "stdout",
     "output_type": "stream",
     "text": [
      "True\n"
     ]
    }
   ],
   "source": [
    "alpha =\"neeraj334\"\n",
    "print(alpha.isalnum())"
   ]
  },
  {
   "cell_type": "code",
   "execution_count": 82,
   "id": "579cdd3d-9913-4cd9-ba50-4a82f277cd94",
   "metadata": {},
   "outputs": [
    {
     "name": "stdout",
     "output_type": "stream",
     "text": [
      "False\n"
     ]
    }
   ],
   "source": [
    "alpha =\"neeraj 334\"\n",
    "print(alpha.isalnum())"
   ]
  },
  {
   "cell_type": "code",
   "execution_count": 99,
   "id": "bd816140-7d2f-4dd7-8ad1-4da433a4c173",
   "metadata": {},
   "outputs": [],
   "source": [
    "mystring =\"Hello how are you ?\""
   ]
  },
  {
   "cell_type": "code",
   "execution_count": 100,
   "id": "9def0c7b-9bd5-4b66-adf5-1c908076f776",
   "metadata": {},
   "outputs": [],
   "source": [
    "mylist = mystring.split(\" \")"
   ]
  },
  {
   "cell_type": "code",
   "execution_count": 101,
   "id": "c3873c9e-6988-49c9-9a9b-cf9f835c5f4f",
   "metadata": {},
   "outputs": [
    {
     "name": "stdout",
     "output_type": "stream",
     "text": [
      "['Hello', 'how', 'are', 'you', '?']\n"
     ]
    }
   ],
   "source": [
    "print(mylist)"
   ]
  },
  {
   "cell_type": "code",
   "execution_count": 102,
   "id": "34ca86c5-de8b-40a1-ba2f-09f27b00de80",
   "metadata": {},
   "outputs": [
    {
     "name": "stdout",
     "output_type": "stream",
     "text": [
      "Hello how are you ?\n"
     ]
    }
   ],
   "source": [
    "mystring = \" \".join(mylist)\n",
    "print(mystring)"
   ]
  },
  {
   "cell_type": "code",
   "execution_count": 126,
   "id": "72fe8a29-b325-4408-9d98-520a8db69098",
   "metadata": {},
   "outputs": [],
   "source": [
    "def opposite(txt):\n",
    "    mylist=[]\n",
    "    mylist[:]=txt\n",
    "    mylist.sort()\n",
    "    return mylist\n",
    "    "
   ]
  },
  {
   "cell_type": "code",
   "execution_count": 128,
   "id": "dffbf67d-6a4e-46ce-b8e1-41ffd55caefc",
   "metadata": {},
   "outputs": [
    {
     "name": "stdout",
     "output_type": "stream",
     "text": [
      "['0', '2', '3', '3', '4', '4', '5', '9', '9', '9']\n"
     ]
    }
   ],
   "source": [
    "print(opposite(\"9950343942\"))"
   ]
  },
  {
   "cell_type": "code",
   "execution_count": 146,
   "id": "282bbf10-67eb-42db-9ac8-3603de1c473b",
   "metadata": {},
   "outputs": [],
   "source": [
    "def DeleteVowels(txt):\n",
    "    tbl = str.maketrans('','','aeiou')\n",
    "    return txt.translate(tbl)"
   ]
  },
  {
   "cell_type": "code",
   "execution_count": 148,
   "id": "83fbe92d-3f89-4b2d-9e01-9f5ace62499e",
   "metadata": {},
   "outputs": [
    {
     "name": "stdout",
     "output_type": "stream",
     "text": [
      "Nrj\n"
     ]
    }
   ],
   "source": [
    "print(DeleteVowels(\"Neeraj\").strip())"
   ]
  },
  {
   "cell_type": "code",
   "execution_count": 2,
   "id": "b4c6463e-608a-45fd-aca3-afa7fd6a7d30",
   "metadata": {},
   "outputs": [],
   "source": [
    "mystr =\"Hello NEERaj 4BcNd\"\n"
   ]
  },
  {
   "cell_type": "code",
   "execution_count": 3,
   "id": "e8ddb048-2785-49f3-b283-729b1776c846",
   "metadata": {},
   "outputs": [
    {
     "name": "stdout",
     "output_type": "stream",
     "text": [
      "hELLO neerAJ 4bCnD\n"
     ]
    }
   ],
   "source": [
    "print(mystr.swapcase())"
   ]
  },
  {
   "cell_type": "code",
   "execution_count": null,
   "id": "cf853f95-9335-4382-a0c7-899c4e71e3d6",
   "metadata": {},
   "outputs": [],
   "source": []
  }
 ],
 "metadata": {
  "kernelspec": {
   "display_name": "Python 3 (ipykernel)",
   "language": "python",
   "name": "python3"
  },
  "language_info": {
   "codemirror_mode": {
    "name": "ipython",
    "version": 3
   },
   "file_extension": ".py",
   "mimetype": "text/x-python",
   "name": "python",
   "nbconvert_exporter": "python",
   "pygments_lexer": "ipython3",
   "version": "3.10.7"
  }
 },
 "nbformat": 4,
 "nbformat_minor": 5
}
