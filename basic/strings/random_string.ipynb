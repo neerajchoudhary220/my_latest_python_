{
 "cells": [
  {
   "cell_type": "code",
   "execution_count": 11,
   "id": "e18e790d-2953-4d60-a2c4-d9744a4e7b52",
   "metadata": {},
   "outputs": [],
   "source": [
    "import random"
   ]
  },
  {
   "cell_type": "code",
   "execution_count": 30,
   "id": "7ea29928-4470-4464-9d31-39c3c5b8b447",
   "metadata": {},
   "outputs": [],
   "source": [
    "def generate_randome_sentence():\n",
    "    names =[\"write bootstrap\",\"tell bootstrap\",\"find bootstrap\"]\n",
    "    verbs=[\"all\"]\n",
    "    nouns=[\"button\",\"buttons\"]\n",
    "    return random.choice(names)+\" \"+random.choice(verbs)+\" \"+random.choice(nouns)"
   ]
  },
  {
   "cell_type": "code",
   "execution_count": 36,
   "id": "ed4efbbf-bcaa-41d4-b7fb-bfa2ee71a88c",
   "metadata": {},
   "outputs": [
    {
     "name": "stdout",
     "output_type": "stream",
     "text": [
      "tell bootstrap all buttons\n",
      "tell bootstrap all buttons\n",
      "tell bootstrap all button\n",
      "find bootstrap all button\n",
      "tell bootstrap all button\n",
      "tell bootstrap all buttons\n",
      "tell bootstrap all button\n",
      "tell bootstrap all buttons\n",
      "tell bootstrap all button\n",
      "write bootstrap all button\n"
     ]
    }
   ],
   "source": [
    "for setence in range(10):\n",
    "    output = generate_randome_sentence()\n",
    "    print(output)"
   ]
  },
  {
   "cell_type": "code",
   "execution_count": null,
   "id": "5e0ddf83-7a3b-4ad2-90fe-71b96d218ae4",
   "metadata": {},
   "outputs": [],
   "source": []
  },
  {
   "cell_type": "code",
   "execution_count": null,
   "id": "faada109-07d2-4ea7-ad80-e397c3c60d96",
   "metadata": {},
   "outputs": [],
   "source": []
  }
 ],
 "metadata": {
  "kernelspec": {
   "display_name": "Python 3 (ipykernel)",
   "language": "python",
   "name": "python3"
  },
  "language_info": {
   "codemirror_mode": {
    "name": "ipython",
    "version": 3
   },
   "file_extension": ".py",
   "mimetype": "text/x-python",
   "name": "python",
   "nbconvert_exporter": "python",
   "pygments_lexer": "ipython3",
   "version": "3.10.7"
  }
 },
 "nbformat": 4,
 "nbformat_minor": 5
}
