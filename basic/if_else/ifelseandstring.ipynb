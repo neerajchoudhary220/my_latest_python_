{
 "cells": [
  {
   "cell_type": "code",
   "execution_count": 1,
   "id": "9df252ef-c789-49b9-9e90-ddb3de6a3923",
   "metadata": {},
   "outputs": [],
   "source": [
    "a=10\n",
    "b=\"100\""
   ]
  },
  {
   "cell_type": "code",
   "execution_count": 5,
   "id": "d0fe704a-7435-47ee-a402-33a11c5d8a01",
   "metadata": {},
   "outputs": [
    {
     "name": "stdout",
     "output_type": "stream",
     "text": [
      "False\n"
     ]
    }
   ],
   "source": [
    "if isinstance(a,str):\n",
    "    print(True)\n",
    "else:\n",
    "    print(False)"
   ]
  },
  {
   "cell_type": "code",
   "execution_count": 6,
   "id": "60dd384c-4539-44fe-ba01-94496f9337e9",
   "metadata": {},
   "outputs": [
    {
     "name": "stdout",
     "output_type": "stream",
     "text": [
      "True\n"
     ]
    }
   ],
   "source": [
    "print(isinstance(b,str))"
   ]
  },
  {
   "cell_type": "code",
   "execution_count": 10,
   "id": "f3f569de-73d7-493b-abb7-16d13480d654",
   "metadata": {},
   "outputs": [
    {
     "name": "stdout",
     "output_type": "stream",
     "text": [
      "yes\n"
     ]
    }
   ],
   "source": [
    "if a >1:print(\"yes\")"
   ]
  },
  {
   "cell_type": "code",
   "execution_count": 16,
   "id": "9f7720a4-4e3d-490e-b267-fb7cbbf06660",
   "metadata": {},
   "outputs": [
    {
     "name": "stdout",
     "output_type": "stream",
     "text": [
      "Yes\n"
     ]
    }
   ],
   "source": [
    "print(\"Yes\") if not a>11 else print(\"No\")"
   ]
  },
  {
   "cell_type": "code",
   "execution_count": 17,
   "id": "be80cf54-44ba-4a49-9819-08cbc4f282f7",
   "metadata": {},
   "outputs": [],
   "source": [
    "str = \"Apple\""
   ]
  },
  {
   "cell_type": "code",
   "execution_count": 18,
   "id": "ccd05877-acf4-4080-8819-71e5215ab458",
   "metadata": {},
   "outputs": [
    {
     "name": "stdout",
     "output_type": "stream",
     "text": [
      "5\n"
     ]
    }
   ],
   "source": [
    "print(len(str))"
   ]
  },
  {
   "cell_type": "code",
   "execution_count": 19,
   "id": "70a890a9-5724-48aa-868d-fe51cd86de80",
   "metadata": {},
   "outputs": [
    {
     "name": "stdout",
     "output_type": "stream",
     "text": [
      "p\n"
     ]
    }
   ],
   "source": [
    "print(str[2])"
   ]
  },
  {
   "cell_type": "code",
   "execution_count": 21,
   "id": "e08a47b4-caf7-4a35-a9a9-8d575b4270c3",
   "metadata": {},
   "outputs": [],
   "source": [
    "def uniqueChar(mystr):\n",
    "    newstr =''\n",
    "    for s in mystr:\n",
    "        if s not in newstr:\n",
    "            newstr+=s\n",
    "\n",
    "    return newstr"
   ]
  },
  {
   "cell_type": "code",
   "execution_count": 33,
   "id": "cb3e3e3b-65a5-4a70-a783-e92270d337d3",
   "metadata": {},
   "outputs": [],
   "source": [
    "def removeVowels(mystr):\n",
    "    newstr=''\n",
    "    vowels =[\"a\",\"e\",\"i\",\"o\",\"u\"]\n",
    "    for s in mystr:\n",
    "        if s not in vowels:\n",
    "            newstr+=s\n",
    "    return newstr"
   ]
  },
  {
   "cell_type": "code",
   "execution_count": 38,
   "id": "cc71a158-edbe-4604-aa22-fa012c08869b",
   "metadata": {},
   "outputs": [
    {
     "name": "stdin",
     "output_type": "stream",
     "text": [
      "Enter your word:  orange\n"
     ]
    }
   ],
   "source": [
    "yourstr = input(\"Enter your word: \")"
   ]
  },
  {
   "cell_type": "code",
   "execution_count": 39,
   "id": "aae6979c-0b3c-407b-93bd-70958e149a8b",
   "metadata": {},
   "outputs": [
    {
     "name": "stdout",
     "output_type": "stream",
     "text": [
      "rng\n"
     ]
    }
   ],
   "source": [
    "print(removeVowels(yourstr))"
   ]
  },
  {
   "cell_type": "code",
   "execution_count": 40,
   "id": "a610ac9a-a2ac-4d0d-9a07-7ac5d5e6dc2a",
   "metadata": {},
   "outputs": [],
   "source": [
    "import re"
   ]
  },
  {
   "cell_type": "code",
   "execution_count": 48,
   "id": "b7206a32-88ff-4c58-a54c-f285e7ab250a",
   "metadata": {},
   "outputs": [],
   "source": [
    "def removeVowel(mystr):\n",
    "    return re.sub(\"[aeiou]\",\"\",mystr)"
   ]
  },
  {
   "cell_type": "code",
   "execution_count": 49,
   "id": "c981c6ba-841d-4844-97c0-72a7b7055e0d",
   "metadata": {},
   "outputs": [],
   "source": [
    "mystring = '''\n",
    "Hello how are you you are\n",
    "i'm good boy\n",
    "'''"
   ]
  },
  {
   "cell_type": "code",
   "execution_count": 50,
   "id": "8b670ae5-ccc4-4db4-a358-e985a98697d0",
   "metadata": {},
   "outputs": [
    {
     "name": "stdout",
     "output_type": "stream",
     "text": [
      "\n",
      "Hll hw r y y r\n",
      "'m gd by\n",
      "\n"
     ]
    }
   ],
   "source": [
    "print(removeVowel(mystring))"
   ]
  },
  {
   "cell_type": "code",
   "execution_count": null,
   "id": "c6a1381a-7d97-4068-b727-470054b65fe5",
   "metadata": {},
   "outputs": [],
   "source": []
  }
 ],
 "metadata": {
  "kernelspec": {
   "display_name": "Python 3 (ipykernel)",
   "language": "python",
   "name": "python3"
  },
  "language_info": {
   "codemirror_mode": {
    "name": "ipython",
    "version": 3
   },
   "file_extension": ".py",
   "mimetype": "text/x-python",
   "name": "python",
   "nbconvert_exporter": "python",
   "pygments_lexer": "ipython3",
   "version": "3.10.7"
  }
 },
 "nbformat": 4,
 "nbformat_minor": 5
}
