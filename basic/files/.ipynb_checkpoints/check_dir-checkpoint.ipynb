{
 "cells": [
  {
   "cell_type": "code",
   "execution_count": null,
   "id": "18ecd4b9-93bb-4409-96e4-f39fd3d5b4d7",
   "metadata": {},
   "outputs": [],
   "source": [
    "from pathlib import Path\n",
    "current_dir = Path().resolve()\n",
    "print(current_dir)\n",
    "parent_dir = current_dir.parent\n",
    "print(parent_dir)\n",
    "grand_parent = parent_dir.parent\n",
    "print(grand_parent)"
   ]
  },
  {
   "cell_type": "code",
   "execution_count": null,
   "id": "487a9718-9158-4a7b-8519-540e3f6b9e09",
   "metadata": {},
   "outputs": [],
   "source": []
  },
  {
   "cell_type": "code",
   "execution_count": null,
   "id": "2fd4d4a6-5451-405f-9a0c-857b5d0ccab0",
   "metadata": {},
   "outputs": [],
   "source": []
  },
  {
   "cell_type": "raw",
   "id": "2b76ddfc-2efd-4772-ba3f-845e8e064bce",
   "metadata": {},
   "source": []
  }
 ],
 "metadata": {
  "kernelspec": {
   "display_name": "Python 3 (ipykernel)",
   "language": "python",
   "name": "python3"
  },
  "language_info": {
   "codemirror_mode": {
    "name": "ipython",
    "version": 3
   },
   "file_extension": ".py",
   "mimetype": "text/x-python",
   "name": "python",
   "nbconvert_exporter": "python",
   "pygments_lexer": "ipython3",
   "version": "3.10.7"
  }
 },
 "nbformat": 4,
 "nbformat_minor": 5
}
