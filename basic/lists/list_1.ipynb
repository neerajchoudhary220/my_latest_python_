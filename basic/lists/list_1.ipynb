{
 "cells": [
  {
   "cell_type": "code",
   "execution_count": 2,
   "id": "0fc5d9f4-b016-432f-a899-ef44470dca37",
   "metadata": {},
   "outputs": [
    {
     "name": "stdout",
     "output_type": "stream",
     "text": [
      "list 1:['Ram', 'Shyam', 'Krishna', 'Radha', 'Hari', 'Vishnu', 'Gopal']\n",
      "list 2:[25, 30, 23, 21, 28, 34, 24]\n"
     ]
    }
   ],
   "source": [
    "#define a list\n",
    "people= [\"Ram\",\"Shyam\",\"Krishna\",\"Radha\",\"Hari\",\"Vishnu\",\"Gopal\"]\n",
    "print(f\"list 1:{people}\")\n",
    "ages = list((25,30,23,21,28,34,24))\n",
    "print(f\"list 2:{ages}\")"
   ]
  },
  {
   "cell_type": "code",
   "execution_count": 3,
   "id": "458fcc7e-fb18-4393-bbfd-d16c066f0e30",
   "metadata": {},
   "outputs": [
    {
     "name": "stdout",
     "output_type": "stream",
     "text": [
      "list of  with age: [('Ram', 25), ('Shyam', 30), ('Krishna', 23), ('Radha', 21), ('Hari', 28), ('Vishnu', 34), ('Gopal', 24)]\n"
     ]
    }
   ],
   "source": [
    "#use zip\n",
    "mylist = zip(people,ages)\n",
    "print(f\"list of  with age: {list(mylist)}\")\n",
    "\n"
   ]
  },
  {
   "cell_type": "code",
   "execution_count": 4,
   "id": "1d8bc0e1-75e7-48d2-954e-ce2ac314437b",
   "metadata": {},
   "outputs": [],
   "source": [
    "#count the specific item using count() method\n",
    "mylist = [\"Mango\",\"Cherry\",\"Apple\",\"Mango\",\"Cherry\",\"Orange\",\"BanDan\"]\n"
   ]
  },
  {
   "cell_type": "code",
   "execution_count": 5,
   "id": "4c3bb020-240f-47b8-8f0e-38093e2e452a",
   "metadata": {},
   "outputs": [],
   "source": [
    "def allLower(item):\n",
    "    return item.casefold()\n",
    "    "
   ]
  },
  {
   "cell_type": "code",
   "execution_count": 6,
   "id": "276184c2-0405-4b62-9598-9c9973cbe2a8",
   "metadata": {},
   "outputs": [
    {
     "name": "stdout",
     "output_type": "stream",
     "text": [
      "['mango', 'cherry', 'apple', 'mango', 'cherry', 'orange', 'bandan']\n"
     ]
    }
   ],
   "source": [
    "lower = map(allLower,mylist)\n",
    "newlist = list(lower)\n",
    "print(newlist)"
   ]
  },
  {
   "cell_type": "code",
   "execution_count": 7,
   "id": "ad3b113f-1b75-4f8b-8afd-71b6dfe679bb",
   "metadata": {},
   "outputs": [
    {
     "name": "stdout",
     "output_type": "stream",
     "text": [
      "2\n"
     ]
    }
   ],
   "source": [
    "print(newlist.count(\"mango\"))"
   ]
  },
  {
   "cell_type": "code",
   "execution_count": null,
   "id": "6d2f1956-2d75-4205-80b3-427786bbedeb",
   "metadata": {},
   "outputs": [],
   "source": []
  }
 ],
 "metadata": {
  "kernelspec": {
   "display_name": "Python 3 (ipykernel)",
   "language": "python",
   "name": "python3"
  },
  "language_info": {
   "codemirror_mode": {
    "name": "ipython",
    "version": 3
   },
   "file_extension": ".py",
   "mimetype": "text/x-python",
   "name": "python",
   "nbconvert_exporter": "python",
   "pygments_lexer": "ipython3",
   "version": "3.10.7"
  }
 },
 "nbformat": 4,
 "nbformat_minor": 5
}
