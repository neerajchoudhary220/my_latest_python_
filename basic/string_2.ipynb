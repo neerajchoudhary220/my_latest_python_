{
 "cells": [
  {
   "cell_type": "code",
   "execution_count": 15,
   "id": "cb827cdb-4898-436d-b7b8-0aa2aa0d1cfe",
   "metadata": {},
   "outputs": [],
   "source": [
    "my_str = \"Hello how are you\""
   ]
  },
  {
   "cell_type": "code",
   "execution_count": 16,
   "id": "36412a2c-f7fd-44e1-97e7-8dcec3cad9ac",
   "metadata": {},
   "outputs": [
    {
     "name": "stdout",
     "output_type": "stream",
     "text": [
      "Hello how are you\n"
     ]
    }
   ],
   "source": [
    "print(my_str)"
   ]
  },
  {
   "cell_type": "code",
   "execution_count": 24,
   "id": "1feb0c29-dbab-40ea-bb71-bf9b09b319cf",
   "metadata": {},
   "outputs": [],
   "source": [
    "def reverse(txt):\n",
    "    return txt[::-1]\n",
    "\n",
    "def convertlistToStr(list):\n",
    "    return \" \".join(list)\n"
   ]
  },
  {
   "cell_type": "code",
   "execution_count": 25,
   "id": "c6020b96-1ba9-4d5c-9530-8efc1be6b2bd",
   "metadata": {},
   "outputs": [],
   "source": [
    "mylist =[\"A\",\"B\",\"C\",\"D\",\"E\"]"
   ]
  },
  {
   "cell_type": "code",
   "execution_count": 26,
   "id": "f2d4c4c6-988d-405e-82c7-fad6b19fd226",
   "metadata": {},
   "outputs": [
    {
     "name": "stdout",
     "output_type": "stream",
     "text": [
      "['E', 'D', 'C', 'B', 'A']\n"
     ]
    }
   ],
   "source": [
    "print(reverse(mylist))"
   ]
  },
  {
   "cell_type": "code",
   "execution_count": 27,
   "id": "a12bf9c1-1f22-4042-be5b-a2f49eac299f",
   "metadata": {},
   "outputs": [
    {
     "name": "stdout",
     "output_type": "stream",
     "text": [
      "uoy era woh olleH\n"
     ]
    }
   ],
   "source": [
    "print(reverse(my_str))"
   ]
  },
  {
   "cell_type": "code",
   "execution_count": 28,
   "id": "8ae6f784-58e2-401c-8e73-46885227093c",
   "metadata": {},
   "outputs": [
    {
     "name": "stdout",
     "output_type": "stream",
     "text": [
      "A B C D E\n"
     ]
    }
   ],
   "source": [
    "print(convertlistToStr(mylist))"
   ]
  },
  {
   "cell_type": "code",
   "execution_count": null,
   "id": "d3008394-ff63-4db0-972a-ed6f595eaea7",
   "metadata": {},
   "outputs": [],
   "source": []
  }
 ],
 "metadata": {
  "kernelspec": {
   "display_name": "Python 3 (ipykernel)",
   "language": "python",
   "name": "python3"
  },
  "language_info": {
   "codemirror_mode": {
    "name": "ipython",
    "version": 3
   },
   "file_extension": ".py",
   "mimetype": "text/x-python",
   "name": "python",
   "nbconvert_exporter": "python",
   "pygments_lexer": "ipython3",
   "version": "3.10.7"
  }
 },
 "nbformat": 4,
 "nbformat_minor": 5
}
