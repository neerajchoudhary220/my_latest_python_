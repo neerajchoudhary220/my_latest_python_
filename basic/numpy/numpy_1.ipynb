{
 "cells": [
  {
   "cell_type": "code",
   "execution_count": 6,
   "id": "88f94324-8d06-4fb1-b739-60d764012dbc",
   "metadata": {},
   "outputs": [
    {
     "name": "stdout",
     "output_type": "stream",
     "text": [
      "[[22, 33, 22, 12, 12], [11, 12, 122, 22, 3]]\n"
     ]
    }
   ],
   "source": [
    "import numpy as np\n",
    "_2d_arr = [[22,33,22,12,12],[11,12,122,22,3]]\n",
    "print(_2d_arr)\n",
    "                      \n",
    "\n",
    "\n",
    "      "
   ]
  },
  {
   "cell_type": "code",
   "execution_count": 9,
   "id": "90a4cf29-1a04-43bb-8f48-39df8c548884",
   "metadata": {},
   "outputs": [
    {
     "name": "stdout",
     "output_type": "stream",
     "text": [
      "12\n"
     ]
    }
   ],
   "source": [
    "print(_2d_arr[1][1])"
   ]
  },
  {
   "cell_type": "code",
   "execution_count": null,
   "id": "0ea33c7c-da52-468d-bd1f-5282163c89b1",
   "metadata": {},
   "outputs": [],
   "source": []
  }
 ],
 "metadata": {
  "kernelspec": {
   "display_name": "Python 3 (ipykernel)",
   "language": "python",
   "name": "python3"
  },
  "language_info": {
   "codemirror_mode": {
    "name": "ipython",
    "version": 3
   },
   "file_extension": ".py",
   "mimetype": "text/x-python",
   "name": "python",
   "nbconvert_exporter": "python",
   "pygments_lexer": "ipython3",
   "version": "3.10.7"
  }
 },
 "nbformat": 4,
 "nbformat_minor": 5
}
