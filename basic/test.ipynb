{
 "cells": [
  {
   "cell_type": "code",
   "execution_count": 1,
   "id": "b5f97b05-5469-4bd3-9ab5-0e171e3def92",
   "metadata": {},
   "outputs": [],
   "source": [
    "mynumblist =[]\n"
   ]
  },
  {
   "cell_type": "code",
   "execution_count": 2,
   "id": "35400526-2b6a-4fa2-9b87-1ceb6361531a",
   "metadata": {},
   "outputs": [],
   "source": [
    "mynumber = input(\"Enter your number:\")\n",
    "mynumber_length = len(str(mynumber))"
   ]
  },
  {
   "cell_type": "code",
   "execution_count": 3,
   "id": "dec24d2e-ca28-4b9c-8e02-49e927ef386d",
   "metadata": {},
   "outputs": [
    {
     "ename": "NameError",
     "evalue": "name 'mynumblist' is not defined",
     "output_type": "error",
     "traceback": [
      "\u001b[1;31m---------------------------------------------------------------------------\u001b[0m",
      "\u001b[1;31mNameError\u001b[0m                                 Traceback (most recent call last)",
      "Cell \u001b[1;32mIn[3], line 1\u001b[0m\n\u001b[1;32m----> 1\u001b[0m mynumblist[:mynumber_length]\u001b[39m=\u001b[39mmynumber\n",
      "\u001b[1;31mNameError\u001b[0m: name 'mynumblist' is not defined"
     ]
    }
   ],
   "source": [
    "mynumblist[:mynumber_length]=mynumber"
   ]
  },
  {
   "cell_type": "code",
   "execution_count": 112,
   "id": "d6e920c5-b613-4aac-910f-61559110f288",
   "metadata": {},
   "outputs": [],
   "source": [
    "newlist = mynumblist.copy()\n",
    "newlist.sort()"
   ]
  },
  {
   "cell_type": "code",
   "execution_count": 37,
   "id": "9749a111-ce32-40dd-b616-aead0368e9d0",
   "metadata": {},
   "outputs": [],
   "source": [
    "#remove duplicate item\n",
    "def removeDupllicateItem(data):\n",
    "    for n in data:\n",
    "        if data.count(n)>1:\n",
    "            data.remove(n)          \n",
    "    return data\n",
    "    "
   ]
  },
  {
   "cell_type": "code",
   "execution_count": 113,
   "id": "3c2987db-ecd6-4175-9ce6-b5352d110905",
   "metadata": {},
   "outputs": [],
   "source": [
    "newlist = uniquelist(newlist)"
   ]
  },
  {
   "cell_type": "code",
   "execution_count": 114,
   "id": "39e601de-5fef-41ec-8e17-5d0892febdfc",
   "metadata": {},
   "outputs": [
    {
     "name": "stdout",
     "output_type": "stream",
     "text": [
      "['0', '2', '3', '4', '6', '7', '8', '9']\n"
     ]
    }
   ],
   "source": [
    "print(newlist)"
   ]
  },
  {
   "cell_type": "code",
   "execution_count": 105,
   "id": "91b4e72d-a888-465a-ac6a-d1f0cccf06c7",
   "metadata": {},
   "outputs": [],
   "source": [
    "#Check,How many time repeat every item\n",
    "def repeatCount(data):\n",
    "    print(f\"Your list is: {mynumblist} \\n\")\n",
    "    for n in data:\n",
    "        print(f\"{mynumblist.count(n)} time is repeating of {n}\")"
   ]
  },
  {
   "cell_type": "code",
   "execution_count": 115,
   "id": "afd61c1c-f643-4082-8bc9-ac4741767c03",
   "metadata": {},
   "outputs": [
    {
     "name": "stdout",
     "output_type": "stream",
     "text": [
      "Your list is: ['8', '3', '0', '2', '4', '2', '7', '0', '6', '9'] \n",
      "\n",
      "2 time is repeating of 0\n",
      "2 time is repeating of 2\n",
      "1 time is repeating of 3\n",
      "1 time is repeating of 4\n",
      "1 time is repeating of 6\n",
      "1 time is repeating of 7\n",
      "1 time is repeating of 8\n",
      "1 time is repeating of 9\n"
     ]
    }
   ],
   "source": [
    "repeatCount(newlist)"
   ]
  },
  {
   "cell_type": "code",
   "execution_count": null,
   "id": "c0641579-d568-4d0a-bff1-8286cbcf3696",
   "metadata": {},
   "outputs": [],
   "source": []
  }
 ],
 "metadata": {
  "kernelspec": {
   "display_name": "Python 3 (ipykernel)",
   "language": "python",
   "name": "python3"
  },
  "language_info": {
   "codemirror_mode": {
    "name": "ipython",
    "version": 3
   },
   "file_extension": ".py",
   "mimetype": "text/x-python",
   "name": "python",
   "nbconvert_exporter": "python",
   "pygments_lexer": "ipython3",
   "version": "3.10.7"
  }
 },
 "nbformat": 4,
 "nbformat_minor": 5
}
