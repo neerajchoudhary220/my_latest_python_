{
 "cells": [
  {
   "cell_type": "code",
   "execution_count": 1,
   "id": "263ae163-c953-4af6-b2f8-71c6f436752b",
   "metadata": {},
   "outputs": [
    {
     "name": "stdout",
     "output_type": "stream",
     "text": [
      "('Biscuits', 'Sugar', 'Vegitable Oil', 'Tea')\n"
     ]
    }
   ],
   "source": [
    "#Declare Tuple\n",
    "mytuple = (\"Biscuits\",\"Sugar\",\"Vegitable Oil\",\"Tea\")\n",
    "print(mytuple)"
   ]
  },
  {
   "cell_type": "code",
   "execution_count": 9,
   "id": "e5c9d652-6af4-455d-a252-42ea89ab1a7c",
   "metadata": {},
   "outputs": [
    {
     "name": "stdout",
     "output_type": "stream",
     "text": [
      "('Lion', 'Tiger', 'Fox', 'Elephant')\n"
     ]
    }
   ],
   "source": [
    "my_tuple = tuple((\"Lion\",\"Tiger\",\"Fox\",\"Elephant\"))\n",
    "print(my_tuple)"
   ]
  },
  {
   "cell_type": "code",
   "execution_count": 10,
   "id": "ec8dbdc1-2bfc-4a19-8512-bbc84b1873c5",
   "metadata": {},
   "outputs": [
    {
     "name": "stdout",
     "output_type": "stream",
     "text": [
      "4\n"
     ]
    }
   ],
   "source": [
    "#length of tuple\n",
    "print(len(my_tuple))"
   ]
  },
  {
   "cell_type": "code",
   "execution_count": 56,
   "id": "c417ccb6-9619-441d-8fd1-8143821d7cb6",
   "metadata": {},
   "outputs": [
    {
     "name": "stdout",
     "output_type": "stream",
     "text": [
      "This is a tuple: <class 'tuple'>\n",
      "This is not a tuple: <class 'str'>\n"
     ]
    }
   ],
   "source": [
    "#Create a tuple with one item\n",
    "one_item_tuple = ('Apple',)\n",
    "print(f\"This is a tuple: {type(one_item_tuple)}\")\n",
    "\n",
    "one_item_tuple = ('Apple')\n",
    "print(f\"This is not a tuple: {type(one_item_tuple)}\")"
   ]
  },
  {
   "cell_type": "code",
   "execution_count": 2,
   "id": "5748e104-5158-40c1-93cf-0e3f02941a0f",
   "metadata": {},
   "outputs": [
    {
     "name": "stdout",
     "output_type": "stream",
     "text": [
      "['Kiwi', 'Orange']\n"
     ]
    }
   ],
   "source": [
    "#packing and unpacking tuples\n",
    "fruits = (\"Mango\",\"Grapes\",\"Cherry\",\"Kiwi\",\"Orange\")\n",
    "(a,b,c,*d)=fruits\n",
    "print(d)"
   ]
  },
  {
   "cell_type": "code",
   "execution_count": 4,
   "id": "24e166a9-0373-4d32-a51c-0cdfdbc19bf0",
   "metadata": {},
   "outputs": [
    {
     "name": "stdout",
     "output_type": "stream",
     "text": [
      "['Mango', 'Grapes', 'Cherry', 'Kiwi', 'Orange']\n"
     ]
    }
   ],
   "source": [
    "#Convert tuple into list\n",
    "mylist = list(fruits)\n",
    "print(mylist)"
   ]
  },
  {
   "cell_type": "code",
   "execution_count": 5,
   "id": "be43a76c-7f63-41ec-8fd1-eb52e921cdbe",
   "metadata": {},
   "outputs": [
    {
     "name": "stdout",
     "output_type": "stream",
     "text": [
      "{'Orange', 'Kiwi', 'Grapes', 'Mango', 'Cherry'}\n"
     ]
    }
   ],
   "source": [
    "#Convert tuple into set\n",
    "myset = set(fruits)\n",
    "print(myset)"
   ]
  },
  {
   "cell_type": "code",
   "execution_count": 18,
   "id": "b3fe222b-c641-4d9c-9b2f-fbfb0e1a05f8",
   "metadata": {},
   "outputs": [
    {
     "name": "stdout",
     "output_type": "stream",
     "text": [
      "{'Mango': 32, 'Apple': 100, 'Kiwi': 300}\n"
     ]
    }
   ],
   "source": [
    "#convert tuple into dictionary\n",
    "mytuple = ((\"Mango\",32),(\"Apple\",100),(\"Kiwi\",300))\n",
    "mydict = dict((item) for item in mytuple)\n",
    "print(mydict)"
   ]
  },
  {
   "cell_type": "code",
   "execution_count": 3,
   "id": "34c7490e-4ef7-4db1-a2ab-1c0741874a86",
   "metadata": {},
   "outputs": [
    {
     "name": "stdout",
     "output_type": "stream",
     "text": [
      "('Ram', 'Mohan', 'Sita', 32, 30, 23)\n"
     ]
    }
   ],
   "source": [
    "#Join Tuples using '+' operator\n",
    "a_tuple = (\"Ram\",\"Mohan\",\"Sita\")\n",
    "b_tuple = (32,30,23)\n",
    "people_age = a_tuple+b_tuple\n",
    "print(people_age)"
   ]
  },
  {
   "cell_type": "code",
   "execution_count": 46,
   "id": "af3f9ebe-f8c3-4664-bfbb-1282925b1a56",
   "metadata": {},
   "outputs": [
    {
     "name": "stdout",
     "output_type": "stream",
     "text": [
      "('Ram', 'Mohan', 'Sita', 'Ram', 'Mohan', 'Sita', 'Ram', 'Mohan', 'Sita')\n"
     ]
    }
   ],
   "source": [
    "#Multiply Tuple\n",
    "three_time_copy = a_tuple*3\n",
    "print(three_time_copy)"
   ]
  },
  {
   "cell_type": "code",
   "execution_count": 49,
   "id": "307d2378-8ed1-4a6d-a00d-033d76289e47",
   "metadata": {},
   "outputs": [
    {
     "name": "stdout",
     "output_type": "stream",
     "text": [
      "3\n"
     ]
    }
   ],
   "source": [
    "#count item in touple\n",
    "print(three_time_copy.count(\"Ram\"))"
   ]
  },
  {
   "cell_type": "code",
   "execution_count": 65,
   "id": "d8b56fd0-3956-4925-989c-7377b4e00ac1",
   "metadata": {},
   "outputs": [
    {
     "name": "stdout",
     "output_type": "stream",
     "text": [
      "('ram', 300, [32, 40], {'Apple', 'Milk', 30}, {'Krishna': 30, 'Mohan': 20}, True)\n"
     ]
    }
   ],
   "source": [
    "#Tuples item datatypes, we can use list,boolean,str,int and ,set,dictionary\n",
    "\n",
    "mytuple = (\n",
    "    \"ram\", #str item\n",
    "    300, #int item\n",
    "    [32,40],#list item\n",
    "    {\"Milk\",\"Apple\",30}, #set items\n",
    "    {\"Krishna\":30,\"Mohan\":20}, #dict items,\n",
    "    True, #bool item\n",
    ")\n",
    "print(mytuple)"
   ]
  },
  {
   "cell_type": "code",
   "execution_count": null,
   "id": "95d11a4e-5c3a-40f8-8050-8814c22130e9",
   "metadata": {},
   "outputs": [],
   "source": []
  }
 ],
 "metadata": {
  "kernelspec": {
   "display_name": "Python 3 (ipykernel)",
   "language": "python",
   "name": "python3"
  },
  "language_info": {
   "codemirror_mode": {
    "name": "ipython",
    "version": 3
   },
   "file_extension": ".py",
   "mimetype": "text/x-python",
   "name": "python",
   "nbconvert_exporter": "python",
   "pygments_lexer": "ipython3",
   "version": "3.10.7"
  }
 },
 "nbformat": 4,
 "nbformat_minor": 5
}
