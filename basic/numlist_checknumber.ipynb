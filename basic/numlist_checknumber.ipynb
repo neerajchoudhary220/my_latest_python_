{
 "cells": [
  {
   "cell_type": "code",
   "execution_count": 109,
   "id": "37825461-bb92-4561-a281-3bbdd8c6f6b0",
   "metadata": {},
   "outputs": [],
   "source": [
    "numlist = []\n",
    "numtxt=''\n",
    "for num in range(101):\n",
    "    numtxt+=str(num)\n",
    "\n",
    "numlist[:len(numtxt)]=numtxt\n"
   ]
  },
  {
   "cell_type": "code",
   "execution_count": 110,
   "id": "2e9fdd68-7e1d-4c47-9313-38231d42e8bc",
   "metadata": {},
   "outputs": [],
   "source": [
    "def uniquelist(list):\n",
    "    newlist=[]\n",
    "    for n in list:\n",
    "       if n not in newlist:\n",
    "           newlist.append(n)\n",
    "           \n",
    "    return newlist"
   ]
  },
  {
   "cell_type": "code",
   "execution_count": 111,
   "id": "0f7114de-fd89-4fd3-b6e8-b8463db3b3c3",
   "metadata": {},
   "outputs": [
    {
     "name": "stdout",
     "output_type": "stream",
     "text": [
      "['0', '1', '2', '3', '4', '5', '6', '7', '8', '9']\n"
     ]
    }
   ],
   "source": [
    "print(uniquelist(numlist))"
   ]
  },
  {
   "cell_type": "code",
   "execution_count": null,
   "id": "ae3682d7-7793-4ee8-ac08-331758cd07f7",
   "metadata": {},
   "outputs": [],
   "source": []
  }
 ],
 "metadata": {
  "kernelspec": {
   "display_name": "Python 3 (ipykernel)",
   "language": "python",
   "name": "python3"
  },
  "language_info": {
   "codemirror_mode": {
    "name": "ipython",
    "version": 3
   },
   "file_extension": ".py",
   "mimetype": "text/x-python",
   "name": "python",
   "nbconvert_exporter": "python",
   "pygments_lexer": "ipython3",
   "version": "3.10.7"
  }
 },
 "nbformat": 4,
 "nbformat_minor": 5
}
