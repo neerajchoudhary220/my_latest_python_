{
 "cells": [
  {
   "cell_type": "code",
   "execution_count": 2,
   "id": "8ec4b748-16a1-42fb-8376-9a6e530607d7",
   "metadata": {},
   "outputs": [
    {
     "name": "stdout",
     "output_type": "stream",
     "text": [
      "135\n"
     ]
    }
   ],
   "source": [
    "print(int(str(123456)[::2]))\n"
   ]
  },
  {
   "cell_type": "code",
   "execution_count": 52,
   "id": "c476c55c-8ddd-4823-ac74-37f833f3be46",
   "metadata": {},
   "outputs": [
    {
     "name": "stdout",
     "output_type": "stream",
     "text": [
      "{'Mango', 'Ram', 'Apple'}\n"
     ]
    }
   ],
   "source": [
    "#define a set\n",
    "myset = {\"Ram\",\"Mango\",\"Apple\"}\n",
    "print(myset)"
   ]
  },
  {
   "cell_type": "code",
   "execution_count": 53,
   "id": "0f1c9d74-fede-4966-ae42-4a164c125268",
   "metadata": {},
   "outputs": [
    {
     "name": "stdout",
     "output_type": "stream",
     "text": [
      "{'Mango', 'Apple', 'Ram'}\n"
     ]
    }
   ],
   "source": [
    "myset = set((\"Ram\",\"Mango\",\"Apple\"))\n",
    "print(myset)"
   ]
  },
  {
   "cell_type": "code",
   "execution_count": 54,
   "id": "57ceda33-ba39-4734-a677-a4b10b6ece12",
   "metadata": {},
   "outputs": [
    {
     "name": "stdout",
     "output_type": "stream",
     "text": [
      "<class 'set'>\n"
     ]
    }
   ],
   "source": [
    "#check the type of set\n",
    "print(type(myset))"
   ]
  },
  {
   "cell_type": "code",
   "execution_count": 55,
   "id": "6de63e40-c9c1-4354-965c-96e0b0370df0",
   "metadata": {},
   "outputs": [
    {
     "name": "stdout",
     "output_type": "stream",
     "text": [
      "3\n"
     ]
    }
   ],
   "source": [
    "#Get the length of a set\n",
    "print(len(myset))"
   ]
  },
  {
   "cell_type": "code",
   "execution_count": 43,
   "id": "989e2366-8363-441c-88fe-2a19f17df000",
   "metadata": {},
   "outputs": [
    {
     "name": "stdout",
     "output_type": "stream",
     "text": [
      "{False, True, 2, 3, (1, 2, 3, 4), 'Apple'}\n"
     ]
    }
   ],
   "source": [
    "#Data types in set we can use all data types item, list, and tuple, but 1 or True are same and 0 and False is same considered in set\n",
    "data_set = {False,0,True,1,2,3,\"Apple\",(1,2,3,4)}\n",
    "print(data_set)"
   ]
  },
  {
   "cell_type": "code",
   "execution_count": 44,
   "id": "6b342199-fab2-429b-8378-bf79293b2183",
   "metadata": {},
   "outputs": [
    {
     "ename": "TypeError",
     "evalue": "unhashable type: 'dict'",
     "output_type": "error",
     "traceback": [
      "\u001b[1;31m---------------------------------------------------------------------------\u001b[0m",
      "\u001b[1;31mTypeError\u001b[0m                                 Traceback (most recent call last)",
      "Cell \u001b[1;32mIn[44], line 2\u001b[0m\n\u001b[0;32m      1\u001b[0m \u001b[38;5;66;03m#We can't directly use dict as item in set\u001b[39;00m\n\u001b[1;32m----> 2\u001b[0m set_ \u001b[38;5;241m=\u001b[39m {{\u001b[38;5;124m\"\u001b[39m\u001b[38;5;124mMango\u001b[39m\u001b[38;5;124m\"\u001b[39m:\u001b[38;5;241m30\u001b[39m}}\n\u001b[0;32m      3\u001b[0m \u001b[38;5;28mprint\u001b[39m(set_)\n",
      "\u001b[1;31mTypeError\u001b[0m: unhashable type: 'dict'"
     ]
    }
   ],
   "source": [
    "#We can't directly use dict as item in set\n",
    "set_ = {{\"Mango\":30}}\n",
    "print(set_)"
   ]
  },
  {
   "cell_type": "code",
   "execution_count": 45,
   "id": "22eff028-3a82-4cc9-b0b7-c5ad38c211bd",
   "metadata": {},
   "outputs": [
    {
     "name": "stdout",
     "output_type": "stream",
     "text": [
      "{'Mango', 'Apple', 'Cherry', 'Kiwi'}\n"
     ]
    }
   ],
   "source": [
    "#Duplicate items is not allowed in a set\n",
    "fruits = {\"Mango\",\"Kiwi\",\"Mango\",\"Apple\",\"Mango\",\"Cherry\",\"Apple\"}\n",
    "print(fruits)\n"
   ]
  },
  {
   "cell_type": "code",
   "execution_count": 46,
   "id": "6e6d1156-2711-43b3-a0d5-a7a3f2f319f8",
   "metadata": {},
   "outputs": [
    {
     "name": "stdout",
     "output_type": "stream",
     "text": [
      "This is a list: [0, 1, 22, 22, 22, 22, 33, 33, 33, 34, 100, 222]\n",
      "This is a set: {0, 1, 34, 33, 100, 22, 222}\n"
     ]
    }
   ],
   "source": [
    "#Convert list into a set\n",
    "mylist = [1,22,34,33,22,100,33,222,0,22,33,22]\n",
    "mylist.sort()\n",
    "print(f\"This is a list: {mylist}\")\n",
    "set_from_list = set(mylist)\n",
    "print(f\"This is a set: {set_from_list}\")"
   ]
  },
  {
   "cell_type": "code",
   "execution_count": 60,
   "id": "527d142c-3582-49ee-99b2-a179e286e97f",
   "metadata": {
    "scrolled": true
   },
   "outputs": [
    {
     "name": "stdout",
     "output_type": "stream",
     "text": [
      "This is a tuple: ('Mon', 'Tue', 'Wed', 'Mon', 'Thr', 'Mon')\n",
      "This is a set : {'Thr', 'Mon', 'Wed', 'Tue'}\n"
     ]
    }
   ],
   "source": [
    "#convert a tuple into a set\n",
    "days_tuple = (\"Mon\",\"Tue\",\"Wed\",\"Mon\",\"Thr\",\"Mon\")\n",
    "print(f\"This is a tuple: {days_tuple}\")\n",
    "set_from_tuple = set(days_tuple)\n",
    "print(f\"This is a set : {set_from_tuple}\")"
   ]
  },
  {
   "cell_type": "code",
   "execution_count": 61,
   "id": "6c40408d-6ddc-4e88-9464-75de100fdcf5",
   "metadata": {},
   "outputs": [
    {
     "name": "stdout",
     "output_type": "stream",
     "text": [
      "This is a dictionary : {'Ram': 20, 'Mohan': 30, 'Gopal': 20}\n",
      "This is a set : {'Gopal', 'Mohan', 'Ram'}\n"
     ]
    }
   ],
   "source": [
    "\n",
    "#Convert a dictionary into a set\n",
    "my_dict = {\"Ram\":30,\"Mohan\":30,\"Ram\":20,\"Gopal\":20}\n",
    "print(f\"This is a dictionary : {my_dict}\")\n",
    "\n",
    "set_from_dict = set(my_dict)\n",
    "print(f\"This is a set : {set_from_dict}\")"
   ]
  },
  {
   "cell_type": "code",
   "execution_count": 62,
   "id": "983fd7eb-1cc8-4275-ae26-8cd23b4448be",
   "metadata": {},
   "outputs": [
    {
     "name": "stdout",
     "output_type": "stream",
     "text": [
      "True\n",
      "False\n"
     ]
    }
   ],
   "source": [
    "#Check present item in a set\n",
    "new_set = [\"Ram\",\"Rohan\",\"Krishana\"]\n",
    "print(\"Rohan\" in new_set)\n",
    "print(\"Shyam\" in  new_set)"
   ]
  },
  {
   "cell_type": "code",
   "execution_count": 63,
   "id": "0d6d80ab-4515-4add-94c1-dabeff4c6e41",
   "metadata": {},
   "outputs": [
    {
     "name": "stdout",
     "output_type": "stream",
     "text": [
      "{'Lemon', 'Apple', 'Kiwi', 'Orange', 'Mango'}\n"
     ]
    }
   ],
   "source": [
    "#Add item in a set\n",
    "my_fav_fruits = {\"Mango\",\"Apple\",\"Kiwi\"}\n",
    "my_fav_fruits.add(\"Orange\"), my_fav_fruits.add(\"Lemon\")\n",
    "print(my_fav_fruits)"
   ]
  },
  {
   "cell_type": "code",
   "execution_count": 64,
   "id": "80337de4-1b3b-40d8-9fd3-d71fd8b386b4",
   "metadata": {},
   "outputs": [
    {
     "name": "stdout",
     "output_type": "stream",
     "text": [
      "Current set is : {1, 2, 3}\n",
      "Another set is : {'Two', 'One', 'Three'}\n",
      "{1, 2, 3, 'One', 'Three', 'Two'}\n"
     ]
    }
   ],
   "source": [
    "#Add items of another set in a current set\n",
    "current_set = {1,2,3}\n",
    "print(f\"Current set is : {current_set}\")\n",
    "\n",
    "another_set = {\"One\",\"Two\",\"Three\"}\n",
    "print(f\"Another set is : {another_set}\")\n",
    "\n",
    "current_set.update(another_set)\n",
    "print(current_set)\n"
   ]
  },
  {
   "cell_type": "code",
   "execution_count": 65,
   "id": "83237302-1f30-4b55-8ace-d7198eeeeab1",
   "metadata": {},
   "outputs": [
    {
     "name": "stdout",
     "output_type": "stream",
     "text": [
      "{1, 2, 3, 'One', 'Three', 'Two', 'Hello'}\n"
     ]
    }
   ],
   "source": [
    "#Add a string using update method in a current set\n",
    "str =\"Hello\"\n",
    "current_set.add(str)\n",
    "print(current_set)"
   ]
  },
  {
   "cell_type": "code",
   "execution_count": 66,
   "id": "f765f2b9-6566-4613-93d7-138ed4f1fe28",
   "metadata": {},
   "outputs": [
    {
     "name": "stdout",
     "output_type": "stream",
     "text": [
      "{'Lemon', 100, 'Apple', 'Kiwi', 'Orange', 'Mango'}\n"
     ]
    }
   ],
   "source": [
    "#Add int using update method in a current set\n",
    "my_int =100\n",
    "my_fav_fruits.add(my_int)\n",
    "print(my_fav_fruits)"
   ]
  },
  {
   "cell_type": "code",
   "execution_count": 67,
   "id": "71fba500-b8e3-4a47-ad5a-c40320fcf40d",
   "metadata": {},
   "outputs": [
    {
     "name": "stdout",
     "output_type": "stream",
     "text": [
      "[0, 1, 22, 22, 22, 22, 33, 33, 33, 34, 100, 222]\n",
      "{0, 1, 33, 34, 'Lemon', 100, 'Apple', 'Kiwi', 'Orange', 22, 222, 'Mango'}\n"
     ]
    }
   ],
   "source": [
    "#Add list \n",
    "print(mylist)\n",
    "my_fav_fruits.update(mylist)\n",
    "print(my_fav_fruits)"
   ]
  },
  {
   "cell_type": "code",
   "execution_count": 68,
   "id": "1b3582db-c470-4f07-99bd-5692055980c7",
   "metadata": {},
   "outputs": [
    {
     "name": "stdout",
     "output_type": "stream",
     "text": [
      "{0, 2, 3, 4, 5, (100, 12, 300), 'Milk', 'o'}\n",
      "0\n",
      "{2, 3, 4, 5, (100, 12, 300), 'Milk', 'o'}\n"
     ]
    }
   ],
   "source": [
    "#Remove a random item from a set using by the pop() method.\n",
    "mynew_set = {0,2,3,4,5,\"Milk\",(100,12,300),'o'}\n",
    "print(mynew_set)\n",
    "print(mynew_set.pop())\n",
    "print(mynew_set)"
   ]
  },
  {
   "cell_type": "code",
   "execution_count": 69,
   "id": "fa3c99f9-c5f7-4206-a6b6-6b212aac8d1e",
   "metadata": {},
   "outputs": [
    {
     "name": "stdout",
     "output_type": "stream",
     "text": [
      "set()\n"
     ]
    }
   ],
   "source": [
    "#clear a set\n",
    "mynew_set.clear()\n",
    "print(mynew_set)"
   ]
  },
  {
   "cell_type": "code",
   "execution_count": 10,
   "id": "0ef4ad47-fb90-4803-ad7b-d7b0f574c5c2",
   "metadata": {},
   "outputs": [],
   "source": [
    "fruits ={\"Mango\",\"Orange\",\"Lemon\"}"
   ]
  },
  {
   "cell_type": "code",
   "execution_count": 11,
   "id": "6ace7811-7f11-4bb9-bf48-47c35d32b061",
   "metadata": {},
   "outputs": [
    {
     "name": "stdout",
     "output_type": "stream",
     "text": [
      "{'Mango', 'Orange', 'Lemon'}\n"
     ]
    }
   ],
   "source": [
    "print(fruits)"
   ]
  },
  {
   "cell_type": "code",
   "execution_count": 23,
   "id": "fc7b83ce-afa8-43ad-8141-4802010689a4",
   "metadata": {},
   "outputs": [
    {
     "name": "stdout",
     "output_type": "stream",
     "text": [
      "{'three', 'four', 'one', 'two'}\n",
      "{1, 2, 3, 4, 'four', 'three', 'two', 'one'}\n",
      "{1, 2, 3, 4, 'four', 'three', 'two', 'one'}\n"
     ]
    }
   ],
   "source": [
    "#Use union methon\n",
    "set1= {\"one\",\"two\",\"three\",\"four\"}\n",
    "set2 ={1,2,3,4}\n",
    "set3= set1.union(set2)\n",
    "print(set1)\n",
    "print(set3)\n",
    "set1.update(set2)\n",
    "print(set1)\n"
   ]
  },
  {
   "cell_type": "code",
   "execution_count": 38,
   "id": "62e06b91-4075-4547-ac03-2888dc65bb72",
   "metadata": {},
   "outputs": [
    {
     "name": "stdout",
     "output_type": "stream",
     "text": [
      "{True, 'one', 'two'}\n",
      "{True}\n"
     ]
    }
   ],
   "source": [
    "#intersection_update and intersection\n",
    "s ={\"one\",\"two\",True}\n",
    "s1 = {\"three\",\"four\",True,'xyz'}\n",
    "# s2=s.intersection_update(s1)\n",
    "# print(s)\n",
    "# print(s2)\n",
    "s3= s.intersection(s1)\n",
    "print(s)\n",
    "print(s3)\n"
   ]
  },
  {
   "cell_type": "code",
   "execution_count": 42,
   "id": "1d188047-eade-451a-91c6-3bfeb50d00da",
   "metadata": {},
   "outputs": [
    {
     "name": "stdout",
     "output_type": "stream",
     "text": [
      "True\n",
      "False\n"
     ]
    }
   ],
   "source": [
    "#isdisjoint() method: Return True if none of the item are present in both sets\n",
    "set_x = {\"a\",\"b\",\"c\"}\n",
    "set_y = {\"x\",\"y\",\"z\",\"3\"}\n",
    "print(set_x.isdisjoint(set_y))\n",
    "\n",
    "set_a = {1,2,3,4,True, False, \"w\"}\n",
    "set_b = {\"w\",\"x\",\"y\",\"a\",4}\n",
    "print(set_a.isdisjoint(set_b))\n"
   ]
  },
  {
   "cell_type": "code",
   "execution_count": null,
   "id": "e3bee6e7-bacb-4f26-92c5-e3059e107a3c",
   "metadata": {},
   "outputs": [],
   "source": []
  }
 ],
 "metadata": {
  "kernelspec": {
   "display_name": "Python 3 (ipykernel)",
   "language": "python",
   "name": "python3"
  },
  "language_info": {
   "codemirror_mode": {
    "name": "ipython",
    "version": 3
   },
   "file_extension": ".py",
   "mimetype": "text/x-python",
   "name": "python",
   "nbconvert_exporter": "python",
   "pygments_lexer": "ipython3",
   "version": "3.10.7"
  }
 },
 "nbformat": 4,
 "nbformat_minor": 5
}
