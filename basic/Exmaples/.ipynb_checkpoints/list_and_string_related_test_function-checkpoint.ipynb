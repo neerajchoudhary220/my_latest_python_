{
 "cells": [
  {
   "cell_type": "code",
   "execution_count": 57,
   "id": "ba92be8d-14ba-4262-9633-a7b631566206",
   "metadata": {},
   "outputs": [],
   "source": [
    "def removeRepeatChar(txt):\n",
    "    \n",
    "    mylist = list(txt[::1]) #convert string into list\n",
    "    mylist = list(dict.fromkeys(mylist)) #convert list into dictionay and dictionary convert into list again\n",
    "    return \"\".join(mylist) #convert list into string"
   ]
  },
  {
   "cell_type": "code",
   "execution_count": 82,
   "id": "761d0d6d-9f3c-4190-9e91-cf3dab0ff9dd",
   "metadata": {},
   "outputs": [],
   "source": [
    "def removeRepeatWord(txt):\n",
    "    mylist = txt.split(\" \")\n",
    "    mylist = list(dict.fromkeys(mylist))\n",
    "    return \" \".join(mylist)"
   ]
  },
  {
   "cell_type": "code",
   "execution_count": 95,
   "id": "bd47570d-7d63-4ecc-bbd8-77159c43b989",
   "metadata": {},
   "outputs": [],
   "source": [
    "def reverseChar(txt):\n",
    "    return txt[::-1]"
   ]
  },
  {
   "cell_type": "code",
   "execution_count": 99,
   "id": "3d242382-5d95-430d-9559-b114313c8069",
   "metadata": {},
   "outputs": [],
   "source": [
    "def reverseWord(txt):\n",
    "    return \" \".join(txt.split(\" \")[::-1])"
   ]
  },
  {
   "cell_type": "code",
   "execution_count": 100,
   "id": "d47d0105-53f1-445b-a910-1d414f76094b",
   "metadata": {},
   "outputs": [
    {
     "name": "stdout",
     "output_type": "stream",
     "text": [
      "Ban\n"
     ]
    }
   ],
   "source": [
    "#Remove Repeat Character Example\n",
    "mystring =\"Banana\"\n",
    "print(removeRepeatChar(mystring))"
   ]
  },
  {
   "cell_type": "code",
   "execution_count": 101,
   "id": "852c716c-be63-4f0f-9d46-0320f16bc8b9",
   "metadata": {},
   "outputs": [
    {
     "name": "stdout",
     "output_type": "stream",
     "text": [
      "How are you neeraj ? is feeling today What doing\n"
     ]
    }
   ],
   "source": [
    "#Remove Repeat Words From A Sentence\n",
    "my_word = \"How are you neeraj ? How is feeling today ? What are you doing today\"\n",
    "print(removeRepeatWord(my_word))"
   ]
  },
  {
   "cell_type": "code",
   "execution_count": 108,
   "id": "fc8a9c16-3b77-4ce9-8bdc-d8a77ba101d1",
   "metadata": {},
   "outputs": [
    {
     "name": "stdout",
     "output_type": "stream",
     "text": [
      "321\n"
     ]
    }
   ],
   "source": [
    "#Reverse Character Example\n",
    "mytxt = \"123\"\n",
    "print(reverseChar(mytxt))"
   ]
  },
  {
   "cell_type": "code",
   "execution_count": 111,
   "id": "05578be8-e2e3-4b8a-a188-32e9fe499b64",
   "metadata": {},
   "outputs": [
    {
     "name": "stdout",
     "output_type": "stream",
     "text": [
      "God is Love\n"
     ]
    }
   ],
   "source": [
    "#Reverse Sentence Word Example\n",
    "my_sen = \"Love is God\"\n",
    "print(reverseWord(my_sen))"
   ]
  },
  {
   "cell_type": "code",
   "execution_count": null,
   "id": "689a38fb-097c-400f-ae21-210ed54d482f",
   "metadata": {},
   "outputs": [],
   "source": []
  }
 ],
 "metadata": {
  "kernelspec": {
   "display_name": "Python 3 (ipykernel)",
   "language": "python",
   "name": "python3"
  },
  "language_info": {
   "codemirror_mode": {
    "name": "ipython",
    "version": 3
   },
   "file_extension": ".py",
   "mimetype": "text/x-python",
   "name": "python",
   "nbconvert_exporter": "python",
   "pygments_lexer": "ipython3",
   "version": "3.10.7"
  }
 },
 "nbformat": 4,
 "nbformat_minor": 5
}
