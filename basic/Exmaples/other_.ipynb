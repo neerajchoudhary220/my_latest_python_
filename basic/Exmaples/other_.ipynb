{
 "cells": [
  {
   "cell_type": "code",
   "execution_count": 32,
   "id": "13c96551-b837-4de1-a41c-b0bd5db7b669",
   "metadata": {},
   "outputs": [
    {
     "name": "stdout",
     "output_type": "stream",
     "text": [
      "<generator object <genexpr> at 0x0000022AAF37D380>\n",
      "<class 'generator'>\n"
     ]
    }
   ],
   "source": [
    "txt = \"Ap\"\n",
    "txt_obj = (mytxt  for mytxt in txt)\n",
    "print(txt_obj)\n",
    "print(type(txt_obj))"
   ]
  },
  {
   "cell_type": "code",
   "execution_count": 33,
   "id": "b353864d-612d-484a-89ec-603154f3b30b",
   "metadata": {},
   "outputs": [
    {
     "name": "stdout",
     "output_type": "stream",
     "text": [
      "A\n",
      "p\n"
     ]
    }
   ],
   "source": [
    "for item in txt_obj:\n",
    "    print(item)"
   ]
  },
  {
   "cell_type": "code",
   "execution_count": 34,
   "id": "cf33ae9a-9171-4f3a-9e33-001bc9be8d7d",
   "metadata": {},
   "outputs": [
    {
     "name": "stdout",
     "output_type": "stream",
     "text": [
      "A\n",
      "p\n"
     ]
    }
   ],
   "source": [
    "for item in txt:\n",
    "    print(item)"
   ]
  },
  {
   "cell_type": "code",
   "execution_count": 31,
   "id": "5b0de841-4586-44b4-aca8-f7872eac35f5",
   "metadata": {},
   "outputs": [],
   "source": []
  },
  {
   "cell_type": "code",
   "execution_count": null,
   "id": "7315d80a-dd50-4243-9281-228f30690e2e",
   "metadata": {},
   "outputs": [],
   "source": []
  }
 ],
 "metadata": {
  "kernelspec": {
   "display_name": "Python 3 (ipykernel)",
   "language": "python",
   "name": "python3"
  },
  "language_info": {
   "codemirror_mode": {
    "name": "ipython",
    "version": 3
   },
   "file_extension": ".py",
   "mimetype": "text/x-python",
   "name": "python",
   "nbconvert_exporter": "python",
   "pygments_lexer": "ipython3",
   "version": "3.10.7"
  }
 },
 "nbformat": 4,
 "nbformat_minor": 5
}
