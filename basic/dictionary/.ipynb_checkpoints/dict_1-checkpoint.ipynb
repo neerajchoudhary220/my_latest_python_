{
 "cells": [
  {
   "cell_type": "code",
   "execution_count": 28,
   "id": "6f7cb641-630c-4f60-a8ed-cfb528efc6be",
   "metadata": {},
   "outputs": [],
   "source": [
    "mydict = {\"fruits\":\"mango\",\"weight\":\"23kg\",\"grocerry\":{\n",
    "    \"milk\":\"10 ltr\"\n",
    "}}"
   ]
  },
  {
   "cell_type": "code",
   "execution_count": 29,
   "id": "b323e7d4-6b12-410b-9a7c-e196d4c2361e",
   "metadata": {},
   "outputs": [
    {
     "name": "stdout",
     "output_type": "stream",
     "text": [
      "{'fruits': 'mango', 'weight': '23kg', 'grocerry': {'milk': '10 ltr'}}\n"
     ]
    }
   ],
   "source": [
    "print(mydict)"
   ]
  },
  {
   "cell_type": "code",
   "execution_count": 30,
   "id": "acbc83c7-f5a8-4fbf-a53b-d44ce56beb15",
   "metadata": {},
   "outputs": [
    {
     "name": "stdout",
     "output_type": "stream",
     "text": [
      "{'name': 'Neeraj', 'age': 26, 'mobile': 9509797669}\n"
     ]
    }
   ],
   "source": [
    "#Create dictionary using dict method\n",
    "mydict = dict(name=\"Neeraj\",age=26,mobile=9509797669)\n",
    "print(mydict)"
   ]
  },
  {
   "cell_type": "code",
   "execution_count": 31,
   "id": "47d35379-324f-441b-b770-984126d37773",
   "metadata": {},
   "outputs": [
    {
     "name": "stdout",
     "output_type": "stream",
     "text": [
      "Neeraj\n",
      "None\n"
     ]
    }
   ],
   "source": [
    "#Access deictionary items using squre brackets [] and get() method\n",
    "print(mydict['name']) #using square bracket. If key is not found then return error\n",
    "print(mydict.get('w')) #using get() method. If key is not found then return none\n"
   ]
  },
  {
   "cell_type": "code",
   "execution_count": 32,
   "id": "9dbec93e-9aad-499e-b663-6472bffbdd48",
   "metadata": {},
   "outputs": [
    {
     "name": "stdout",
     "output_type": "stream",
     "text": [
      "dict_keys(['name', 'age', 'mobile'])\n"
     ]
    }
   ],
   "source": [
    "#Get keys, Using keys() method for get keys of a dictionary\n",
    "print(mydict.keys())"
   ]
  },
  {
   "cell_type": "code",
   "execution_count": 33,
   "id": "9fe0da6d-1848-4f41-b3af-89fd8eca626a",
   "metadata": {},
   "outputs": [
    {
     "name": "stdout",
     "output_type": "stream",
     "text": [
      "dict_values(['Neeraj', 26, 9509797669])\n"
     ]
    }
   ],
   "source": [
    "#Get values of a dictionary using values() method\n",
    "print(mydict.values())"
   ]
  },
  {
   "cell_type": "code",
   "execution_count": 34,
   "id": "7efeda1e-f9b0-414f-afa4-58ee5daae4d7",
   "metadata": {},
   "outputs": [
    {
     "name": "stdout",
     "output_type": "stream",
     "text": [
      "dict_items([('name', 'Neeraj'), ('age', 26), ('mobile', 9509797669)])\n"
     ]
    }
   ],
   "source": [
    "#Use items() method\n",
    "print(mydict.items())"
   ]
  },
  {
   "cell_type": "code",
   "execution_count": 35,
   "id": "b07d0817-e0ae-4483-97ac-3bc8ffc46576",
   "metadata": {},
   "outputs": [
    {
     "name": "stdout",
     "output_type": "stream",
     "text": [
      "List with keys : ['name', 'age', 'mobile']\n",
      "List with values : ['Neeraj', 26, 9509797669]\n",
      "List with items : [('name', 'Neeraj'), ('age', 26), ('mobile', 9509797669)]\n",
      "\n",
      "\n",
      "Tuple with keys : ('name', 'age', 'mobile')\n",
      "Tuple with values : ('Neeraj', 26, 9509797669)\n",
      "Tuple with items : (('name', 'Neeraj'), ('age', 26), ('mobile', 9509797669))\n",
      "\n",
      "\n",
      "Set with Keys : {'name', 'age', 'mobile'}\n",
      "Set with values : {'Neeraj', 26, 9509797669}\n",
      "Seet with items : {('name', 'Neeraj'), ('mobile', 9509797669), ('age', 26)}\n"
     ]
    }
   ],
   "source": [
    "#Conversation a dictionary\n",
    "#convert dictionary into a list\n",
    "print(f\"List with keys : {list(mydict.keys())}\")\n",
    "print(f\"List with values : {list(mydict.values())}\")\n",
    "print(f\"List with items : {list(mydict.items())}\")\n",
    "print(\"\\n\")\n",
    "#convert dictionary into a tuple\n",
    "print(f\"Tuple with keys : {tuple(mydict.keys())}\")\n",
    "print(f\"Tuple with values : {tuple(mydict.values())}\")\n",
    "print(f\"Tuple with items : {tuple(mydict.items())}\")\n",
    "print(\"\\n\")\n",
    "#convert dictionary into a set\n",
    "\n",
    "print(f\"Set with Keys : {set(mydict.keys())}\")\n",
    "print(f\"Set with values : {set(mydict.values())}\")\n",
    "print(f\"Seet with items : {set(mydict.items())}\")"
   ]
  },
  {
   "cell_type": "code",
   "execution_count": 36,
   "id": "53a612ac-c420-4de0-95f7-89ca7870b79b",
   "metadata": {},
   "outputs": [
    {
     "name": "stdout",
     "output_type": "stream",
     "text": [
      "True\n",
      "False\n"
     ]
    }
   ],
   "source": [
    "#check if key exist\n",
    "print('name' in mydict)\n",
    "print('a' in mydict)"
   ]
  },
  {
   "cell_type": "code",
   "execution_count": 38,
   "id": "568ef305-e9da-493b-acd0-5bccc1e26142",
   "metadata": {},
   "outputs": [
    {
     "name": "stdout",
     "output_type": "stream",
     "text": [
      "{'name': 'Neeraj Choudhary', 'age': 26, 'mobile': 9509797669}\n"
     ]
    }
   ],
   "source": [
    "#Change the value of key\n",
    "mydict['name']='Neeraj choudhary'\n",
    "mydict['name'] = mydict['name'].title()\n",
    "print(mydict)"
   ]
  },
  {
   "cell_type": "code",
   "execution_count": 39,
   "id": "7298b823-9a81-494c-9dd1-1ad17fdf3c91",
   "metadata": {},
   "outputs": [
    {
     "name": "stdout",
     "output_type": "stream",
     "text": [
      "('mobile', 9509797669)\n"
     ]
    }
   ],
   "source": [
    "#Use popitem() method for remove last key value pair from dictionary\n",
    "print(mydict.popitem())"
   ]
  },
  {
   "cell_type": "code",
   "execution_count": 40,
   "id": "fbf3b36e-cef5-4ae0-bf9a-67e552b0ee0c",
   "metadata": {},
   "outputs": [
    {
     "name": "stdout",
     "output_type": "stream",
     "text": [
      "{'name': 'Neeraj Choudhary', 'age': 26}\n"
     ]
    }
   ],
   "source": [
    "print(mydict)"
   ]
  },
  {
   "cell_type": "code",
   "execution_count": 41,
   "id": "6c77a8a1-3698-4a59-ab58-2d1fb6a14c02",
   "metadata": {},
   "outputs": [
    {
     "name": "stdout",
     "output_type": "stream",
     "text": [
      "{'name': 'Neeraj Choudhary', 'age': 26, 'mobile': 9509797669}\n"
     ]
    }
   ],
   "source": [
    "#Add key value pair\n",
    "mydict[\"mobile\"] = 9509797669\n",
    "print(mydict)"
   ]
  },
  {
   "cell_type": "code",
   "execution_count": 45,
   "id": "d947b4a7-0a26-4fd1-9219-f2c94b34c79a",
   "metadata": {},
   "outputs": [
    {
     "name": "stdout",
     "output_type": "stream",
     "text": [
      "{'name': 'Neeraj Choudhary', 'age': 26, 'mobile': 9509797669, 'house no.': 92, 'pincode': 326501}\n"
     ]
    }
   ],
   "source": [
    "#Add a another in a current dictionary using update() method\n",
    "address = {\"house no.\":92, \"pincode\":326501}\n",
    "mydict.update(address)\n",
    "print(mydict)"
   ]
  },
  {
   "cell_type": "code",
   "execution_count": 49,
   "id": "ce69c602-eb03-4e99-8897-4354f4776e87",
   "metadata": {},
   "outputs": [
    {
     "name": "stdout",
     "output_type": "stream",
     "text": [
      "{'Fruit': 'Orange', 'Color': 'Orange'}\n"
     ]
    }
   ],
   "source": [
    "#use fromkeys() method\n",
    "abc = (\"Fruit\",\"Color\")\n",
    "values = \"Orange\"\n",
    "print(dict.fromkeys(abc,values))"
   ]
  },
  {
   "cell_type": "code",
   "execution_count": 53,
   "id": "e6805c3d-5a32-40bb-b4d4-d3ba3a730bcb",
   "metadata": {},
   "outputs": [
    {
     "name": "stdout",
     "output_type": "stream",
     "text": [
      "{'Fruits': ['Orange', 'Mango', 'Kiwi'], 'Price': [40, 30, 200]}\n"
     ]
    }
   ],
   "source": [
    "new_dict = {\n",
    "    \"Fruits\":[\"Orange\",\"Mango\",\"Kiwi\"],\n",
    "    \"Price\":[40,30,200]\n",
    "}\n",
    "print(new_dict)"
   ]
  },
  {
   "cell_type": "code",
   "execution_count": 62,
   "id": "70725a32-04d0-4fcd-89a0-47e83dc8731c",
   "metadata": {},
   "outputs": [
    {
     "name": "stdout",
     "output_type": "stream",
     "text": [
      "   Fruits  Price\n",
      "0  Orange     40\n",
      "1   Mango     30\n",
      "2    Kiwi    200\n"
     ]
    }
   ],
   "source": [
    "import pandas as pd\n",
    "mydata = pd.DataFrame(new_dict)\n",
    "print(mydata)"
   ]
  },
  {
   "cell_type": "code",
   "execution_count": null,
   "id": "d383722b-6365-4da0-a193-7057f2842399",
   "metadata": {},
   "outputs": [],
   "source": []
  },
  {
   "cell_type": "code",
   "execution_count": null,
   "id": "a468df06-e558-41e8-935a-bca7bc3378a9",
   "metadata": {},
   "outputs": [],
   "source": []
  }
 ],
 "metadata": {
  "kernelspec": {
   "display_name": "Python 3 (ipykernel)",
   "language": "python",
   "name": "python3"
  },
  "language_info": {
   "codemirror_mode": {
    "name": "ipython",
    "version": 3
   },
   "file_extension": ".py",
   "mimetype": "text/x-python",
   "name": "python",
   "nbconvert_exporter": "python",
   "pygments_lexer": "ipython3",
   "version": "3.10.7"
  }
 },
 "nbformat": 4,
 "nbformat_minor": 5
}
