{
 "cells": [
  {
   "cell_type": "code",
   "execution_count": 116,
   "id": "cc6c4992-5fff-47be-b837-42139a1911bc",
   "metadata": {},
   "outputs": [],
   "source": [
    "bootstrap ={\n",
    "    \"labels\":{\n",
    "        \"button\":{\n",
    "            \"label_id\":1,\n",
    "            \"names\":[\"write bootstrap\",\"bootstrap\",\"tell bootstrap\"],\n",
    "            \"verbs\":[\"about\",\"all\"],\n",
    "            \"noun\":[\"button\",\"btn\",\"buttons\"]\n",
    "        },\n",
    "    \"model\":{\n",
    "            \"label_id\":2,\n",
    "            \"names\":[\"write bootstrap\",\"bootstrap\",\"tell bootstrap\"],\n",
    "            \"verbs\":[\"about\",\"all\",\"lx\",\"xl\",\"lg\",\"sm\",\"md\",\"small\",\"large\"],\n",
    "            \"noun\":[\"modal\",\"model\",\"modals\"]\n",
    "        },\n",
    "     \"card\":{\n",
    "            \"label_id\":2,\n",
    "            \"names\":[\"write bootstrap\",\"bootstrap\",\"tell bootstrap\",\"bootstrap4\",\"bootstrap5\"],\n",
    "            \"verbs\":[\"\"],\n",
    "            \"noun\":[\"card\",\"cards\"]\n",
    "        },\n",
    "    }\n",
    "}"
   ]
  },
  {
   "cell_type": "code",
   "execution_count": 117,
   "id": "80a23eb4-d9fc-4994-908f-3d064e296494",
   "metadata": {},
   "outputs": [
    {
     "name": "stdout",
     "output_type": "stream",
     "text": [
      "{'button': {'label_id': 1, 'names': ['write bootstrap', 'bootstrap', 'tell bootstrap'], 'verbs': ['about', 'all'], 'noun': ['button', 'btn', 'buttons']}, 'model': {'label_id': 2, 'names': ['write bootstrap', 'bootstrap', 'tell bootstrap'], 'verbs': ['about', 'all', 'lx', 'xl', 'lg', 'sm', 'md', 'small', 'large'], 'noun': ['modal', 'model', 'modals']}, 'card': {'label_id': 2, 'names': ['write bootstrap', 'bootstrap', 'tell bootstrap', 'bootstrap4', 'bootstrap5'], 'verbs': [''], 'noun': ['card', 'cards']}}\n"
     ]
    }
   ],
   "source": [
    "labels = bootstrap['labels']\n",
    "print(labels)"
   ]
  },
  {
   "cell_type": "code",
   "execution_count": 118,
   "id": "235e5eae-5b15-46ca-a31f-abcfb1492cef",
   "metadata": {},
   "outputs": [],
   "source": [
    "kys = labels.keys()\n",
    "kys= list(k)\n"
   ]
  },
  {
   "cell_type": "code",
   "execution_count": 119,
   "id": "a4dcafec-e533-4fbe-a900-4a9ea7a75449",
   "metadata": {},
   "outputs": [
    {
     "name": "stdout",
     "output_type": "stream",
     "text": [
      "label:button,label_id:1, name:['write bootstrap', 'bootstrap', 'tell bootstrap'], verbs:['about', 'all'], noun:['button', 'btn', 'buttons']\n",
      "label:model,label_id:2, name:['write bootstrap', 'bootstrap', 'tell bootstrap'], verbs:['about', 'all', 'lx', 'xl', 'lg', 'sm', 'md', 'small', 'large'], noun:['modal', 'model', 'modals']\n",
      "label:card,label_id:2, name:['write bootstrap', 'bootstrap', 'tell bootstrap', 'bootstrap4', 'bootstrap5'], verbs:[''], noun:['card', 'cards']\n"
     ]
    }
   ],
   "source": [
    "for key in bootstrap['labels']:\n",
    "    label_id = labels[key]['label_id']\n",
    "    names=labels[key]['names']\n",
    "    verbs=labels[key]['verbs']\n",
    "    noun=labels[key]['noun']\n",
    "    print(f\"label:{key},label_id:{label_id}, name:{names}, verbs:{verbs}, noun:{noun}\")\n",
    "        \n",
    "            "
   ]
  },
  {
   "cell_type": "code",
   "execution_count": 64,
   "id": "710bb735-c1cd-4f81-a644-c0372a945a4c",
   "metadata": {},
   "outputs": [
    {
     "data": {
      "text/plain": [
       "['write bootstrap', 'bootstrap', 'tell bootstrap']"
      ]
     },
     "execution_count": 64,
     "metadata": {},
     "output_type": "execute_result"
    }
   ],
   "source": [
    "labels[kys[0]]['names']"
   ]
  },
  {
   "cell_type": "code",
   "execution_count": null,
   "id": "8367e429-e51a-429b-9062-46f187f1e353",
   "metadata": {},
   "outputs": [],
   "source": []
  }
 ],
 "metadata": {
  "kernelspec": {
   "display_name": "Python 3 (ipykernel)",
   "language": "python",
   "name": "python3"
  },
  "language_info": {
   "codemirror_mode": {
    "name": "ipython",
    "version": 3
   },
   "file_extension": ".py",
   "mimetype": "text/x-python",
   "name": "python",
   "nbconvert_exporter": "python",
   "pygments_lexer": "ipython3",
   "version": "3.10.7"
  }
 },
 "nbformat": 4,
 "nbformat_minor": 5
}
