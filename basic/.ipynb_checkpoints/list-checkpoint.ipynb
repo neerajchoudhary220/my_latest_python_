{
 "cells": [
  {
   "cell_type": "code",
   "execution_count": 5,
   "id": "890f7b5f-dca0-4dff-bd74-2672c53577de",
   "metadata": {},
   "outputs": [
    {
     "name": "stdout",
     "output_type": "stream",
     "text": [
      "['Apple', 'Mango', 'Grapes']\n"
     ]
    }
   ],
   "source": [
    "print(fruits[:3])"
   ]
  },
  {
   "cell_type": "code",
   "execution_count": 1,
   "id": "9bc09cf7-31db-4d04-8b9c-1f8bb1a7c119",
   "metadata": {},
   "outputs": [
    {
     "ename": "NameError",
     "evalue": "name 'fruits' is not defined",
     "output_type": "error",
     "traceback": [
      "\u001b[1;31m---------------------------------------------------------------------------\u001b[0m",
      "\u001b[1;31mNameError\u001b[0m                                 Traceback (most recent call last)",
      "Cell \u001b[1;32mIn[1], line 1\u001b[0m\n\u001b[1;32m----> 1\u001b[0m \u001b[39mprint\u001b[39m(fruits[\u001b[39m2\u001b[39m:])\n",
      "\u001b[1;31mNameError\u001b[0m: name 'fruits' is not defined"
     ]
    }
   ],
   "source": [
    "print(fruits[2:])"
   ]
  },
  {
   "cell_type": "code",
   "execution_count": 150,
   "id": "9e530ed5-336b-49bf-8163-573aa95722a2",
   "metadata": {},
   "outputs": [
    {
     "name": "stdout",
     "output_type": "stream",
     "text": [
      "Kiwi\n"
     ]
    }
   ],
   "source": [
    "print(fruits[-1])"
   ]
  },
  {
   "cell_type": "code",
   "execution_count": 149,
   "id": "05a45deb-367c-40af-b757-683bd2bd5ba4",
   "metadata": {},
   "outputs": [
    {
     "name": "stdout",
     "output_type": "stream",
     "text": [
      "Mango\n"
     ]
    }
   ],
   "source": [
    "print(fruits[1])"
   ]
  },
  {
   "cell_type": "code",
   "execution_count": 151,
   "id": "8e7d0bf6-daa7-4f69-b2f5-085f94e3c481",
   "metadata": {},
   "outputs": [
    {
     "name": "stdout",
     "output_type": "stream",
     "text": [
      "['Mango', 'Grapes']\n"
     ]
    }
   ],
   "source": [
    "print(fruits[1:3])"
   ]
  },
  {
   "cell_type": "code",
   "execution_count": 36,
   "id": "fc3ee966-2cf4-4575-88a9-8e505eeee103",
   "metadata": {},
   "outputs": [
    {
     "name": "stdout",
     "output_type": "stream",
     "text": [
      "['Grapes', 'Cherry', 'Kiwi']\n"
     ]
    }
   ],
   "source": [
    "print(fruits[-4:-1])"
   ]
  },
  {
   "cell_type": "code",
   "execution_count": 82,
   "id": "342ae093-32f3-49f4-8fa1-1b028c5a8703",
   "metadata": {},
   "outputs": [],
   "source": [
    "vegitables =[\"Lady Finger\",\"Pumpkin\",\"Potato\",\"Chilli\"]"
   ]
  },
  {
   "cell_type": "code",
   "execution_count": 87,
   "id": "13e74540-07cc-4cb8-a838-6378b51f9ff8",
   "metadata": {},
   "outputs": [],
   "source": [
    "fruits.extend(vegitables)"
   ]
  },
  {
   "cell_type": "code",
   "execution_count": 91,
   "id": "438275fb-bfa0-4716-a70c-e5098db01824",
   "metadata": {},
   "outputs": [
    {
     "name": "stdout",
     "output_type": "stream",
     "text": [
      "0\n"
     ]
    }
   ],
   "source": [
    "total_mango = fruits.count(\"mango\")\n",
    "print(total_mango)"
   ]
  },
  {
   "cell_type": "code",
   "execution_count": 136,
   "id": "b3e22cf8-e7a1-45fc-b5ce-94ff6fd392d2",
   "metadata": {},
   "outputs": [
    {
     "name": "stdout",
     "output_type": "stream",
     "text": [
      "['Apple', 'Mango', 'Grapes', 'Cherry', 'Kiwi', 'Tomato', 'Tomato', 'Tomato']\n"
     ]
    }
   ],
   "source": [
    "print(fruits)"
   ]
  },
  {
   "cell_type": "code",
   "execution_count": 102,
   "id": "3967d461-0f9d-4c89-ad3f-77750d74ac0c",
   "metadata": {},
   "outputs": [
    {
     "data": {
      "text/plain": [
       "'Cherry'"
      ]
     },
     "execution_count": 102,
     "metadata": {},
     "output_type": "execute_result"
    }
   ],
   "source": [
    "#remove the element\n",
    "fruits.pop(2)"
   ]
  },
  {
   "cell_type": "code",
   "execution_count": 110,
   "id": "99cc75aa-e793-4d99-8c8c-e0decbf73b93",
   "metadata": {},
   "outputs": [],
   "source": [
    "#remove specific element\n",
    "fruits.remove('Apple')"
   ]
  },
  {
   "cell_type": "code",
   "execution_count": 215,
   "id": "1e2828c5-11bf-4afc-b60f-61d713dee512",
   "metadata": {},
   "outputs": [],
   "source": [
    "#append new item in fruits list\n",
    "fruits.append(\"Tomato\")"
   ]
  },
  {
   "cell_type": "code",
   "execution_count": 4,
   "id": "9793f1e9-051e-4bea-af4d-478e7deaf0f3",
   "metadata": {},
   "outputs": [
    {
     "name": "stdout",
     "output_type": "stream",
     "text": [
      "['Apple', 'Mango', 'Grapes', 'Mango', 'Kiwi', 'Mango']\n"
     ]
    }
   ],
   "source": [
    "fruits = [\"Apple\",\"Mango\",\"Grapes\",\"Mango\",\"Kiwi\",\"Mango\"]\n",
    "print(fruits)"
   ]
  },
  {
   "cell_type": "code",
   "execution_count": 5,
   "id": "69d1f06a-c15e-4f8a-97e7-b8eaa514ebce",
   "metadata": {},
   "outputs": [],
   "source": [
    "def removeDupllicateItem(data):\n",
    "    newlist =[]\n",
    "    for item in data:\n",
    "        if item not in newlist:\n",
    "            newlist.append(item)\n",
    "\n",
    "    \n",
    "    return newlist"
   ]
  },
  {
   "cell_type": "code",
   "execution_count": 6,
   "id": "f637c736-ce03-4b84-9891-835542d47de0",
   "metadata": {},
   "outputs": [
    {
     "name": "stdout",
     "output_type": "stream",
     "text": [
      "['Apple', 'Mango', 'Grapes', 'Kiwi']\n"
     ]
    }
   ],
   "source": [
    "print(removeDupllicateItem(fruits))"
   ]
  },
  {
   "cell_type": "code",
   "execution_count": null,
   "id": "3108d4af-f135-43d5-843b-1877a8ae3d63",
   "metadata": {},
   "outputs": [],
   "source": []
  }
 ],
 "metadata": {
  "kernelspec": {
   "display_name": "Python 3 (ipykernel)",
   "language": "python",
   "name": "python3"
  },
  "language_info": {
   "codemirror_mode": {
    "name": "ipython",
    "version": 3
   },
   "file_extension": ".py",
   "mimetype": "text/x-python",
   "name": "python",
   "nbconvert_exporter": "python",
   "pygments_lexer": "ipython3",
   "version": "3.10.7"
  }
 },
 "nbformat": 4,
 "nbformat_minor": 5
}
