{
 "cells": [
  {
   "cell_type": "code",
   "execution_count": 17,
   "id": "e8bfa9ba-4198-4406-84bd-1523d58141c0",
   "metadata": {},
   "outputs": [
    {
     "name": "stdout",
     "output_type": "stream",
     "text": [
      "   fruits  price\n",
      "0   Mango    100\n",
      "1   Apple    200\n",
      "2  Grapes    120\n"
     ]
    }
   ],
   "source": [
    "import pandas as pd\n",
    "mydataset = {\n",
    "    'fruits':['Mango','Apple','Grapes'],\n",
    "    'price':[100,200,120]\n",
    "}\n",
    "df = pd.DataFrame(mydataset)\n",
    "print(df)\n"
   ]
  },
  {
   "cell_type": "code",
   "execution_count": 41,
   "id": "85755409-54b4-4148-8729-885af7ea887a",
   "metadata": {},
   "outputs": [
    {
     "name": "stdout",
     "output_type": "stream",
     "text": [
      "x    20\n",
      "y    11\n",
      "z    22\n",
      "dtype: int64\n"
     ]
    }
   ],
   "source": [
    "#series\n",
    "arr =[20,11,22]\n",
    "sr = pd.Series(arr,index=['x','y','z'])\n",
    "print(sr)"
   ]
  },
  {
   "cell_type": "code",
   "execution_count": 47,
   "id": "954b405b-545f-4f24-84b8-563497855d45",
   "metadata": {},
   "outputs": [
    {
     "name": "stdout",
     "output_type": "stream",
     "text": [
      "20\n"
     ]
    }
   ],
   "source": [
    "print(sr['x'])"
   ]
  },
  {
   "cell_type": "code",
   "execution_count": 48,
   "id": "735aabd6-c502-428a-b74a-466b0ba979c5",
   "metadata": {},
   "outputs": [
    {
     "name": "stdout",
     "output_type": "stream",
     "text": [
      "mango     120\n",
      "grapes    200\n",
      "apple     300\n",
      "dtype: int64\n"
     ]
    }
   ],
   "source": [
    "fruits_price = {\"mango\":120,\"grapes\":200,\"apple\":300}\n",
    "srs = pd.Series(fruits_price)\n",
    "print(srs)"
   ]
  },
  {
   "cell_type": "code",
   "execution_count": null,
   "id": "8a561e87-a116-4554-b139-e3d2675404c7",
   "metadata": {},
   "outputs": [],
   "source": []
  }
 ],
 "metadata": {
  "kernelspec": {
   "display_name": "Python 3 (ipykernel)",
   "language": "python",
   "name": "python3"
  },
  "language_info": {
   "codemirror_mode": {
    "name": "ipython",
    "version": 3
   },
   "file_extension": ".py",
   "mimetype": "text/x-python",
   "name": "python",
   "nbconvert_exporter": "python",
   "pygments_lexer": "ipython3",
   "version": "3.10.7"
  }
 },
 "nbformat": 4,
 "nbformat_minor": 5
}
