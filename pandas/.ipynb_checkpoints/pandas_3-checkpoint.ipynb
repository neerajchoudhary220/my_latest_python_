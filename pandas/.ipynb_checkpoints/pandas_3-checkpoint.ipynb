{
 "cells": [
  {
   "cell_type": "code",
   "execution_count": 1,
   "id": "1c392f2a-4824-4900-bd5b-22dde2c425ec",
   "metadata": {},
   "outputs": [
    {
     "name": "stdout",
     "output_type": "stream",
     "text": [
      "   fruits  price\n",
      "0   Mango    100\n",
      "1  Grapes     50\n",
      "2   Apple    200\n"
     ]
    }
   ],
   "source": [
    "import pandas as pd\n",
    "fruits_and_price = {\n",
    "    \"fruits\":[\"Mango\",\"Grapes\",\"Apple\"],\n",
    "    \"price\":[100,50,200]\n",
    "}\n",
    "df = pd.DataFrame(fruits_and_price)\n",
    "print(df)"
   ]
  },
  {
   "cell_type": "code",
   "execution_count": 2,
   "id": "ece6d4b0-dbd0-40c5-9a65-3975b1eb721f",
   "metadata": {},
   "outputs": [
    {
     "name": "stdout",
     "output_type": "stream",
     "text": [
      "fruits    Mango\n",
      "price       100\n",
      "Name: 0, dtype: object\n"
     ]
    }
   ],
   "source": [
    "print(df.loc[0])"
   ]
  },
  {
   "cell_type": "code",
   "execution_count": 3,
   "id": "8b373170-346d-4d55-8030-9d2ddd8ac744",
   "metadata": {},
   "outputs": [
    {
     "name": "stdout",
     "output_type": "stream",
     "text": [
      "   fruits  price\n",
      "0   Mango    100\n",
      "1  Grapes     50\n",
      "2   Apple    200\n"
     ]
    }
   ],
   "source": [
    "row2 = df.loc[[0,1,2]]\n",
    "print(row2)"
   ]
  },
  {
   "cell_type": "code",
   "execution_count": 4,
   "id": "5931f2a2-f3ff-4948-b059-c557c4286b67",
   "metadata": {},
   "outputs": [
    {
     "name": "stdout",
     "output_type": "stream",
     "text": [
      "   fruits  price\n",
      "M   Mango    100\n",
      "G  Grapes     50\n",
      "A   Apple    200\n"
     ]
    }
   ],
   "source": [
    "#use index\n",
    "mylabel =[\"M\",\"G\",\"A\"]\n",
    "wLbl = pd.DataFrame(fruits_and_price, index=mylabel)\n",
    "print(wLbl)"
   ]
  },
  {
   "cell_type": "code",
   "execution_count": 5,
   "id": "99dc42a0-bc35-4f12-939e-50bd98c8fcfd",
   "metadata": {},
   "outputs": [
    {
     "name": "stdout",
     "output_type": "stream",
     "text": [
      "   fruits  price\n",
      "M   Mango    100\n",
      "G  Grapes     50\n"
     ]
    }
   ],
   "source": [
    "print(wLbl.loc[['M','G']])"
   ]
  },
  {
   "cell_type": "code",
   "execution_count": null,
   "id": "2fef43fd-abe5-4855-981b-48d1bb1724fe",
   "metadata": {},
   "outputs": [],
   "source": []
  },
  {
   "cell_type": "code",
   "execution_count": 6,
   "id": "cccbe061-512b-4caa-85f3-2aa1a924b97f",
   "metadata": {},
   "outputs": [
    {
     "name": "stdout",
     "output_type": "stream",
     "text": [
      "     Duration  Pulse  Maxpulse  Calories\n",
      "0          60    110       130     409.1\n",
      "1          60    117       145     479.0\n",
      "2          60    103       135     340.0\n",
      "3          45    109       175     282.4\n",
      "4          45    117       148     406.0\n",
      "..        ...    ...       ...       ...\n",
      "164        60    105       140     290.8\n",
      "165        60    110       145     300.0\n",
      "166        60    115       145     310.2\n",
      "167        75    120       150     320.4\n",
      "168        75    125       150     330.4\n",
      "\n",
      "[169 rows x 4 columns]\n"
     ]
    }
   ],
   "source": [
    "#read csv file\n",
    "file = f\"csv_files/data.csv\"\n",
    "df = pd.read_csv(file)\n",
    "print(df)\n"
   ]
  },
  {
   "cell_type": "code",
   "execution_count": 7,
   "id": "657d203f-b5c3-4abd-a5df-df46894d52ff",
   "metadata": {},
   "outputs": [],
   "source": [
    "#read full csv\n",
    "# print(df.to_string())"
   ]
  },
  {
   "cell_type": "code",
   "execution_count": 8,
   "id": "7c016386-5553-4944-9f39-7ba75f3c96b3",
   "metadata": {},
   "outputs": [
    {
     "name": "stdout",
     "output_type": "stream",
     "text": [
      "60\n"
     ]
    }
   ],
   "source": [
    "#check max rows in system\n",
    "print(pd.options.display.max_rows)"
   ]
  },
  {
   "cell_type": "code",
   "execution_count": 10,
   "id": "efb73ee0-5bd8-4e60-b384-05ad0f814907",
   "metadata": {},
   "outputs": [],
   "source": [
    "#set the max rows\n",
    "# pd.options.display.max_rows=999\n",
    "# print(df)"
   ]
  },
  {
   "cell_type": "code",
   "execution_count": 16,
   "id": "51e82b42-3b2b-4cd7-b79b-d44ee86838db",
   "metadata": {},
   "outputs": [
    {
     "name": "stdout",
     "output_type": "stream",
     "text": [
      "   Duration  Pulse  Maxpulse  Calories\n",
      "0        60    110       130     409.1\n",
      "1        60    117       145     479.0\n"
     ]
    }
   ],
   "source": [
    "#get heading use head() method\n",
    "print(df.head(2))"
   ]
  },
  {
   "cell_type": "code",
   "execution_count": 17,
   "id": "276ec775-7b6b-4598-8ac4-086421b8b41a",
   "metadata": {},
   "outputs": [
    {
     "name": "stdout",
     "output_type": "stream",
     "text": [
      "     Duration  Pulse  Maxpulse  Calories\n",
      "164        60    105       140     290.8\n",
      "165        60    110       145     300.0\n",
      "166        60    115       145     310.2\n",
      "167        75    120       150     320.4\n",
      "168        75    125       150     330.4\n"
     ]
    }
   ],
   "source": [
    "#use tail() method\n",
    "print(df.tail())"
   ]
  },
  {
   "cell_type": "code",
   "execution_count": 18,
   "id": "9150c4b8-9a9c-4e2c-8d01-9f98be4d754c",
   "metadata": {},
   "outputs": [
    {
     "name": "stdout",
     "output_type": "stream",
     "text": [
      "<class 'pandas.core.frame.DataFrame'>\n",
      "RangeIndex: 169 entries, 0 to 168\n",
      "Data columns (total 4 columns):\n",
      " #   Column    Non-Null Count  Dtype  \n",
      "---  ------    --------------  -----  \n",
      " 0   Duration  169 non-null    int64  \n",
      " 1   Pulse     169 non-null    int64  \n",
      " 2   Maxpulse  169 non-null    int64  \n",
      " 3   Calories  164 non-null    float64\n",
      "dtypes: float64(1), int64(3)\n",
      "memory usage: 5.4 KB\n",
      "None\n"
     ]
    }
   ],
   "source": [
    "#info()\n",
    "print(df.info())"
   ]
  },
  {
   "cell_type": "code",
   "execution_count": null,
   "id": "e238de23-00c8-4bfe-b6ee-a4714147cce2",
   "metadata": {},
   "outputs": [],
   "source": []
  }
 ],
 "metadata": {
  "kernelspec": {
   "display_name": "Python 3 (ipykernel)",
   "language": "python",
   "name": "python3"
  },
  "language_info": {
   "codemirror_mode": {
    "name": "ipython",
    "version": 3
   },
   "file_extension": ".py",
   "mimetype": "text/x-python",
   "name": "python",
   "nbconvert_exporter": "python",
   "pygments_lexer": "ipython3",
   "version": "3.10.7"
  }
 },
 "nbformat": 4,
 "nbformat_minor": 5
}
